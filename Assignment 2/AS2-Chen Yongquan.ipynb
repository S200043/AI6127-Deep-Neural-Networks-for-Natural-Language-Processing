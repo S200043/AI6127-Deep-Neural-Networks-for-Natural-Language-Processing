{
 "cells": [
  {
   "cell_type": "markdown",
   "id": "married-caribbean",
   "metadata": {},
   "source": [
    "# Assignment 2 - Chen Yongquan [G2002341D]"
   ]
  },
  {
   "cell_type": "code",
   "execution_count": null,
   "id": "worst-noise",
   "metadata": {},
   "outputs": [],
   "source": [
    "from __future__ import unicode_literals, print_function, division\n",
    "# from html.parser import HTMLParser\n",
    "from io import open\n",
    "# from itertools import repeat\n",
    "# from nltk.tokenize import sent_tokenize\n",
    "import matplotlib.pyplot as plt\n",
    "import matplotlib.ticker as ticker\n",
    "import numpy as np\n",
    "# import operator\n",
    "import os\n",
    "import random\n",
    "import re\n",
    "import string\n",
    "import unicodedata\n",
    "\n",
    "import torch\n",
    "import torch.nn as nn\n",
    "from torch import optim\n",
    "import torch.nn.functional as F\n",
    "\n",
    "plt.switch_backend('agg')\n",
    "%matplotlib inline\n",
    "\n",
    "device = torch.device(\"cuda\" if torch.cuda.is_available() else \"cpu\")"
   ]
  },
  {
   "cell_type": "markdown",
   "id": "logical-greeting",
   "metadata": {},
   "source": [
    "# Reading Dataset"
   ]
  },
  {
   "cell_type": "code",
   "execution_count": null,
   "id": "editorial-nashville",
   "metadata": {},
   "outputs": [],
   "source": [
    "SOS_token = 0\n",
    "EOS_token = 1\n",
    "\n",
    "class Lang:\n",
    "    def __init__(self, name):\n",
    "        self.name = name\n",
    "        self.word2index = {}\n",
    "        self.word2count = {}\n",
    "        self.index2word = {0: \"SOS\", 1: \"EOS\"}\n",
    "        self.n_words = 2  # Count SOS and EOS\n",
    "\n",
    "    def addSentence(self, sentence):\n",
    "        for word in sentence.split(' '):\n",
    "            self.addWord(word)\n",
    "\n",
    "    def addWord(self, word):\n",
    "        if word not in self.word2index:\n",
    "            self.word2index[word] = self.n_words\n",
    "            self.word2count[word] = 1\n",
    "            self.index2word[self.n_words] = word\n",
    "            self.n_words += 1\n",
    "        else:\n",
    "            self.word2count[word] += 1"
   ]
  },
  {
   "cell_type": "code",
   "execution_count": null,
   "id": "endless-office",
   "metadata": {},
   "outputs": [],
   "source": [
    "# Turn a Unicode string to plain ASCII, thanks to\n",
    "# https://stackoverflow.com/a/518232/2809427\n",
    "def unicodeToAscii(s):\n",
    "    return ''.join(\n",
    "        c for c in unicodedata.normalize('NFD', s)\n",
    "        if unicodedata.category(c) != 'Mn'\n",
    "    )\n",
    "\n",
    "# Lowercase, trim, and remove non-letter characters\n",
    "def normalizeString(s):\n",
    "    s = unicodeToAscii(s.lower().strip())\n",
    "    s = re.sub(r\"([.!?])\", r\" \\1\", s)\n",
    "    s = re.sub(r\"[^a-zA-Z.!?]+\", r\" \", s)\n",
    "    return s"
   ]
  },
  {
   "cell_type": "code",
   "execution_count": null,
   "id": "transparent-confusion",
   "metadata": {},
   "outputs": [],
   "source": [
    "\"\"\"\n",
    "class WMT14Parser(HTMLParser):\n",
    "    def __init__(self):\n",
    "        super().__init__()\n",
    "        self.sents = []\n",
    "        self.author = False\n",
    "\n",
    "    def handle_starttag(self, tag, attrs):\n",
    "        if tag == 'author': self.author = True\n",
    "        else: self.author = False\n",
    "\n",
    "    def handle_data(self, data):\n",
    "      if not self.author:\n",
    "        self.sents.append(data.strip())\n",
    "\n",
    "def parse_text_file(parser, file):\n",
    "  parser.feed(open(file, encoding = 'utf-8').read())\n",
    "\n",
    "def readLangs(lang1, lang2, reverse=False):\n",
    "    print(\"Reading lines...\")\n",
    "\n",
    "    # Read the file and split into lines\n",
    "    lang1_txtfiles = list(map(os.path.join, repeat('data\\%s-%s\\%s' % (lang1, lang2, lang1)), os.listdir('data\\%s-%s\\%s' % (lang1, lang2, lang1))))\n",
    "    lang2_txtfiles = list(map(os.path.join, repeat('data\\%s-%s\\%s' % (lang1, lang2, lang2)), os.listdir('data\\%s-%s\\%s' % (lang1, lang2, lang2))))\n",
    "    lang1_parser = WMT14Parser()\n",
    "    lang2_parser = WMT14Parser()\n",
    "    print(\"Reading %s...\" % lang1)\n",
    "    any(map(parse_text_file, repeat(lang1_parser), lang1_txtfiles))\n",
    "    print(\"Reading %s...\" % lang2)\n",
    "    any(map(parse_text_file, repeat(lang2_parser), lang2_txtfiles))\n",
    "\n",
    "    # Split every line into pairs and normalize\n",
    "    print(\"Normalizing Strings...\")\n",
    "    pairs = [[normalizeString(l1), normalizeString(l2)] for l1, l2 in list(zip(lang1_parser.sents, lang2_parser.sents))]\n",
    "\n",
    "    # Reverse pairs, make Lang instances\n",
    "    if reverse:\n",
    "        pairs = [list(reversed(p)) for p in pairs]\n",
    "        input_lang = Lang(lang2)\n",
    "        output_lang = Lang(lang1)\n",
    "    else:\n",
    "        input_lang = Lang(lang1)\n",
    "        output_lang = Lang(lang2)\n",
    "\n",
    "    return input_lang, output_lang, pairs\n",
    "\"\"\"\n",
    "\n",
    "def readLangs(lang1, lang2, reverse=False):\n",
    "    print(\"Reading lines...\")\n",
    "\n",
    "    # Read the file and split into lines\n",
    "    lang1_txt = open('data/news-commentary-v9.%s-%s.%s' % (lang1, lang2, lang1), \"rb\").read().decode(encoding=\"utf-8\").strip().split('\\n')\n",
    "    lang2_txt = open('data/news-commentary-v9.%s-%s.%s' % (lang1, lang2, lang2), \"rb\").read().decode(encoding=\"utf-8\").strip().split('\\n')\n",
    "    print('%s: %d' % (lang1, len(lang1_txt)))\n",
    "    print('%s: %d' % (lang2, len(lang2_txt)))\n",
    "\n",
    "    # Split every line into pairs and normalize\n",
    "    pairs = [[normalizeString(l1), normalizeString(l2)] for l1, l2 in list(zip(lang1_txt, lang2_txt))]\n",
    "\n",
    "    # Reverse pairs, make Lang instances\n",
    "    if reverse:\n",
    "        pairs = [list(reversed(p)) for p in pairs]\n",
    "        input_lang = Lang(lang2)\n",
    "        output_lang = Lang(lang1)\n",
    "    else:\n",
    "        input_lang = Lang(lang1)\n",
    "        output_lang = Lang(lang2)\n",
    "\n",
    "    return input_lang, output_lang, pairs"
   ]
  },
  {
   "cell_type": "code",
   "execution_count": null,
   "id": "musical-worker",
   "metadata": {},
   "outputs": [],
   "source": [
    "def prepareData5Fold(lang1, lang2, reverse=False):\n",
    "    input_lang, output_lang, pairs = readLangs(lang1, lang2, reverse)\n",
    "    print(\"Read %s sentence pairs\" % len(pairs))\n",
    "\n",
    "    # collect test pairs\n",
    "    num_test = int(len(pairs)*0.2)\n",
    "    random.shuffle(pairs)\n",
    "\n",
    "    input_langs = []\n",
    "    output_langs = []\n",
    "    train_pairs = []\n",
    "    test_pairs = []\n",
    "    for i in range(5):\n",
    "      print(\"Processing set %d...\" % (i + 1))\n",
    "      if i == 0:\n",
    "        train_pairs.append(pairs[num_test:])\n",
    "        test_pairs.append(pairs[:num_test])\n",
    "      elif i == 4:\n",
    "        train_pairs.append(pairs[:i * num_test])\n",
    "        test_pairs.append(pairs[i * num_test:])\n",
    "      else:\n",
    "        train_pairs.append(pairs[:i * num_test] + pairs[(i + 1) * num_test:])\n",
    "        test_pairs.append(pairs[i * num_test:(i + 1) * num_test])\n",
    "      input_langs.append(Lang(input_lang.name))\n",
    "      output_langs.append(Lang(output_lang.name))\n",
    "      for pair in train_pairs[i]:\n",
    "        input_langs[i].addSentence(pair[0])\n",
    "        output_langs[i].addSentence(pair[1])\n",
    "\n",
    "    subsets = []\n",
    "    for i in range(5):\n",
    "      subsets.append({\n",
    "        'input_lang': input_langs[i],\n",
    "        'output_lang': output_langs[i],\n",
    "        'train_pairs': train_pairs[i],\n",
    "        'test_pairs': test_pairs[i]\n",
    "      })\n",
    "      print('')\n",
    "      print('Subset %d:' % (i + 1))\n",
    "      print(\"Number of train pairs:\", len(subsets[i]['train_pairs']))\n",
    "      print(\"Number of test pairs:\", len(subsets[i]['test_pairs']))\n",
    "      print(\"Counted words:\")\n",
    "      print(subsets[i]['input_lang'].name, subsets[i]['input_lang'].n_words)\n",
    "      print(subsets[i]['output_lang'].name, subsets[i]['output_lang'].n_words)\n",
    "\n",
    "    return subsets"
   ]
  },
  {
   "cell_type": "code",
   "execution_count": null,
   "id": "endangered-index",
   "metadata": {},
   "outputs": [
    {
     "name": "stdout",
     "output_type": "stream",
     "text": [
      "Reading lines...\n",
      "cs: 146549\n",
      "en: 146549\n",
      "Read 146549 sentence pairs\n",
      "Processing set 1...\n",
      "Processing set 2...\n",
      "Processing set 3...\n",
      "Processing set 4...\n",
      "Processing set 5...\n",
      "\n",
      "Subset 1:\n",
      "Number of train pairs: 117240\n",
      "Number of test pairs: 29309\n",
      "Counted words:\n",
      "cs 116035\n",
      "en 38810\n",
      "\n",
      "Subset 2:\n",
      "Number of train pairs: 117240\n",
      "Number of test pairs: 29309\n",
      "Counted words:\n",
      "cs 116302\n",
      "en 38881\n",
      "\n",
      "Subset 3:\n",
      "Number of train pairs: 117240\n",
      "Number of test pairs: 29309\n",
      "Counted words:\n",
      "cs 114971\n",
      "en 38518\n",
      "\n",
      "Subset 4:\n",
      "Number of train pairs: 117240\n",
      "Number of test pairs: 29309\n",
      "Counted words:\n",
      "cs 115663\n",
      "en 38722\n",
      "\n",
      "Subset 5:\n",
      "Number of train pairs: 117236\n",
      "Number of test pairs: 29313\n",
      "Counted words:\n",
      "cs 115839\n",
      "en 38837\n"
     ]
    }
   ],
   "source": [
    "CS_subsets = prepareData5Fold('cs', 'en')"
   ]
  },
  {
   "cell_type": "code",
   "execution_count": null,
   "id": "honest-lebanon",
   "metadata": {},
   "outputs": [
    {
     "name": "stdout",
     "output_type": "stream",
     "text": [
      "Reading lines...\n",
      "de: 201288\n",
      "en: 201288\n",
      "Read 201288 sentence pairs\n",
      "Processing set 1...\n",
      "Processing set 2...\n",
      "Processing set 3...\n",
      "Processing set 4...\n",
      "Processing set 5...\n",
      "\n",
      "Subset 1:\n",
      "Number of train pairs: 161031\n",
      "Number of test pairs: 40257\n",
      "Counted words:\n",
      "de 118573\n",
      "en 44404\n",
      "\n",
      "Subset 2:\n",
      "Number of train pairs: 161031\n",
      "Number of test pairs: 40257\n",
      "Counted words:\n",
      "de 119031\n",
      "en 44580\n",
      "\n",
      "Subset 3:\n",
      "Number of train pairs: 161031\n",
      "Number of test pairs: 40257\n",
      "Counted words:\n",
      "de 118591\n",
      "en 44136\n",
      "\n",
      "Subset 4:\n",
      "Number of train pairs: 161031\n",
      "Number of test pairs: 40257\n",
      "Counted words:\n",
      "de 117954\n",
      "en 44359\n",
      "\n",
      "Subset 5:\n",
      "Number of train pairs: 161028\n",
      "Number of test pairs: 40260\n",
      "Counted words:\n",
      "de 118517\n",
      "en 44318\n"
     ]
    }
   ],
   "source": [
    "DE_subsets = prepareData5Fold('de', 'en')"
   ]
  },
  {
   "cell_type": "code",
   "execution_count": null,
   "id": "adult-canada",
   "metadata": {},
   "outputs": [
    {
     "name": "stdout",
     "output_type": "stream",
     "text": [
      "Reading lines...\n",
      "fr: 183251\n",
      "en: 183251\n",
      "Read 183251 sentence pairs\n",
      "Processing set 1...\n",
      "Processing set 2...\n",
      "Processing set 3...\n",
      "Processing set 4...\n",
      "Processing set 5...\n",
      "\n",
      "Subset 1:\n",
      "Number of train pairs: 146601\n",
      "Number of test pairs: 36650\n",
      "Counted words:\n",
      "fr 57494\n",
      "en 42679\n",
      "\n",
      "Subset 2:\n",
      "Number of train pairs: 146601\n",
      "Number of test pairs: 36650\n",
      "Counted words:\n",
      "fr 56616\n",
      "en 42658\n",
      "\n",
      "Subset 3:\n",
      "Number of train pairs: 146601\n",
      "Number of test pairs: 36650\n",
      "Counted words:\n",
      "fr 57254\n",
      "en 42535\n",
      "\n",
      "Subset 4:\n",
      "Number of train pairs: 146601\n",
      "Number of test pairs: 36650\n",
      "Counted words:\n",
      "fr 56984\n",
      "en 42607\n",
      "\n",
      "Subset 5:\n",
      "Number of train pairs: 146600\n",
      "Number of test pairs: 36651\n",
      "Counted words:\n",
      "fr 57195\n",
      "en 42667\n"
     ]
    }
   ],
   "source": [
    "FR_subsets = prepareData5Fold('fr', 'en')"
   ]
  },
  {
   "cell_type": "code",
   "execution_count": null,
   "id": "expected-pillow",
   "metadata": {},
   "outputs": [
    {
     "name": "stdout",
     "output_type": "stream",
     "text": [
      "Reading lines...\n",
      "ru: 165602\n",
      "en: 165602\n",
      "Read 165602 sentence pairs\n",
      "Processing set 1...\n",
      "Processing set 2...\n",
      "Processing set 3...\n",
      "Processing set 4...\n",
      "Processing set 5...\n",
      "\n",
      "Subset 1:\n",
      "Number of train pairs: 132482\n",
      "Number of test pairs: 33120\n",
      "Counted words:\n",
      "ru 3840\n",
      "en 41683\n",
      "\n",
      "Subset 2:\n",
      "Number of train pairs: 132482\n",
      "Number of test pairs: 33120\n",
      "Counted words:\n",
      "ru 4000\n",
      "en 41869\n",
      "\n",
      "Subset 3:\n",
      "Number of train pairs: 132482\n",
      "Number of test pairs: 33120\n",
      "Counted words:\n",
      "ru 3966\n",
      "en 41612\n",
      "\n",
      "Subset 4:\n",
      "Number of train pairs: 132482\n",
      "Number of test pairs: 33120\n",
      "Counted words:\n",
      "ru 3960\n",
      "en 41776\n",
      "\n",
      "Subset 5:\n",
      "Number of train pairs: 132480\n",
      "Number of test pairs: 33122\n",
      "Counted words:\n",
      "ru 4272\n",
      "en 41820\n"
     ]
    }
   ],
   "source": [
    "RU_subsets = prepareData5Fold('ru', 'en')"
   ]
  },
  {
   "cell_type": "markdown",
   "id": "julian-spouse",
   "metadata": {},
   "source": [
    "# The Encoder"
   ]
  },
  {
   "cell_type": "code",
   "execution_count": null,
   "id": "realistic-caribbean",
   "metadata": {},
   "outputs": [],
   "source": [
    "class EncoderRNN(nn.Module):\n",
    "    def __init__(self, input_size, hidden_size, embedding_size):\n",
    "        super(EncoderRNN, self).__init__()\n",
    "        self.hidden_size = hidden_size\n",
    "        self.embedding_size = embedding_size\n",
    "\n",
    "        self.embedding = nn.Embedding(input_size, embedding_size)\n",
    "        self.gru = nn.GRU(embedding_size, hidden_size)\n",
    "\n",
    "    def forward(self, input, hidden):\n",
    "        embedded = self.embedding(input).view(1, 1, -1)\n",
    "        output = embedded\n",
    "        output, hidden = self.gru(output, hidden)\n",
    "        return output, hidden\n",
    "\n",
    "    def initHidden(self):\n",
    "        return torch.zeros(1, 1, self.hidden_size, device=device)"
   ]
  },
  {
   "cell_type": "markdown",
   "id": "basic-sierra",
   "metadata": {},
   "source": [
    "# The Decoder"
   ]
  },
  {
   "cell_type": "code",
   "execution_count": null,
   "id": "celtic-swedish",
   "metadata": {},
   "outputs": [],
   "source": [
    "class AttnDecoderRNN(nn.Module):\n",
    "    def __init__(self, hidden_size, embedding_size, output_size, max_length, dropout_p=0.1):\n",
    "        super(AttnDecoderRNN, self).__init__()\n",
    "        self.hidden_size = hidden_size\n",
    "        self.embedding_size = embedding_size\n",
    "        self.output_size = output_size\n",
    "        self.dropout_p = dropout_p\n",
    "        self.max_length = max_length\n",
    "\n",
    "        self.embedding = nn.Embedding(self.output_size, self.embedding_size)\n",
    "        self.attn = nn.Linear(self.embedding_size + self.hidden_size, self.max_length)\n",
    "        self.attn_combine = nn.Linear(self.embedding_size + self.hidden_size, self.hidden_size)\n",
    "        self.dropout = nn.Dropout(self.dropout_p)\n",
    "        self.gru = nn.GRU(self.hidden_size, self.hidden_size)\n",
    "        self.out = nn.Linear(self.hidden_size, self.output_size)\n",
    "\n",
    "    def forward(self, input, hidden, encoder_outputs):\n",
    "        embedded = self.embedding(input).view(1, 1, -1)\n",
    "        embedded = self.dropout(embedded)\n",
    "\n",
    "        attn_weights = F.softmax(\n",
    "            self.attn(torch.cat((embedded[0], hidden[0]), 1)), dim=1)\n",
    "        attn_applied = torch.bmm(attn_weights.unsqueeze(0),\n",
    "                                 encoder_outputs.unsqueeze(0))\n",
    "\n",
    "        output = torch.cat((embedded[0], attn_applied[0]), 1)\n",
    "        output = self.attn_combine(output).unsqueeze(0)\n",
    "\n",
    "        output = F.relu(output)\n",
    "        output, hidden = self.gru(output, hidden)\n",
    "\n",
    "        output = F.log_softmax(self.out(output[0]), dim=1)\n",
    "        return output, hidden, attn_weights\n",
    "\n",
    "    def initHidden(self):\n",
    "        return torch.zeros(1, 1, self.hidden_size, device=device)"
   ]
  },
  {
   "cell_type": "markdown",
   "id": "congressional-elimination",
   "metadata": {},
   "source": [
    "# Training\n",
    "## Preparing Training Data"
   ]
  },
  {
   "cell_type": "code",
   "execution_count": null,
   "id": "pretty-cowboy",
   "metadata": {},
   "outputs": [],
   "source": [
    "def indexesFromSentence(lang, sentence):\n",
    "    return [lang.word2index[word] for word in sentence.split(' ') if word in lang.word2index]\n",
    "\n",
    "\n",
    "def tensorFromSentence(lang, sentence):\n",
    "    indexes = indexesFromSentence(lang, sentence)\n",
    "    indexes.append(EOS_token)\n",
    "    return torch.tensor(indexes, dtype=torch.long, device=device).view(-1, 1)\n",
    "\n",
    "\n",
    "def tensorsFromPair(pair, input_lang, output_lang):\n",
    "    input_tensor = tensorFromSentence(input_lang, pair[0])\n",
    "    target_tensor = tensorFromSentence(output_lang, pair[1])\n",
    "    return (input_tensor, target_tensor)"
   ]
  },
  {
   "cell_type": "markdown",
   "id": "daily-lotus",
   "metadata": {},
   "source": [
    "Training the Model\n",
    "------------------"
   ]
  },
  {
   "cell_type": "code",
   "execution_count": null,
   "id": "basic-technique",
   "metadata": {},
   "outputs": [],
   "source": [
    "teacher_forcing_ratio = 0.5\n",
    "\n",
    "def train(input_tensor, target_tensor, encoder, decoder, encoder_optimizer, decoder_optimizer, criterion, max_length):\n",
    "    encoder_hidden = encoder.initHidden()\n",
    "\n",
    "    encoder_optimizer.zero_grad()\n",
    "    decoder_optimizer.zero_grad()\n",
    "\n",
    "    input_length = input_tensor.size(0)\n",
    "    target_length = target_tensor.size(0)\n",
    "\n",
    "    encoder_outputs = torch.zeros(max_length, encoder.hidden_size, device=device)\n",
    "\n",
    "    loss = 0\n",
    "    for ei in range(input_length):\n",
    "        encoder_output, encoder_hidden = encoder(\n",
    "            input_tensor[ei], encoder_hidden)\n",
    "        encoder_outputs[ei] = encoder_output[0, 0]\n",
    "\n",
    "    decoder_input = torch.tensor([[SOS_token]], device=device)\n",
    "\n",
    "    decoder_hidden = encoder_hidden\n",
    "\n",
    "    use_teacher_forcing = True if random.random() < teacher_forcing_ratio else False\n",
    "\n",
    "    if use_teacher_forcing:\n",
    "        # Teacher forcing: Feed the target as the next input\n",
    "        for di in range(target_length):\n",
    "            decoder_output, decoder_hidden, decoder_attention = decoder(\n",
    "                decoder_input, decoder_hidden, encoder_outputs)\n",
    "            loss += criterion(decoder_output, target_tensor[di])\n",
    "            decoder_input = target_tensor[di]  # Teacher forcing\n",
    "\n",
    "    else:\n",
    "        # Without teacher forcing: use its own predictions as the next input\n",
    "        for di in range(target_length):\n",
    "            decoder_output, decoder_hidden, decoder_attention = decoder(\n",
    "                decoder_input, decoder_hidden, encoder_outputs)\n",
    "            topv, topi = decoder_output.topk(1)\n",
    "            decoder_input = topi.squeeze().detach()  # detach from history as input\n",
    "\n",
    "            loss += criterion(decoder_output, target_tensor[di])\n",
    "            if decoder_input.item() == EOS_token:\n",
    "                break\n",
    "\n",
    "    loss.backward()\n",
    "\n",
    "    encoder_optimizer.step()\n",
    "    decoder_optimizer.step()\n",
    "\n",
    "    return loss.item() / target_length"
   ]
  },
  {
   "cell_type": "code",
   "execution_count": null,
   "id": "sensitive-bobby",
   "metadata": {},
   "outputs": [],
   "source": [
    "import time\n",
    "import math\n",
    "\n",
    "\n",
    "def asMinutes(s):\n",
    "    m = math.floor(s / 60)\n",
    "    s -= m * 60\n",
    "    return '%dm %ds' % (m, s)\n",
    "\n",
    "\n",
    "def timeSince(since, percent):\n",
    "    now = time.time()\n",
    "    s = now - since\n",
    "    es = s / (percent)\n",
    "    rs = es - s\n",
    "    return '%s (- %s)' % (asMinutes(s), asMinutes(rs))"
   ]
  },
  {
   "cell_type": "code",
   "execution_count": null,
   "id": "weighted-bryan",
   "metadata": {},
   "outputs": [],
   "source": [
    "def trainIters(encoder, decoder, train_pairs, input_lang, output_lang, n_iters, max_length, print_every=1000, plot_every=100, learning_rate=0.01):\n",
    "    start = time.time()\n",
    "    plot_losses = []\n",
    "    print_loss_total = 0  # Reset every print_every\n",
    "    plot_loss_total = 0  # Reset every plot_every\n",
    "\n",
    "    encoder_optimizer = optim.SGD(encoder.parameters(), lr=learning_rate)\n",
    "    decoder_optimizer = optim.SGD(decoder.parameters(), lr=learning_rate)\n",
    "    training_pairs = [tensorsFromPair(random.choice(train_pairs), input_lang, output_lang)\n",
    "                      for i in range(n_iters)]\n",
    "    criterion = nn.NLLLoss()\n",
    "\n",
    "    for iter in range(1, n_iters + 1):\n",
    "        training_pair = training_pairs[iter - 1]\n",
    "        input_tensor = training_pair[0]\n",
    "        target_tensor = training_pair[1]\n",
    "\n",
    "        loss = train(input_tensor, target_tensor, encoder,\n",
    "                     decoder, encoder_optimizer, decoder_optimizer, criterion, max_length)\n",
    "        print_loss_total += loss\n",
    "        plot_loss_total += loss\n",
    "\n",
    "        if iter % print_every == 0:\n",
    "            print_loss_avg = print_loss_total / print_every\n",
    "            print_loss_total = 0\n",
    "            print('%s (%d %d%%) %.4f' % (timeSince(start, iter / n_iters),\n",
    "                                         iter, iter / n_iters * 100, print_loss_avg))\n",
    "\n",
    "        if iter % plot_every == 0:\n",
    "            plot_loss_avg = plot_loss_total / plot_every\n",
    "            plot_losses.append(plot_loss_avg)\n",
    "            plot_loss_total = 0\n",
    "\n",
    "    showPlot(plot_losses)\n",
    "    return plot_losses"
   ]
  },
  {
   "cell_type": "markdown",
   "id": "armed-founder",
   "metadata": {},
   "source": [
    "Plotting results\n",
    "----------------"
   ]
  },
  {
   "cell_type": "code",
   "execution_count": null,
   "id": "clinical-baseball",
   "metadata": {},
   "outputs": [],
   "source": [
    "def showPlot(points):\n",
    "    plt.figure()\n",
    "    fig, ax = plt.subplots()\n",
    "    # this locator puts ticks at regular intervals\n",
    "    loc = ticker.MultipleLocator(base=0.2)\n",
    "    ax.yaxis.set_major_locator(loc)\n",
    "    plt.plot(points)"
   ]
  },
  {
   "cell_type": "markdown",
   "id": "moved-price",
   "metadata": {},
   "source": [
    "Evaluation\n",
    "=========="
   ]
  },
  {
   "cell_type": "code",
   "execution_count": null,
   "id": "mobile-hierarchy",
   "metadata": {},
   "outputs": [],
   "source": [
    "def evaluate(encoder, decoder, input_lang, output_lang, sentence, max_length):\n",
    "    with torch.no_grad():\n",
    "        input_tensor = tensorFromSentence(input_lang, sentence)\n",
    "        input_length = input_tensor.size()[0]\n",
    "        encoder_hidden = encoder.initHidden()\n",
    "\n",
    "        encoder_outputs = torch.zeros(max_length, encoder.hidden_size, device=device)\n",
    "\n",
    "        for ei in range(input_length):\n",
    "            encoder_output, encoder_hidden = encoder(input_tensor[ei],\n",
    "                                                     encoder_hidden)\n",
    "            encoder_outputs[ei] += encoder_output[0, 0]\n",
    "\n",
    "        decoder_input = torch.tensor([[SOS_token]], device=device)  # SOS\n",
    "\n",
    "        decoder_hidden = encoder_hidden\n",
    "\n",
    "        decoded_words = []\n",
    "        decoder_attentions = torch.zeros(max_length, max_length)\n",
    "\n",
    "        for di in range(max_length):\n",
    "            decoder_output, decoder_hidden, decoder_attention = decoder(\n",
    "                decoder_input, decoder_hidden, encoder_outputs)\n",
    "            decoder_attentions[di] = decoder_attention.data\n",
    "            topv, topi = decoder_output.data.topk(1)\n",
    "            if topi.item() == EOS_token:\n",
    "                decoded_words.append('<EOS>')\n",
    "                break\n",
    "            else:\n",
    "                decoded_words.append(output_lang.index2word[topi.item()])\n",
    "\n",
    "            decoder_input = topi.squeeze().detach()\n",
    "\n",
    "        return decoded_words, decoder_attentions[:di + 1]"
   ]
  },
  {
   "cell_type": "code",
   "execution_count": null,
   "id": "julian-punch",
   "metadata": {},
   "outputs": [],
   "source": [
    "class BeamSearchNode(object):\n",
    "    def __init__(self, hiddenstate, previousNode, wordId, logProb, length):\n",
    "        '''\n",
    "        :param hiddenstate:\n",
    "        :param previousNode:\n",
    "        :param wordId:\n",
    "        :param logProb:\n",
    "        :param length:\n",
    "        '''\n",
    "        self.h = hiddenstate\n",
    "        self.prevNode = previousNode\n",
    "        self.wordid = wordId\n",
    "        self.logp = logProb\n",
    "        self.leng = length\n",
    "\n",
    "    def eval(self, alpha=1.0):\n",
    "        reward = 0\n",
    "        # Add here a function for shaping a reward\n",
    "\n",
    "        return self.logp / float(self.leng - 1 + 1e-6) + alpha * reward\n",
    "    \n",
    "    def __lt__(self, other):\n",
    "        return self.eval() < other.eval()\n",
    "    \n",
    "    \n",
    "from queue import PriorityQueue\n",
    "\n",
    "def evaluate_beam_search(encoder, decoder, input_lang, output_lang, sentence, max_length, beam_size=2):\n",
    "    with torch.no_grad():\n",
    "        input_tensor = tensorFromSentence(input_lang, sentence)\n",
    "        input_length = input_tensor.size()[0]\n",
    "        encoder_hidden = encoder.initHidden()\n",
    "\n",
    "        encoder_outputs = torch.zeros(max_length, encoder.hidden_size, device=device)\n",
    "\n",
    "        for ei in range(input_length):\n",
    "            encoder_output, encoder_hidden = encoder(input_tensor[ei],\n",
    "                                                     encoder_hidden)\n",
    "            encoder_outputs[ei] += encoder_output[0, 0]\n",
    "\n",
    "        decoder_input = torch.tensor([[SOS_token]], device=device)  # SOS\n",
    "\n",
    "        decoder_hidden = encoder_hidden\n",
    "\n",
    "        # Number of sentence to generate\n",
    "        endnodes = []\n",
    "        number_required = 1\n",
    "        \n",
    "        # starting node -  hidden vector, previous node, word id, logp, length\n",
    "        node = BeamSearchNode(decoder_hidden, None, decoder_input, 0, 1)\n",
    "        nodes = PriorityQueue()\n",
    "\n",
    "        # start the queue\n",
    "        nodes.put((-node.eval(), node))\n",
    "        qsize = 1\n",
    "        \n",
    "        # start beam search\n",
    "        while True:\n",
    "            # give up when decoding takes too long\n",
    "            if qsize > 2000: break\n",
    "\n",
    "            # fetch the best node\n",
    "            score, n = nodes.get()\n",
    "            decoder_input = n.wordid\n",
    "            decoder_hidden = n.h\n",
    "\n",
    "            if n.wordid.item() == EOS_token and n.prevNode != None:\n",
    "                endnodes.append((score, n))\n",
    "                # if we reached maximum # of sentences required\n",
    "                if len(endnodes) >= number_required:\n",
    "                    break\n",
    "                else:\n",
    "                    continue\n",
    "            #elif n.leng > max_length:\n",
    "            #    continue\n",
    "\n",
    "            # decode for one step using decoder\n",
    "            decoder_output, decoder_hidden, _ = decoder(decoder_input, decoder_hidden, encoder_outputs)\n",
    "\n",
    "            # PUT HERE REAL BEAM SEARCH OF TOP\n",
    "            log_prob, indexes = torch.topk(decoder_output, beam_size)\n",
    "            nextnodes = []\n",
    "\n",
    "            for new_k in range(beam_size):\n",
    "                decoded_t = indexes[0][new_k].view(1, -1)\n",
    "                log_p = log_prob[0][new_k].item()\n",
    "\n",
    "                node = BeamSearchNode(decoder_hidden, n, decoded_t, n.logp + log_p, n.leng + 1)\n",
    "                score = -node.eval()\n",
    "                nextnodes.append((score, node))\n",
    "\n",
    "            # put them into queue\n",
    "            for i in range(len(nextnodes)):\n",
    "                score, nn = nextnodes[i]\n",
    "                nodes.put((score, nn))\n",
    "                \n",
    "            # increase qsize\n",
    "            qsize += len(nextnodes) - 1\n",
    "            \n",
    "        # choose nbest paths, back trace them\n",
    "        if len(endnodes) == 0:\n",
    "            endnodes = [nodes.get() for _ in range(number_required)]\n",
    "\n",
    "        _, n = endnodes[0]\n",
    "        utterance = []\n",
    "        utterance.append(output_lang.index2word[n.wordid.item()])\n",
    "        \n",
    "        # back trace\n",
    "        while n.prevNode != None:\n",
    "            n = n.prevNode\n",
    "            utterance.append(output_lang.index2word[n.wordid.item()])\n",
    "\n",
    "        utterance = utterance[::-1]\n",
    "            \n",
    "    return utterance, None"
   ]
  },
  {
   "cell_type": "code",
   "execution_count": null,
   "id": "split-cardiff",
   "metadata": {},
   "outputs": [],
   "source": [
    "def evaluateRandomly(encoder, decoder, input_lang, output_lang, pairs, max_length, n=10):\n",
    "    for i in range(n):\n",
    "        pair = random.choice(pairs)\n",
    "        print('>', pair[0])\n",
    "        print('=', pair[1])\n",
    "        output_words, attentions = evaluate(encoder, decoder, input_lang, output_lang, pair[0], max_length)\n",
    "        output_sentence = ' '.join(output_words)\n",
    "        print('<', output_sentence)\n",
    "        print('')"
   ]
  },
  {
   "cell_type": "code",
   "execution_count": null,
   "id": "becoming-review",
   "metadata": {},
   "outputs": [],
   "source": [
    "from nltk.translate.bleu_score import corpus_bleu\n",
    "\n",
    "def evaluateBleu(encoder, decoder, input_lang, output_lang, test_pairs, max_length, print_every=1000):\n",
    "    start = time.time()\n",
    "    n_iters = len(test_pairs)\n",
    "    references, candidates, bleu = [], [], []\n",
    "    for i, pair in enumerate(test_pairs):\n",
    "        iter = i + 1\n",
    "        sent_eng, sents_fre = pair\n",
    "        sents_fre = [sents_fre.split(' ')]\n",
    "        output_words, _ = evaluate(encoder, decoder, input_lang, output_lang, sent_eng, max_length)\n",
    "        references.append(sents_fre)\n",
    "        candidates.append(output_words[:-1]) # Remove <EOS> token\n",
    "        if iter % print_every == 0:\n",
    "            print('%s (%d %d%%)' % (timeSince(start, iter / n_iters),\n",
    "                                    iter, iter / n_iters * 100))\n",
    "    print('%s (%d %d%%)' % (timeSince(start, 1.0),\n",
    "                            n_iters-1, 100))\n",
    "    bleu.append(corpus_bleu(references, candidates, weights=(1, 0, 0, 0))) # BLEU-1\n",
    "    bleu.append(corpus_bleu(references, candidates, weights=(0.5, 0.5, 0, 0))) # BLEU-2\n",
    "    bleu.append(corpus_bleu(references, candidates, weights=(0.33, 0.33, 0.33, 0))) # BLEU-3\n",
    "    bleu.append(corpus_bleu(references, candidates)) # BLEU-4\n",
    "    return bleu"
   ]
  },
  {
   "cell_type": "code",
   "execution_count": null,
   "id": "standard-voice",
   "metadata": {},
   "outputs": [],
   "source": [
    "from nltk.translate.bleu_score import corpus_bleu\n",
    "\n",
    "def evaluateBleu_beam_search(encoder, decoder, input_lang, output_lang, test_pairs, max_length, beam_size, print_every=1000):\n",
    "    start = time.time()\n",
    "    n_iters = len(test_pairs)\n",
    "    references, candidates, bleu = [], [], []\n",
    "    for i, pair in enumerate(test_pairs):\n",
    "        iter = i + 1\n",
    "        sent_eng, sents_fre = pair\n",
    "        sents_fre = [sents_fre.split(' ')]\n",
    "        output_words, _ = evaluate_beam_search(encoder,\n",
    "                                               decoder,\n",
    "                                               input_lang,\n",
    "                                               output_lang,\n",
    "                                               sent_eng,\n",
    "                                               max_length,\n",
    "                                               beam_size=beam_size)\n",
    "        references.append(sents_fre)\n",
    "        candidates.append(output_words[:-1]) # Remove <EOS> token\n",
    "        if iter % print_every == 0:\n",
    "            print('%s (%d %d%%)' % (timeSince(start, iter / n_iters),\n",
    "                                    iter, iter / n_iters * 100))\n",
    "    print('%s (%d %d%%)' % (timeSince(start, 1.0),\n",
    "                            n_iters-1, 100))\n",
    "    bleu.append(corpus_bleu(references, candidates, weights=(1, 0, 0, 0))) # BLEU-1\n",
    "    bleu.append(corpus_bleu(references, candidates, weights=(0.5, 0.5, 0, 0))) # BLEU-2\n",
    "    bleu.append(corpus_bleu(references, candidates, weights=(0.33, 0.33, 0.33, 0))) # BLEU-3\n",
    "    bleu.append(corpus_bleu(references, candidates)) # BLEU-4\n",
    "    return bleu"
   ]
  },
  {
   "cell_type": "markdown",
   "id": "computational-shower",
   "metadata": {},
   "source": [
    "Training and Evaluating\n",
    "======================="
   ]
  },
  {
   "cell_type": "markdown",
   "id": "surface-organic",
   "metadata": {},
   "source": [
    "## Czech"
   ]
  },
  {
   "cell_type": "code",
   "execution_count": null,
   "id": "hired-indicator",
   "metadata": {},
   "outputs": [],
   "source": [
    "CS_MAX_LENGTH = max([len(a.split(' ')) for a,b in CS_subsets[0]['train_pairs']]\n",
    "                  + [len(a.split(' ')) for a,b in CS_subsets[0]['test_pairs']]) + 1\n",
    "embedding_size = 512\n",
    "hidden_size = 512"
   ]
  },
  {
   "cell_type": "markdown",
   "id": "sustainable-alabama",
   "metadata": {},
   "source": [
    "### Subset 1"
   ]
  },
  {
   "cell_type": "code",
   "execution_count": null,
   "id": "utility-government",
   "metadata": {},
   "outputs": [
    {
     "name": "stdout",
     "output_type": "stream",
     "text": [
      "2m 41s (- 131m 56s) (1000 2%) 7.3779\n",
      "5m 15s (- 126m 2s) (2000 4%) 6.5220\n",
      "7m 50s (- 122m 43s) (3000 6%) 6.3964\n",
      "10m 48s (- 124m 14s) (4000 8%) 6.2420\n",
      "14m 6s (- 127m 2s) (5000 10%) 6.0983\n",
      "18m 6s (- 132m 45s) (6000 12%) 5.9692\n",
      "21m 36s (- 132m 44s) (7000 14%) 5.9688\n",
      "24m 53s (- 130m 42s) (8000 16%) 5.9038\n",
      "27m 32s (- 125m 27s) (9000 18%) 5.8487\n",
      "30m 6s (- 120m 26s) (10000 20%) 5.7850\n",
      "32m 36s (- 115m 38s) (11000 22%) 5.7593\n",
      "35m 10s (- 111m 23s) (12000 24%) 5.6580\n",
      "37m 44s (- 107m 24s) (13000 26%) 5.6965\n",
      "40m 15s (- 103m 32s) (14000 28%) 5.6868\n",
      "42m 45s (- 99m 47s) (15000 30%) 5.5904\n",
      "45m 19s (- 96m 18s) (16000 32%) 5.5629\n",
      "47m 54s (- 92m 59s) (17000 34%) 5.5420\n",
      "50m 27s (- 89m 41s) (18000 36%) 5.5656\n",
      "52m 59s (- 86m 27s) (19000 38%) 5.5039\n",
      "55m 30s (- 83m 15s) (20000 40%) 5.4776\n",
      "58m 0s (- 80m 6s) (21000 42%) 5.4864\n",
      "60m 30s (- 77m 0s) (22000 44%) 5.4708\n",
      "63m 2s (- 73m 59s) (23000 46%) 5.4667\n",
      "65m 33s (- 71m 0s) (24000 48%) 5.3960\n",
      "68m 2s (- 68m 2s) (25000 50%) 5.3237\n",
      "70m 34s (- 65m 9s) (26000 52%) 5.3363\n",
      "73m 5s (- 62m 15s) (27000 54%) 5.2952\n",
      "75m 36s (- 59m 24s) (28000 56%) 5.2898\n",
      "78m 11s (- 56m 37s) (29000 57%) 5.3156\n",
      "80m 42s (- 53m 48s) (30000 60%) 5.3132\n",
      "83m 16s (- 51m 2s) (31000 62%) 5.2506\n",
      "85m 49s (- 48m 16s) (32000 64%) 5.2316\n",
      "88m 19s (- 45m 30s) (33000 66%) 5.2329\n",
      "90m 53s (- 42m 46s) (34000 68%) 5.2186\n",
      "93m 23s (- 40m 1s) (35000 70%) 5.1994\n",
      "95m 49s (- 37m 16s) (36000 72%) 5.1939\n",
      "98m 19s (- 34m 32s) (37000 74%) 5.2170\n",
      "100m 51s (- 31m 50s) (38000 76%) 5.1165\n",
      "103m 19s (- 29m 8s) (39000 78%) 5.1536\n",
      "105m 49s (- 26m 27s) (40000 80%) 5.1545\n",
      "108m 19s (- 23m 46s) (41000 82%) 5.1058\n",
      "110m 48s (- 21m 6s) (42000 84%) 5.0744\n",
      "113m 19s (- 18m 26s) (43000 86%) 5.0950\n",
      "115m 48s (- 15m 47s) (44000 88%) 5.1077\n",
      "118m 16s (- 13m 8s) (45000 90%) 5.0652\n",
      "120m 47s (- 10m 30s) (46000 92%) 5.0752\n",
      "123m 20s (- 7m 52s) (47000 94%) 5.0656\n",
      "125m 50s (- 5m 14s) (48000 96%) 5.0520\n",
      "128m 24s (- 2m 37s) (49000 98%) 5.0728\n",
      "130m 56s (- 0m 0s) (50000 100%) 5.0335\n"
     ]
    },
    {
     "data": {
      "text/plain": [
       "<Figure size 432x288 with 0 Axes>"
      ]
     },
     "metadata": {},
     "output_type": "display_data"
    },
    {
     "data": {
      "image/png": "[encoded data removed]",
      "text/plain": [
       "<Figure size 432x288 with 1 Axes>"
      ]
     },
     "metadata": {
      "needs_background": "light"
     },
     "output_type": "display_data"
    }
   ],
   "source": [
    "CS_encoder1 = EncoderRNN(CS_subsets[0]['input_lang'].n_words,\n",
    "                         hidden_size,\n",
    "                         embedding_size).to(device)\n",
    "CS_attn_decoder1 = AttnDecoderRNN(hidden_size,\n",
    "                                  embedding_size,\n",
    "                                  CS_subsets[0]['output_lang'].n_words,\n",
    "                                  CS_MAX_LENGTH,\n",
    "                                  dropout_p=0.0).to(device)\n",
    "\n",
    "CS_plot_losses_1 = trainIters(CS_encoder1,\n",
    "                              CS_attn_decoder1,\n",
    "                              CS_subsets[0]['train_pairs'],\n",
    "                              CS_subsets[0]['input_lang'],\n",
    "                              CS_subsets[0]['output_lang'],\n",
    "                              50000,\n",
    "                              CS_MAX_LENGTH)"
   ]
  },
  {
   "cell_type": "code",
   "execution_count": null,
   "id": "blocked-concord",
   "metadata": {},
   "outputs": [],
   "source": [
    "torch.save({\n",
    "  'MAX_LENGTH': CS_MAX_LENGTH,\n",
    "  'hidden_size': hidden_size,\n",
    "  'embedding_size': embedding_size,\n",
    "  'input_lang': CS_subsets[0]['input_lang'],\n",
    "  'output_lang': CS_subsets[0]['output_lang'],\n",
    "  'encoder': CS_encoder1.state_dict(),\n",
    "  'attn_decoder': CS_attn_decoder1.state_dict()\n",
    "}, 'model/CS_50000_S1.pth')"
   ]
  },
  {
   "cell_type": "code",
   "execution_count": null,
   "id": "metallic-invite",
   "metadata": {},
   "outputs": [
    {
     "data": {
      "text/plain": [
       "<All keys matched successfully>"
      ]
     },
     "execution_count": null,
     "metadata": {},
     "output_type": "execute_result"
    }
   ],
   "source": [
    "checkpoint = torch.load('model/CS_50000_S1.pth')\n",
    "CS_MAX_LENGTH = checkpoint['MAX_LENGTH']\n",
    "embedding_size = checkpoint['embedding_size']\n",
    "hidden_size = checkpoint['hidden_size']\n",
    "CS_subsets[0]['input_lang'] = checkpoint['input_lang']\n",
    "CS_subsets[0]['output_lang'] = checkpoint['output_lang']\n",
    "CS_encoder1 = EncoderRNN(CS_subsets[0]['input_lang'].n_words, hidden_size, embedding_size).to(device)\n",
    "CS_attn_decoder1 = AttnDecoderRNN(hidden_size, embedding_size, CS_subsets[0]['output_lang'].n_words, CS_MAX_LENGTH, dropout_p=0.0).to(device)\n",
    "CS_encoder1.load_state_dict(checkpoint['encoder'])\n",
    "CS_attn_decoder1.load_state_dict(checkpoint['attn_decoder'])"
   ]
  },
  {
   "cell_type": "code",
   "execution_count": null,
   "id": "expensive-edgar",
   "metadata": {},
   "outputs": [],
   "source": [
    "evaluateRandomly(CS_encoder1, CS_attn_decoder1, CS_subsets[0]['input_lang'], CS_subsets[0]['output_lang'], CS_subsets[0]['test_pairs'], CS_MAX_LENGTH, n = 1)"
   ]
  },
  {
   "cell_type": "code",
   "execution_count": null,
   "id": "varied-generation",
   "metadata": {},
   "outputs": [
    {
     "name": "stdout",
     "output_type": "stream",
     "text": [
      "0m 44s (- 20m 48s) (1000 3%)\n",
      "1m 26s (- 19m 36s) (2000 6%)\n",
      "2m 7s (- 18m 41s) (3000 10%)\n",
      "2m 52s (- 18m 13s) (4000 13%)\n",
      "3m 37s (- 17m 37s) (5000 17%)\n",
      "4m 20s (- 16m 50s) (6000 20%)\n",
      "5m 0s (- 15m 58s) (7000 23%)\n",
      "5m 46s (- 15m 22s) (8000 27%)\n",
      "6m 27s (- 14m 35s) (9000 30%)\n",
      "7m 11s (- 13m 52s) (10000 34%)\n",
      "7m 52s (- 13m 7s) (11000 37%)\n",
      "8m 39s (- 12m 28s) (12000 40%)\n",
      "9m 21s (- 11m 44s) (13000 44%)\n",
      "10m 4s (- 11m 0s) (14000 47%)\n",
      "10m 46s (- 10m 16s) (15000 51%)\n",
      "11m 28s (- 9m 33s) (16000 54%)\n",
      "12m 10s (- 8m 48s) (17000 58%)\n",
      "12m 51s (- 8m 4s) (18000 61%)\n",
      "13m 33s (- 7m 21s) (19000 64%)\n",
      "14m 15s (- 6m 37s) (20000 68%)\n",
      "14m 56s (- 5m 54s) (21000 71%)\n",
      "15m 38s (- 5m 11s) (22000 75%)\n",
      "16m 20s (- 4m 28s) (23000 78%)\n",
      "17m 2s (- 3m 46s) (24000 81%)\n",
      "17m 43s (- 3m 3s) (25000 85%)\n",
      "18m 23s (- 2m 20s) (26000 88%)\n",
      "19m 5s (- 1m 37s) (27000 92%)\n",
      "19m 45s (- 0m 55s) (28000 95%)\n",
      "20m 25s (- 0m 13s) (29000 98%)\n"
     ]
    },
    {
     "data": {
      "text/plain": [
       "[0.2147115247027209,\n",
       " 0.0755633594224067,\n",
       " 0.030599520727180342,\n",
       " 0.012110277201434665]"
      ]
     },
     "execution_count": null,
     "metadata": {},
     "output_type": "execute_result"
    }
   ],
   "source": [
    "CS_BLEU_1 = evaluateBleu(CS_encoder1,\n",
    "                         CS_attn_decoder1,\n",
    "                         CS_subsets[0]['input_lang'],\n",
    "                         CS_subsets[0]['output_lang'],\n",
    "                         CS_subsets[0]['test_pairs'],\n",
    "                         CS_MAX_LENGTH)\n",
    "CS_BLEU_1"
   ]
  },
  {
   "cell_type": "code",
   "execution_count": null,
   "id": "fundamental-revolution",
   "metadata": {},
   "outputs": [
    {
     "name": "stdout",
     "output_type": "stream",
     "text": [
      "2m 23s (- 67m 30s) (1000 3%)\n",
      "4m 38s (- 63m 19s) (2000 6%)\n",
      "6m 44s (- 59m 6s) (3000 10%)\n",
      "8m 59s (- 56m 56s) (4000 13%)\n",
      "11m 17s (- 54m 54s) (5000 17%)\n",
      "13m 23s (- 52m 1s) (6000 20%)\n",
      "15m 23s (- 49m 2s) (7000 23%)\n",
      "17m 36s (- 46m 53s) (8000 27%)\n",
      "19m 46s (- 44m 37s) (9000 30%)\n",
      "22m 10s (- 42m 48s) (10000 34%)\n",
      "24m 22s (- 40m 34s) (11000 37%)\n",
      "26m 29s (- 38m 12s) (12000 40%)\n",
      "28m 41s (- 36m 0s) (13000 44%)\n",
      "30m 53s (- 33m 47s) (14000 47%)\n",
      "33m 23s (- 31m 50s) (15000 51%)\n",
      "35m 53s (- 29m 51s) (16000 54%)\n",
      "37m 55s (- 27m 27s) (17000 58%)\n",
      "39m 59s (- 25m 7s) (18000 61%)\n",
      "42m 10s (- 22m 53s) (19000 64%)\n",
      "44m 18s (- 20m 37s) (20000 68%)\n",
      "46m 24s (- 18m 21s) (21000 71%)\n",
      "48m 43s (- 16m 11s) (22000 75%)\n",
      "50m 54s (- 13m 57s) (23000 78%)\n",
      "53m 14s (- 11m 46s) (24000 81%)\n",
      "55m 32s (- 9m 34s) (25000 85%)\n",
      "57m 43s (- 7m 20s) (26000 88%)\n",
      "60m 4s (- 5m 8s) (27000 92%)\n",
      "62m 31s (- 2m 55s) (28000 95%)\n",
      "64m 37s (- 0m 41s) (29000 98%)\n"
     ]
    },
    {
     "data": {
      "text/plain": [
       "[0.22857016171249905,\n",
       " 0.08197727251830367,\n",
       " 0.034893190714194694,\n",
       " 0.014763999411416621]"
      ]
     },
     "execution_count": null,
     "metadata": {},
     "output_type": "execute_result"
    }
   ],
   "source": [
    "CS_BEAM_1 = evaluateBleu_beam_search(CS_encoder1, CS_attn_decoder1, CS_subsets[0]['input_lang'], CS_subsets[0]['output_lang'], CS_subsets[0]['test_pairs'], CS_MAX_LENGTH, 4)\n",
    "CS_BEAM_1"
   ]
  },
  {
   "cell_type": "markdown",
   "id": "designed-julian",
   "metadata": {},
   "source": [
    "---\n",
    "### Beam width experiments"
   ]
  },
  {
   "cell_type": "code",
   "execution_count": null,
   "id": "driving-rubber",
   "metadata": {},
   "outputs": [
    {
     "data": {
      "text/plain": [
       "'0m 4s (- -1m 55s)'"
      ]
     },
     "metadata": {},
     "output_type": "display_data"
    },
    {
     "data": {
      "text/plain": [
       "[0.1715686274509804,\n",
       " 0.05465390204678719,\n",
       " 0.021614566427796918,\n",
       " 0.009154652154246722]"
      ]
     },
     "metadata": {},
     "output_type": "display_data"
    }
   ],
   "source": [
    "start = time.time()\n",
    "CS_BLEU_1 = evaluateBleu(CS_encoder1, CS_attn_decoder1, CS_subsets[0]['input_lang'], CS_subsets[0]['output_lang'], CS_subsets[0]['test_pairs'][0:100], CS_MAX_LENGTH)\n",
    "display(timeSince(start, 100))\n",
    "display(CS_BLEU_1)"
   ]
  },
  {
   "cell_type": "code",
   "execution_count": null,
   "id": "egyptian-cannon",
   "metadata": {},
   "outputs": [
    {
     "data": {
      "text/plain": [
       "'0m 4s (- -1m 55s)'"
      ]
     },
     "metadata": {},
     "output_type": "display_data"
    },
    {
     "data": {
      "text/plain": [
       "[0.16454423592493297,\n",
       " 0.05233163785441777,\n",
       " 0.020682919226867453,\n",
       " 0.008748414613498437]"
      ]
     },
     "metadata": {},
     "output_type": "display_data"
    }
   ],
   "source": [
    "start = time.time()\n",
    "CS_BEAM_1 = evaluateBleu_beam_search(CS_encoder1, CS_attn_decoder1, CS_subsets[0]['input_lang'], CS_subsets[0]['output_lang'], CS_subsets[0]['test_pairs'][0:100], CS_MAX_LENGTH, 1)\n",
    "display(timeSince(start, 100))\n",
    "display(CS_BEAM_1)"
   ]
  },
  {
   "cell_type": "code",
   "execution_count": null,
   "id": "related-phoenix",
   "metadata": {},
   "outputs": [
    {
     "data": {
      "text/plain": [
       "'0m 8s (- -1m 51s)'"
      ]
     },
     "metadata": {},
     "output_type": "display_data"
    },
    {
     "data": {
      "text/plain": [
       "[0.20043763676148793,\n",
       " 0.07167338727390397,\n",
       " 0.03201049016688136,\n",
       " 0.014533711908038548]"
      ]
     },
     "metadata": {},
     "output_type": "display_data"
    }
   ],
   "source": [
    "start = time.time()\n",
    "CS_BEAM_1 = evaluateBleu_beam_search(CS_encoder1, CS_attn_decoder1, CS_subsets[0]['input_lang'], CS_subsets[0]['output_lang'], CS_subsets[0]['test_pairs'][0:100], CS_MAX_LENGTH, 2)\n",
    "display(timeSince(start, 100))\n",
    "display(CS_BEAM_1)"
   ]
  },
  {
   "cell_type": "code",
   "execution_count": null,
   "id": "failing-physiology",
   "metadata": {},
   "outputs": [
    {
     "data": {
      "text/plain": [
       "'0m 9s (- -1m 50s)'"
      ]
     },
     "metadata": {},
     "output_type": "display_data"
    },
    {
     "data": {
      "text/plain": [
       "[0.209016393442623,\n",
       " 0.07472889306279525,\n",
       " 0.03338162639836089,\n",
       " 0.01517579081543289]"
      ]
     },
     "metadata": {},
     "output_type": "display_data"
    }
   ],
   "source": [
    "start = time.time()\n",
    "CS_BEAM_1 = evaluateBleu_beam_search(CS_encoder1, CS_attn_decoder1, CS_subsets[0]['input_lang'], CS_subsets[0]['output_lang'], CS_subsets[0]['test_pairs'][0:100], CS_MAX_LENGTH, 3)\n",
    "display(timeSince(start, 100))\n",
    "display(CS_BEAM_1)"
   ]
  },
  {
   "cell_type": "code",
   "execution_count": null,
   "id": "waiting-arnold",
   "metadata": {},
   "outputs": [
    {
     "data": {
      "text/plain": [
       "'0m 11s (- -1m 48s)'"
      ]
     },
     "metadata": {},
     "output_type": "display_data"
    },
    {
     "data": {
      "text/plain": [
       "[0.22190611664295878,\n",
       " 0.07864818085891731,\n",
       " 0.03404654955175795,\n",
       " 0.01408354730016048]"
      ]
     },
     "metadata": {},
     "output_type": "display_data"
    }
   ],
   "source": [
    "start = time.time()\n",
    "CS_BEAM_1 = evaluateBleu_beam_search(CS_encoder1, CS_attn_decoder1, CS_subsets[0]['input_lang'], CS_subsets[0]['output_lang'], CS_subsets[0]['test_pairs'][0:100], CS_MAX_LENGTH, 4)\n",
    "display(timeSince(start, 100))\n",
    "display(CS_BEAM_1)"
   ]
  },
  {
   "cell_type": "code",
   "execution_count": null,
   "id": "established-diabetes",
   "metadata": {},
   "outputs": [
    {
     "data": {
      "text/plain": [
       "'0m 13s (- -1m 46s)'"
      ]
     },
     "metadata": {},
     "output_type": "display_data"
    },
    {
     "data": {
      "text/plain": [
       "[0.2193149381541389,\n",
       " 0.07762174736229045,\n",
       " 0.03274720614999101,\n",
       " 0.013687696787197508]"
      ]
     },
     "metadata": {},
     "output_type": "display_data"
    }
   ],
   "source": [
    "start = time.time()\n",
    "CS_BEAM_1 = evaluateBleu_beam_search(CS_encoder1, CS_attn_decoder1, CS_subsets[0]['input_lang'], CS_subsets[0]['output_lang'], CS_subsets[0]['test_pairs'][0:100], CS_MAX_LENGTH, 5)\n",
    "display(timeSince(start, 100))\n",
    "display(CS_BEAM_1)"
   ]
  },
  {
   "cell_type": "code",
   "execution_count": null,
   "id": "featured-armenia",
   "metadata": {},
   "outputs": [
    {
     "data": {
      "text/plain": [
       "'0m 12s (- -1m 47s)'"
      ]
     },
     "metadata": {},
     "output_type": "display_data"
    },
    {
     "data": {
      "text/plain": [
       "[0.21708015267175573,\n",
       " 0.07734124083269134,\n",
       " 0.03270311565092175,\n",
       " 0.013685126369298304]"
      ]
     },
     "metadata": {},
     "output_type": "display_data"
    }
   ],
   "source": [
    "start = time.time()\n",
    "CS_BEAM_1 = evaluateBleu_beam_search(CS_encoder1, CS_attn_decoder1, CS_subsets[0]['input_lang'], CS_subsets[0]['output_lang'], CS_subsets[0]['test_pairs'][0:100], CS_MAX_LENGTH, 6)\n",
    "display(timeSince(start, 100))\n",
    "display(CS_BEAM_1)"
   ]
  },
  {
   "cell_type": "code",
   "execution_count": null,
   "id": "superb-particle",
   "metadata": {},
   "outputs": [
    {
     "data": {
      "text/plain": [
       "'0m 13s (- -1m 46s)'"
      ]
     },
     "metadata": {},
     "output_type": "display_data"
    },
    {
     "data": {
      "text/plain": [
       "[0.21928982725527832,\n",
       " 0.07796860313044641,\n",
       " 0.03182103626117622,\n",
       " 0.013427025100297725]"
      ]
     },
     "metadata": {},
     "output_type": "display_data"
    }
   ],
   "source": [
    "start = time.time()\n",
    "CS_BEAM_1 = evaluateBleu_beam_search(CS_encoder1, CS_attn_decoder1, CS_subsets[0]['input_lang'], CS_subsets[0]['output_lang'], CS_subsets[0]['test_pairs'][0:100], CS_MAX_LENGTH, 7)\n",
    "display(timeSince(start, 100))\n",
    "display(CS_BEAM_1)"
   ]
  },
  {
   "cell_type": "code",
   "execution_count": null,
   "id": "ideal-platform",
   "metadata": {},
   "outputs": [
    {
     "data": {
      "text/plain": [
       "'0m 13s (- -1m 46s)'"
      ]
     },
     "metadata": {},
     "output_type": "display_data"
    },
    {
     "data": {
      "text/plain": [
       "[0.2193110140708394,\n",
       " 0.07842829422459853,\n",
       " 0.03207441637014565,\n",
       " 0.01355178533777936]"
      ]
     },
     "metadata": {},
     "output_type": "display_data"
    }
   ],
   "source": [
    "start = time.time()\n",
    "CS_BEAM_1 = evaluateBleu_beam_search(CS_encoder1, CS_attn_decoder1, CS_subsets[0]['input_lang'], CS_subsets[0]['output_lang'], CS_subsets[0]['test_pairs'][0:100], CS_MAX_LENGTH, 8)\n",
    "display(timeSince(start, 100))\n",
    "display(CS_BEAM_1)"
   ]
  },
  {
   "cell_type": "markdown",
   "id": "defensive-witch",
   "metadata": {},
   "source": [
    "---"
   ]
  },
  {
   "cell_type": "markdown",
   "id": "caring-malawi",
   "metadata": {},
   "source": [
    "### Subset 2"
   ]
  },
  {
   "cell_type": "code",
   "execution_count": null,
   "id": "emerging-morris",
   "metadata": {},
   "outputs": [
    {
     "name": "stdout",
     "output_type": "stream",
     "text": [
      "2m 36s (- 127m 43s) (1000 2%) 7.2309\n",
      "5m 9s (- 123m 46s) (2000 4%) 6.5444\n",
      "7m 36s (- 119m 18s) (3000 6%) 6.3783\n",
      "10m 7s (- 116m 21s) (4000 8%) 6.2096\n",
      "12m 37s (- 113m 40s) (5000 10%) 6.1036\n",
      "15m 8s (- 111m 4s) (6000 12%) 6.0281\n",
      "17m 42s (- 108m 46s) (7000 14%) 5.9651\n",
      "20m 13s (- 106m 10s) (8000 16%) 5.8999\n",
      "22m 44s (- 103m 37s) (9000 18%) 5.8337\n",
      "25m 13s (- 100m 52s) (10000 20%) 5.8075\n",
      "27m 49s (- 98m 37s) (11000 22%) 5.8282\n",
      "30m 24s (- 96m 17s) (12000 24%) 5.7787\n",
      "32m 54s (- 93m 38s) (13000 26%) 5.6746\n",
      "35m 25s (- 91m 4s) (14000 28%) 5.6778\n",
      "37m 55s (- 88m 29s) (15000 30%) 5.6512\n",
      "40m 24s (- 85m 52s) (16000 32%) 5.6122\n",
      "42m 53s (- 83m 16s) (17000 34%) 5.5626\n",
      "45m 23s (- 80m 42s) (18000 36%) 5.6019\n",
      "47m 58s (- 78m 16s) (19000 38%) 5.5680\n",
      "50m 29s (- 75m 43s) (20000 40%) 5.5529\n",
      "53m 1s (- 73m 13s) (21000 42%) 5.5233\n",
      "55m 29s (- 70m 37s) (22000 44%) 5.4672\n",
      "57m 58s (- 68m 2s) (23000 46%) 5.4061\n",
      "60m 27s (- 65m 29s) (24000 48%) 5.4265\n",
      "62m 54s (- 62m 54s) (25000 50%) 5.4301\n",
      "65m 26s (- 60m 24s) (26000 52%) 5.4153\n",
      "68m 3s (- 57m 58s) (27000 54%) 5.3741\n",
      "70m 35s (- 55m 27s) (28000 56%) 5.3156\n",
      "73m 5s (- 52m 55s) (29000 57%) 5.3704\n",
      "75m 38s (- 50m 25s) (30000 60%) 5.2643\n",
      "78m 12s (- 47m 55s) (31000 62%) 5.3280\n",
      "80m 44s (- 45m 24s) (32000 64%) 5.2891\n",
      "83m 15s (- 42m 53s) (33000 66%) 5.2943\n",
      "85m 47s (- 40m 22s) (34000 68%) 5.2599\n",
      "88m 21s (- 37m 52s) (35000 70%) 5.2155\n",
      "90m 52s (- 35m 20s) (36000 72%) 5.2152\n",
      "93m 26s (- 32m 49s) (37000 74%) 5.2136\n",
      "95m 56s (- 30m 17s) (38000 76%) 5.1844\n",
      "98m 32s (- 27m 47s) (39000 78%) 5.2088\n",
      "101m 3s (- 25m 15s) (40000 80%) 5.1392\n",
      "103m 35s (- 22m 44s) (41000 82%) 5.1954\n",
      "106m 8s (- 20m 13s) (42000 84%) 5.1608\n",
      "108m 35s (- 17m 40s) (43000 86%) 5.1035\n",
      "111m 10s (- 15m 9s) (44000 88%) 5.1529\n",
      "113m 38s (- 12m 37s) (45000 90%) 5.1117\n",
      "116m 9s (- 10m 6s) (46000 92%) 5.1180\n",
      "118m 41s (- 7m 34s) (47000 94%) 5.1425\n",
      "121m 13s (- 5m 3s) (48000 96%) 5.0902\n",
      "123m 46s (- 2m 31s) (49000 98%) 5.1068\n",
      "126m 16s (- 0m 0s) (50000 100%) 5.0000\n"
     ]
    },
    {
     "data": {
      "text/plain": [
       "<Figure size 432x288 with 0 Axes>"
      ]
     },
     "metadata": {},
     "output_type": "display_data"
    },
    {
     "data": {
      "image/png": "[encoded data removed]",
      "text/plain": [
       "<Figure size 432x288 with 1 Axes>"
      ]
     },
     "metadata": {
      "needs_background": "light"
     },
     "output_type": "display_data"
    }
   ],
   "source": [
    "CS_encoder2 = EncoderRNN(CS_subsets[1]['input_lang'].n_words,\n",
    "                         hidden_size,\n",
    "                         embedding_size).to(device)\n",
    "CS_attn_decoder2 = AttnDecoderRNN(hidden_size,\n",
    "                                  embedding_size,\n",
    "                                  CS_subsets[1]['output_lang'].n_words,\n",
    "                                  CS_MAX_LENGTH,\n",
    "                                  dropout_p=0.0).to(device)\n",
    "\n",
    "CS_plot_losses_2 = trainIters(CS_encoder2,\n",
    "                              CS_attn_decoder2,\n",
    "                              CS_subsets[1]['train_pairs'],\n",
    "                              CS_subsets[1]['input_lang'],\n",
    "                              CS_subsets[1]['output_lang'],\n",
    "                              50000,\n",
    "                              CS_MAX_LENGTH)"
   ]
  },
  {
   "cell_type": "code",
   "execution_count": null,
   "id": "planned-insertion",
   "metadata": {},
   "outputs": [],
   "source": [
    "torch.save({\n",
    "  'MAX_LENGTH': CS_MAX_LENGTH,\n",
    "  'hidden_size': hidden_size,\n",
    "  'embedding_size': embedding_size,\n",
    "  'input_lang': CS_subsets[1]['input_lang'],\n",
    "  'output_lang': CS_subsets[1]['output_lang'],\n",
    "  'encoder': CS_encoder2.state_dict(),\n",
    "  'attn_decoder': CS_attn_decoder2.state_dict()\n",
    "}, 'model/CS_50000_S2.pth')"
   ]
  },
  {
   "cell_type": "code",
   "execution_count": null,
   "id": "mexican-rings",
   "metadata": {},
   "outputs": [
    {
     "data": {
      "text/plain": [
       "<All keys matched successfully>"
      ]
     },
     "execution_count": null,
     "metadata": {},
     "output_type": "execute_result"
    }
   ],
   "source": [
    "checkpoint = torch.load('model/CS_50000_S2.pth')\n",
    "CS_MAX_LENGTH = checkpoint['MAX_LENGTH']\n",
    "embedding_size = checkpoint['embedding_size']\n",
    "hidden_size = checkpoint['hidden_size']\n",
    "CS_subsets[1]['input_lang'] = checkpoint['input_lang']\n",
    "CS_subsets[1]['output_lang'] = checkpoint['output_lang']\n",
    "CS_encoder2 = EncoderRNN(CS_subsets[1]['input_lang'].n_words, hidden_size, embedding_size).to(device)\n",
    "CS_attn_decoder2 = AttnDecoderRNN(hidden_size, embedding_size, CS_subsets[1]['output_lang'].n_words, CS_MAX_LENGTH, dropout_p=0.0).to(device)\n",
    "CS_encoder2.load_state_dict(checkpoint['encoder'])\n",
    "CS_attn_decoder2.load_state_dict(checkpoint['attn_decoder'])"
   ]
  },
  {
   "cell_type": "code",
   "execution_count": null,
   "id": "formal-mileage",
   "metadata": {},
   "outputs": [],
   "source": [
    "evaluateRandomly(CS_encoder2, CS_attn_decoder2, CS_subsets[1]['input_lang'], CS_subsets[1]['output_lang'], CS_subsets[1]['train_pairs'], CS_MAX_LENGTH, n = 1)"
   ]
  },
  {
   "cell_type": "code",
   "execution_count": null,
   "id": "elect-african",
   "metadata": {},
   "outputs": [
    {
     "name": "stdout",
     "output_type": "stream",
     "text": [
      "0m 33s (- 15m 47s) (1000 3%)\n",
      "1m 4s (- 14m 38s) (2000 6%)\n",
      "1m 36s (- 14m 3s) (3000 10%)\n",
      "2m 6s (- 13m 22s) (4000 13%)\n",
      "2m 38s (- 12m 50s) (5000 17%)\n",
      "3m 8s (- 12m 11s) (6000 20%)\n",
      "3m 38s (- 11m 35s) (7000 23%)\n",
      "4m 9s (- 11m 4s) (8000 27%)\n",
      "4m 38s (- 10m 27s) (9000 30%)\n",
      "5m 6s (- 9m 52s) (10000 34%)\n",
      "5m 38s (- 9m 23s) (11000 37%)\n",
      "6m 12s (- 8m 56s) (12000 40%)\n",
      "6m 44s (- 8m 27s) (13000 44%)\n",
      "7m 15s (- 7m 56s) (14000 47%)\n",
      "7m 47s (- 7m 25s) (15000 51%)\n",
      "8m 18s (- 6m 54s) (16000 54%)\n",
      "8m 47s (- 6m 22s) (17000 58%)\n",
      "9m 19s (- 5m 51s) (18000 61%)\n",
      "9m 51s (- 5m 21s) (19000 64%)\n",
      "10m 22s (- 4m 49s) (20000 68%)\n",
      "10m 54s (- 4m 18s) (21000 71%)\n",
      "11m 24s (- 3m 47s) (22000 75%)\n",
      "11m 56s (- 3m 16s) (23000 78%)\n",
      "12m 30s (- 2m 46s) (24000 81%)\n",
      "13m 2s (- 2m 14s) (25000 85%)\n",
      "13m 36s (- 1m 43s) (26000 88%)\n",
      "14m 9s (- 1m 12s) (27000 92%)\n",
      "14m 41s (- 0m 41s) (28000 95%)\n",
      "15m 13s (- 0m 9s) (29000 98%)\n"
     ]
    },
    {
     "data": {
      "text/plain": [
       "[0.22669315475702378,\n",
       " 0.08177490470251768,\n",
       " 0.03412746239046386,\n",
       " 0.013986833336026926]"
      ]
     },
     "execution_count": null,
     "metadata": {},
     "output_type": "execute_result"
    }
   ],
   "source": [
    "CS_BLEU_2 = evaluateBleu(CS_encoder2, CS_attn_decoder2, CS_subsets[1]['input_lang'], CS_subsets[1]['output_lang'], CS_subsets[1]['test_pairs'], CS_MAX_LENGTH)\n",
    "CS_BLEU_2"
   ]
  },
  {
   "cell_type": "markdown",
   "id": "transsexual-zoning",
   "metadata": {},
   "source": [
    "### Subset 3"
   ]
  },
  {
   "cell_type": "code",
   "execution_count": null,
   "id": "universal-korea",
   "metadata": {},
   "outputs": [
    {
     "name": "stdout",
     "output_type": "stream",
     "text": [
      "2m 37s (- 128m 52s) (1000 2%) 7.1447\n",
      "5m 8s (- 123m 31s) (2000 4%) 6.5814\n",
      "7m 41s (- 120m 32s) (3000 6%) 6.3592\n",
      "10m 15s (- 117m 52s) (4000 8%) 6.2389\n",
      "12m 47s (- 115m 5s) (5000 10%) 6.0779\n",
      "15m 19s (- 112m 22s) (6000 12%) 6.0451\n",
      "17m 51s (- 109m 42s) (7000 14%) 5.9684\n",
      "20m 26s (- 107m 19s) (8000 16%) 5.9296\n",
      "22m 59s (- 104m 44s) (9000 18%) 5.8671\n",
      "25m 28s (- 101m 53s) (10000 20%) 5.8166\n",
      "27m 57s (- 99m 5s) (11000 22%) 5.6969\n",
      "30m 26s (- 96m 23s) (12000 24%) 5.7142\n",
      "32m 59s (- 93m 54s) (13000 26%) 5.6965\n",
      "35m 31s (- 91m 21s) (14000 28%) 5.6766\n",
      "38m 1s (- 88m 43s) (15000 30%) 5.5912\n",
      "40m 32s (- 86m 10s) (16000 32%) 5.6180\n",
      "43m 1s (- 83m 32s) (17000 34%) 5.5840\n",
      "45m 28s (- 80m 51s) (18000 36%) 5.5393\n",
      "47m 59s (- 78m 17s) (19000 38%) 5.4911\n",
      "50m 32s (- 75m 48s) (20000 40%) 5.4735\n",
      "53m 2s (- 73m 14s) (21000 42%) 5.4830\n",
      "55m 34s (- 70m 44s) (22000 44%) 5.3992\n",
      "58m 4s (- 68m 11s) (23000 46%) 5.3618\n",
      "60m 37s (- 65m 40s) (24000 48%) 5.4292\n",
      "63m 9s (- 63m 9s) (25000 50%) 5.3984\n",
      "65m 39s (- 60m 36s) (26000 52%) 5.3281\n",
      "68m 8s (- 58m 2s) (27000 54%) 5.3069\n",
      "70m 39s (- 55m 31s) (28000 56%) 5.3494\n",
      "73m 11s (- 52m 59s) (29000 57%) 5.3318\n",
      "75m 43s (- 50m 28s) (30000 60%) 5.2839\n",
      "78m 13s (- 47m 56s) (31000 62%) 5.2943\n",
      "80m 47s (- 45m 26s) (32000 64%) 5.2886\n",
      "83m 20s (- 42m 56s) (33000 66%) 5.2544\n",
      "85m 48s (- 40m 22s) (34000 68%) 5.1857\n",
      "88m 21s (- 37m 51s) (35000 70%) 5.2271\n",
      "90m 54s (- 35m 21s) (36000 72%) 5.2215\n",
      "93m 25s (- 32m 49s) (37000 74%) 5.1853\n",
      "95m 58s (- 30m 18s) (38000 76%) 5.2071\n",
      "98m 25s (- 27m 45s) (39000 78%) 5.0963\n",
      "100m 57s (- 25m 14s) (40000 80%) 5.1610\n",
      "103m 24s (- 22m 42s) (41000 82%) 5.1050\n",
      "105m 55s (- 20m 10s) (42000 84%) 5.1207\n",
      "108m 23s (- 17m 38s) (43000 86%) 5.0879\n",
      "110m 56s (- 15m 7s) (44000 88%) 5.1675\n",
      "113m 25s (- 12m 36s) (45000 90%) 5.0754\n",
      "115m 54s (- 10m 4s) (46000 92%) 5.0916\n",
      "118m 22s (- 7m 33s) (47000 94%) 5.0485\n",
      "120m 51s (- 5m 2s) (48000 96%) 5.0549\n",
      "123m 23s (- 2m 31s) (49000 98%) 5.0270\n",
      "125m 53s (- 0m 0s) (50000 100%) 4.9784\n"
     ]
    },
    {
     "data": {
      "text/plain": [
       "<Figure size 432x288 with 0 Axes>"
      ]
     },
     "metadata": {},
     "output_type": "display_data"
    },
    {
     "data": {
      "image/png": "[encoded data removed]",
      "text/plain": [
       "<Figure size 432x288 with 1 Axes>"
      ]
     },
     "metadata": {
      "needs_background": "light"
     },
     "output_type": "display_data"
    }
   ],
   "source": [
    "CS_encoder3 = EncoderRNN(CS_subsets[2]['input_lang'].n_words,\n",
    "                         hidden_size,\n",
    "                         embedding_size).to(device)\n",
    "CS_attn_decoder3 = AttnDecoderRNN(hidden_size,\n",
    "                                  embedding_size,\n",
    "                                  CS_subsets[2]['output_lang'].n_words,\n",
    "                                  CS_MAX_LENGTH,\n",
    "                                  dropout_p=0.0).to(device)\n",
    "\n",
    "CS_plot_losses_3 = trainIters(CS_encoder3,\n",
    "                              CS_attn_decoder3,\n",
    "                              CS_subsets[2]['train_pairs'],\n",
    "                              CS_subsets[2]['input_lang'],\n",
    "                              CS_subsets[2]['output_lang'],\n",
    "                              50000,\n",
    "                              CS_MAX_LENGTH)"
   ]
  },
  {
   "cell_type": "code",
   "execution_count": null,
   "id": "ready-rogers",
   "metadata": {},
   "outputs": [],
   "source": [
    "torch.save({\n",
    "  'MAX_LENGTH': CS_MAX_LENGTH,\n",
    "  'hidden_size': hidden_size,\n",
    "  'embedding_size': embedding_size,\n",
    "  'input_lang': CS_subsets[2]['input_lang'],\n",
    "  'output_lang': CS_subsets[2]['output_lang'],\n",
    "  'encoder': CS_encoder3.state_dict(),\n",
    "  'attn_decoder': CS_attn_decoder3.state_dict()\n",
    "}, 'model/CS_50000_S3.pth')"
   ]
  },
  {
   "cell_type": "code",
   "execution_count": null,
   "id": "static-messenger",
   "metadata": {},
   "outputs": [
    {
     "data": {
      "text/plain": [
       "<All keys matched successfully>"
      ]
     },
     "execution_count": null,
     "metadata": {},
     "output_type": "execute_result"
    }
   ],
   "source": [
    "checkpoint = torch.load('model/CS_50000_S3.pth')\n",
    "CS_MAX_LENGTH = checkpoint['MAX_LENGTH']\n",
    "embedding_size = checkpoint['embedding_size']\n",
    "hidden_size = checkpoint['hidden_size']\n",
    "CS_subsets[2]['input_lang'] = checkpoint['input_lang']\n",
    "CS_subsets[2]['output_lang'] = checkpoint['output_lang']\n",
    "CS_encoder3 = EncoderRNN(CS_subsets[2]['input_lang'].n_words, hidden_size, embedding_size).to(device)\n",
    "CS_attn_decoder3 = AttnDecoderRNN(hidden_size, embedding_size, CS_subsets[2]['output_lang'].n_words, CS_MAX_LENGTH, dropout_p=0.0).to(device)\n",
    "CS_encoder3.load_state_dict(checkpoint['encoder'])\n",
    "CS_attn_decoder3.load_state_dict(checkpoint['attn_decoder'])"
   ]
  },
  {
   "cell_type": "code",
   "execution_count": null,
   "id": "stopped-manhattan",
   "metadata": {},
   "outputs": [],
   "source": [
    "evaluateRandomly(CS_encoder3, CS_attn_decoder3, CS_subsets[2]['input_lang'], CS_subsets[2]['output_lang'], CS_subsets[2]['train_pairs'], CS_MAX_LENGTH, n = 1)"
   ]
  },
  {
   "cell_type": "code",
   "execution_count": null,
   "id": "sophisticated-identification",
   "metadata": {},
   "outputs": [
    {
     "name": "stdout",
     "output_type": "stream",
     "text": [
      "0m 39s (- 18m 28s) (1000 3%)\n",
      "1m 17s (- 17m 44s) (2000 6%)\n",
      "1m 59s (- 17m 28s) (3000 10%)\n",
      "2m 36s (- 16m 31s) (4000 13%)\n",
      "3m 29s (- 16m 56s) (5000 17%)\n",
      "4m 17s (- 16m 40s) (6000 20%)\n",
      "5m 1s (- 16m 2s) (7000 23%)\n",
      "5m 38s (- 15m 0s) (8000 27%)\n",
      "6m 16s (- 14m 10s) (9000 30%)\n",
      "6m 52s (- 13m 17s) (10000 34%)\n",
      "7m 30s (- 12m 30s) (11000 37%)\n",
      "8m 9s (- 11m 45s) (12000 40%)\n",
      "8m 46s (- 11m 0s) (13000 44%)\n",
      "9m 27s (- 10m 20s) (14000 47%)\n",
      "10m 5s (- 9m 37s) (15000 51%)\n",
      "10m 43s (- 8m 55s) (16000 54%)\n",
      "11m 22s (- 8m 14s) (17000 58%)\n",
      "12m 0s (- 7m 32s) (18000 61%)\n",
      "12m 37s (- 6m 50s) (19000 64%)\n",
      "13m 16s (- 6m 10s) (20000 68%)\n",
      "13m 51s (- 5m 29s) (21000 71%)\n",
      "14m 28s (- 4m 48s) (22000 75%)\n",
      "15m 7s (- 4m 9s) (23000 78%)\n",
      "15m 51s (- 3m 30s) (24000 81%)\n",
      "16m 29s (- 2m 50s) (25000 85%)\n",
      "17m 8s (- 2m 10s) (26000 88%)\n",
      "17m 45s (- 1m 31s) (27000 92%)\n",
      "18m 20s (- 0m 51s) (28000 95%)\n",
      "19m 1s (- 0m 12s) (29000 98%)\n",
      "19m 13s (- 0m 0s) (29308 100%)\n"
     ]
    },
    {
     "data": {
      "text/plain": [
       "[0.22146324146829324,\n",
       " 0.0770442289069845,\n",
       " 0.03103798769932007,\n",
       " 0.012266994548712884]"
      ]
     },
     "execution_count": null,
     "metadata": {},
     "output_type": "execute_result"
    }
   ],
   "source": [
    "CS_BLEU_3 = evaluateBleu(CS_encoder3, CS_attn_decoder3, CS_subsets[2]['input_lang'], CS_subsets[2]['output_lang'], CS_subsets[2]['test_pairs'], CS_MAX_LENGTH)\n",
    "CS_BLEU_3"
   ]
  },
  {
   "cell_type": "markdown",
   "id": "satellite-begin",
   "metadata": {},
   "source": [
    "### Subset 4"
   ]
  },
  {
   "cell_type": "code",
   "execution_count": null,
   "id": "complete-cholesterol",
   "metadata": {},
   "outputs": [
    {
     "name": "stdout",
     "output_type": "stream",
     "text": [
      "2m 40s (- 131m 24s) (1000 2%) 7.1747\n",
      "5m 12s (- 124m 55s) (2000 4%) 6.5735\n",
      "7m 42s (- 120m 45s) (3000 6%) 6.3943\n",
      "10m 16s (- 118m 11s) (4000 8%) 6.2639\n",
      "12m 46s (- 114m 57s) (5000 10%) 6.1446\n",
      "15m 20s (- 112m 29s) (6000 12%) 6.0762\n",
      "17m 46s (- 109m 12s) (7000 14%) 5.9212\n",
      "20m 16s (- 106m 25s) (8000 16%) 5.8756\n",
      "22m 47s (- 103m 50s) (9000 18%) 5.8236\n",
      "25m 16s (- 101m 5s) (10000 20%) 5.7736\n",
      "27m 49s (- 98m 37s) (11000 22%) 5.7846\n",
      "30m 21s (- 96m 8s) (12000 24%) 5.7237\n",
      "32m 56s (- 93m 44s) (13000 26%) 5.6902\n",
      "35m 27s (- 91m 11s) (14000 28%) 5.6031\n",
      "37m 53s (- 88m 25s) (15000 30%) 5.6308\n",
      "40m 24s (- 85m 52s) (16000 32%) 5.5967\n",
      "42m 55s (- 83m 19s) (17000 34%) 5.5126\n",
      "45m 24s (- 80m 43s) (18000 36%) 5.5377\n",
      "47m 56s (- 78m 12s) (19000 38%) 5.5546\n",
      "50m 26s (- 75m 39s) (20000 40%) 5.5073\n",
      "52m 56s (- 73m 7s) (21000 42%) 5.4720\n",
      "55m 29s (- 70m 36s) (22000 44%) 5.4687\n",
      "58m 1s (- 68m 7s) (23000 46%) 5.4453\n",
      "60m 32s (- 65m 35s) (24000 48%) 5.4015\n",
      "63m 5s (- 63m 5s) (25000 50%) 5.4057\n",
      "65m 38s (- 60m 35s) (26000 52%) 5.3480\n",
      "68m 8s (- 58m 3s) (27000 54%) 5.3379\n",
      "70m 38s (- 55m 30s) (28000 56%) 5.3549\n",
      "73m 13s (- 53m 1s) (29000 57%) 5.3535\n",
      "75m 45s (- 50m 30s) (30000 60%) 5.3068\n",
      "78m 17s (- 47m 59s) (31000 62%) 5.3241\n",
      "80m 52s (- 45m 29s) (32000 64%) 5.3554\n",
      "83m 24s (- 42m 57s) (33000 66%) 5.2120\n",
      "85m 55s (- 40m 26s) (34000 68%) 5.2030\n",
      "88m 25s (- 37m 53s) (35000 70%) 5.2365\n",
      "90m 57s (- 35m 22s) (36000 72%) 5.2248\n",
      "93m 28s (- 32m 50s) (37000 74%) 5.2054\n",
      "96m 0s (- 30m 19s) (38000 76%) 5.1880\n",
      "98m 32s (- 27m 47s) (39000 78%) 5.1952\n",
      "101m 3s (- 25m 15s) (40000 80%) 5.1387\n",
      "103m 34s (- 22m 44s) (41000 82%) 5.1603\n",
      "106m 9s (- 20m 13s) (42000 84%) 5.1927\n",
      "108m 41s (- 17m 41s) (43000 86%) 5.1328\n",
      "111m 9s (- 15m 9s) (44000 88%) 5.1076\n",
      "113m 39s (- 12m 37s) (45000 90%) 5.1188\n",
      "116m 7s (- 10m 5s) (46000 92%) 5.0870\n",
      "118m 37s (- 7m 34s) (47000 94%) 5.0745\n",
      "121m 7s (- 5m 2s) (48000 96%) 5.1038\n",
      "123m 43s (- 2m 31s) (49000 98%) 5.1464\n",
      "126m 10s (- 0m 0s) (50000 100%) 5.1044\n"
     ]
    },
    {
     "data": {
      "text/plain": [
       "<Figure size 432x288 with 0 Axes>"
      ]
     },
     "metadata": {},
     "output_type": "display_data"
    },
    {
     "data": {
      "image/png": "[encoded data removed]",
      "text/plain": [
       "<Figure size 432x288 with 1 Axes>"
      ]
     },
     "metadata": {
      "needs_background": "light"
     },
     "output_type": "display_data"
    }
   ],
   "source": [
    "CS_encoder4 = EncoderRNN(CS_subsets[3]['input_lang'].n_words,\n",
    "                         hidden_size,\n",
    "                         embedding_size).to(device)\n",
    "CS_attn_decoder4 = AttnDecoderRNN(hidden_size,\n",
    "                                  embedding_size,\n",
    "                                  CS_subsets[3]['output_lang'].n_words,\n",
    "                                  CS_MAX_LENGTH,\n",
    "                                  dropout_p=0.0).to(device)\n",
    "\n",
    "CS_plot_losses_4 = trainIters(CS_encoder4,\n",
    "                              CS_attn_decoder4,\n",
    "                              CS_subsets[3]['train_pairs'],\n",
    "                              CS_subsets[3]['input_lang'],\n",
    "                              CS_subsets[3]['output_lang'],\n",
    "                              50000,\n",
    "                              CS_MAX_LENGTH)"
   ]
  },
  {
   "cell_type": "code",
   "execution_count": null,
   "id": "organized-horizontal",
   "metadata": {},
   "outputs": [],
   "source": [
    "torch.save({\n",
    "  'MAX_LENGTH': CS_MAX_LENGTH,\n",
    "  'hidden_size': hidden_size,\n",
    "  'embedding_size': embedding_size,\n",
    "  'input_lang': CS_subsets[3]['input_lang'],\n",
    "  'output_lang': CS_subsets[3]['output_lang'],\n",
    "  'encoder': CS_encoder4.state_dict(),\n",
    "  'attn_decoder': CS_attn_decoder4.state_dict()\n",
    "}, 'model/CS_50000_S4.pth')"
   ]
  },
  {
   "cell_type": "code",
   "execution_count": null,
   "id": "accomplished-genius",
   "metadata": {},
   "outputs": [
    {
     "data": {
      "text/plain": [
       "<All keys matched successfully>"
      ]
     },
     "execution_count": null,
     "metadata": {},
     "output_type": "execute_result"
    }
   ],
   "source": [
    "checkpoint = torch.load('model/CS_50000_S4.pth')\n",
    "CS_MAX_LENGTH = checkpoint['MAX_LENGTH']\n",
    "embedding_size = checkpoint['embedding_size']\n",
    "hidden_size = checkpoint['hidden_size']\n",
    "CS_subsets[3]['input_lang'] = checkpoint['input_lang']\n",
    "CS_subsets[3]['output_lang'] = checkpoint['output_lang']\n",
    "CS_encoder4 = EncoderRNN(CS_subsets[3]['input_lang'].n_words, hidden_size, embedding_size).to(device)\n",
    "CS_attn_decoder4 = AttnDecoderRNN(hidden_size, embedding_size, CS_subsets[3]['output_lang'].n_words, CS_MAX_LENGTH, dropout_p=0.0).to(device)\n",
    "CS_encoder4.load_state_dict(checkpoint['encoder'])\n",
    "CS_attn_decoder4.load_state_dict(checkpoint['attn_decoder'])"
   ]
  },
  {
   "cell_type": "code",
   "execution_count": null,
   "id": "latter-technique",
   "metadata": {},
   "outputs": [],
   "source": [
    "evaluateRandomly(CS_encoder4, CS_attn_decoder4, CS_subsets[3]['input_lang'], CS_subsets[3]['output_lang'], CS_subsets[3]['train_pairs'], CS_MAX_LENGTH, n = 1)"
   ]
  },
  {
   "cell_type": "code",
   "execution_count": null,
   "id": "accessible-battle",
   "metadata": {},
   "outputs": [
    {
     "name": "stdout",
     "output_type": "stream",
     "text": [
      "0m 42s (- 19m 54s) (1000 3%)\n",
      "1m 25s (- 19m 27s) (2000 6%)\n",
      "2m 7s (- 18m 37s) (3000 10%)\n",
      "2m 47s (- 17m 42s) (4000 13%)\n",
      "3m 30s (- 17m 4s) (5000 17%)\n",
      "4m 14s (- 16m 28s) (6000 20%)\n",
      "4m 58s (- 15m 52s) (7000 23%)\n",
      "5m 42s (- 15m 13s) (8000 27%)\n",
      "6m 24s (- 14m 26s) (9000 30%)\n",
      "7m 5s (- 13m 41s) (10000 34%)\n",
      "7m 46s (- 12m 55s) (11000 37%)\n",
      "8m 29s (- 12m 14s) (12000 40%)\n",
      "9m 11s (- 11m 31s) (13000 44%)\n",
      "9m 53s (- 10m 49s) (14000 47%)\n",
      "10m 35s (- 10m 6s) (15000 51%)\n",
      "11m 20s (- 9m 25s) (16000 54%)\n",
      "12m 2s (- 8m 43s) (17000 58%)\n",
      "12m 45s (- 8m 0s) (18000 61%)\n",
      "13m 27s (- 7m 18s) (19000 64%)\n",
      "14m 11s (- 6m 36s) (20000 68%)\n",
      "14m 54s (- 5m 53s) (21000 71%)\n",
      "15m 36s (- 5m 11s) (22000 75%)\n",
      "16m 20s (- 4m 28s) (23000 78%)\n",
      "17m 3s (- 3m 46s) (24000 81%)\n",
      "17m 47s (- 3m 3s) (25000 85%)\n",
      "18m 28s (- 2m 20s) (26000 88%)\n",
      "19m 12s (- 1m 38s) (27000 92%)\n",
      "19m 54s (- 0m 55s) (28000 95%)\n",
      "20m 35s (- 0m 13s) (29000 98%)\n",
      "20m 47s (- 0m 0s) (29307 100%)\n"
     ]
    },
    {
     "data": {
      "text/plain": [
       "[0.2060117791810445,\n",
       " 0.06828818405099693,\n",
       " 0.02613544770718876,\n",
       " 0.009772681140780589]"
      ]
     },
     "execution_count": null,
     "metadata": {},
     "output_type": "execute_result"
    }
   ],
   "source": [
    "CS_BLEU_4 = evaluateBleu(CS_encoder4, CS_attn_decoder4, CS_subsets[3]['input_lang'], CS_subsets[3]['output_lang'], CS_subsets[3]['test_pairs'], CS_MAX_LENGTH)\n",
    "CS_BLEU_4"
   ]
  },
  {
   "cell_type": "markdown",
   "id": "threaded-vector",
   "metadata": {},
   "source": [
    "### Subset 5"
   ]
  },
  {
   "cell_type": "code",
   "execution_count": null,
   "id": "further-short",
   "metadata": {},
   "outputs": [
    {
     "name": "stdout",
     "output_type": "stream",
     "text": [
      "2m 35s (- 127m 8s) (1000 2%) 7.1463\n",
      "5m 9s (- 123m 42s) (2000 4%) 6.5746\n",
      "7m 44s (- 121m 9s) (3000 6%) 6.4079\n",
      "10m 11s (- 117m 9s) (4000 8%) 6.2455\n",
      "12m 43s (- 114m 29s) (5000 10%) 6.1547\n",
      "15m 12s (- 111m 29s) (6000 12%) 5.9980\n",
      "17m 41s (- 108m 40s) (7000 14%) 5.9282\n",
      "20m 9s (- 105m 49s) (8000 16%) 5.8897\n",
      "22m 40s (- 103m 16s) (9000 18%) 5.8179\n",
      "25m 12s (- 100m 50s) (10000 20%) 5.7524\n",
      "27m 46s (- 98m 27s) (11000 22%) 5.7945\n",
      "30m 20s (- 96m 6s) (12000 24%) 5.7655\n",
      "32m 50s (- 93m 29s) (13000 26%) 5.6805\n",
      "35m 24s (- 91m 4s) (14000 28%) 5.6490\n",
      "37m 56s (- 88m 32s) (15000 30%) 5.6441\n",
      "40m 27s (- 85m 57s) (16000 32%) 5.6215\n",
      "42m 54s (- 83m 18s) (17000 34%) 5.5766\n",
      "45m 28s (- 80m 51s) (18000 36%) 5.5315\n",
      "48m 2s (- 78m 23s) (19000 38%) 5.5412\n",
      "50m 33s (- 75m 49s) (20000 40%) 5.4580\n",
      "53m 5s (- 73m 18s) (21000 42%) 5.5223\n",
      "55m 37s (- 70m 47s) (22000 44%) 5.4468\n",
      "58m 10s (- 68m 17s) (23000 46%) 5.4126\n",
      "60m 42s (- 65m 45s) (24000 48%) 5.4316\n",
      "63m 11s (- 63m 11s) (25000 50%) 5.3696\n",
      "65m 39s (- 60m 36s) (26000 52%) 5.3485\n",
      "68m 12s (- 58m 6s) (27000 54%) 5.3272\n",
      "70m 43s (- 55m 34s) (28000 56%) 5.3508\n",
      "73m 16s (- 53m 3s) (29000 57%) 5.3656\n",
      "75m 46s (- 50m 31s) (30000 60%) 5.3224\n",
      "78m 18s (- 47m 59s) (31000 62%) 5.3177\n",
      "80m 52s (- 45m 29s) (32000 64%) 5.2947\n",
      "83m 21s (- 42m 56s) (33000 66%) 5.2207\n",
      "85m 54s (- 40m 25s) (34000 68%) 5.2829\n",
      "88m 25s (- 37m 53s) (35000 70%) 5.2010\n",
      "90m 57s (- 35m 22s) (36000 72%) 5.2245\n",
      "93m 27s (- 32m 50s) (37000 74%) 5.1620\n",
      "95m 59s (- 30m 18s) (38000 76%) 5.1782\n",
      "98m 33s (- 27m 47s) (39000 78%) 5.2000\n",
      "101m 16s (- 25m 19s) (40000 80%) 5.2144\n",
      "103m 46s (- 22m 46s) (41000 82%) 5.1601\n",
      "106m 21s (- 20m 15s) (42000 84%) 5.1479\n",
      "108m 50s (- 17m 43s) (43000 86%) 5.1166\n",
      "111m 20s (- 15m 10s) (44000 88%) 5.1135\n",
      "113m 50s (- 12m 38s) (45000 90%) 5.0953\n",
      "116m 17s (- 10m 6s) (46000 92%) 5.1143\n",
      "118m 46s (- 7m 34s) (47000 94%) 5.0595\n",
      "121m 18s (- 5m 3s) (48000 96%) 5.0858\n",
      "123m 53s (- 2m 31s) (49000 98%) 5.1110\n",
      "126m 24s (- 0m 0s) (50000 100%) 5.0629\n"
     ]
    },
    {
     "data": {
      "text/plain": [
       "<Figure size 432x288 with 0 Axes>"
      ]
     },
     "metadata": {},
     "output_type": "display_data"
    },
    {
     "data": {
      "image/png": "[encoded data removed]",
      "text/plain": [
       "<Figure size 432x288 with 1 Axes>"
      ]
     },
     "metadata": {
      "needs_background": "light"
     },
     "output_type": "display_data"
    }
   ],
   "source": [
    "CS_encoder5 = EncoderRNN(CS_subsets[4]['input_lang'].n_words,\n",
    "                         hidden_size,\n",
    "                         embedding_size).to(device)\n",
    "CS_attn_decoder5 = AttnDecoderRNN(hidden_size,\n",
    "                                  embedding_size,\n",
    "                                  CS_subsets[4]['output_lang'].n_words,\n",
    "                                  CS_MAX_LENGTH,\n",
    "                                  dropout_p=0.0).to(device)\n",
    "\n",
    "CS_plot_losses_5 = trainIters(CS_encoder5,\n",
    "                              CS_attn_decoder5,\n",
    "                              CS_subsets[4]['train_pairs'],\n",
    "                              CS_subsets[4]['input_lang'],\n",
    "                              CS_subsets[4]['output_lang'],\n",
    "                              50000,\n",
    "                              CS_MAX_LENGTH)"
   ]
  },
  {
   "cell_type": "code",
   "execution_count": null,
   "id": "technological-physics",
   "metadata": {},
   "outputs": [],
   "source": [
    "torch.save({\n",
    "  'MAX_LENGTH': CS_MAX_LENGTH,\n",
    "  'hidden_size': hidden_size,\n",
    "  'embedding_size': embedding_size,\n",
    "  'input_lang': CS_subsets[4]['input_lang'],\n",
    "  'output_lang': CS_subsets[4]['output_lang'],\n",
    "  'encoder': CS_encoder5.state_dict(),\n",
    "  'attn_decoder': CS_attn_decoder5.state_dict()\n",
    "}, 'model/CS_50000_S5.pth')"
   ]
  },
  {
   "cell_type": "code",
   "execution_count": null,
   "id": "living-walter",
   "metadata": {},
   "outputs": [
    {
     "data": {
      "text/plain": [
       "<All keys matched successfully>"
      ]
     },
     "execution_count": null,
     "metadata": {},
     "output_type": "execute_result"
    }
   ],
   "source": [
    "checkpoint = torch.load('model/CS_50000_S5.pth')\n",
    "CS_MAX_LENGTH = checkpoint['MAX_LENGTH']\n",
    "embedding_size = checkpoint['embedding_size']\n",
    "hidden_size = checkpoint['hidden_size']\n",
    "CS_subsets[4]['input_lang'] = checkpoint['input_lang']\n",
    "CS_subsets[4]['output_lang'] = checkpoint['output_lang']\n",
    "CS_encoder5 = EncoderRNN(CS_subsets[4]['input_lang'].n_words, hidden_size, embedding_size).to(device)\n",
    "CS_attn_decoder5 = AttnDecoderRNN(hidden_size, embedding_size, CS_subsets[4]['output_lang'].n_words, CS_MAX_LENGTH, dropout_p=0.0).to(device)\n",
    "CS_encoder5.load_state_dict(checkpoint['encoder'])\n",
    "CS_attn_decoder5.load_state_dict(checkpoint['attn_decoder'])"
   ]
  },
  {
   "cell_type": "code",
   "execution_count": null,
   "id": "olive-jesus",
   "metadata": {},
   "outputs": [],
   "source": [
    "evaluateRandomly(CS_encoder5, CS_attn_decoder5, CS_subsets[4]['input_lang'], CS_subsets[4]['output_lang'], CS_subsets[4]['train_pairs'], CS_MAX_LENGTH, n = 1)"
   ]
  },
  {
   "cell_type": "code",
   "execution_count": null,
   "id": "knowing-equity",
   "metadata": {},
   "outputs": [
    {
     "name": "stdout",
     "output_type": "stream",
     "text": [
      "0m 42s (- 20m 13s) (1000 3%)\n",
      "1m 25s (- 19m 26s) (2000 6%)\n",
      "2m 11s (- 19m 10s) (3000 10%)\n",
      "2m 56s (- 18m 37s) (4000 13%)\n",
      "3m 41s (- 17m 57s) (5000 17%)\n",
      "4m 23s (- 17m 5s) (6000 20%)\n",
      "5m 7s (- 16m 19s) (7000 23%)\n",
      "5m 49s (- 15m 29s) (8000 27%)\n",
      "6m 31s (- 14m 42s) (9000 30%)\n",
      "7m 14s (- 13m 59s) (10000 34%)\n",
      "7m 55s (- 13m 12s) (11000 37%)\n",
      "8m 36s (- 12m 25s) (12000 40%)\n",
      "9m 19s (- 11m 42s) (13000 44%)\n",
      "10m 6s (- 11m 3s) (14000 47%)\n",
      "10m 47s (- 10m 17s) (15000 51%)\n",
      "11m 29s (- 9m 33s) (16000 54%)\n",
      "12m 9s (- 8m 48s) (17000 57%)\n",
      "12m 52s (- 8m 5s) (18000 61%)\n",
      "13m 36s (- 7m 23s) (19000 64%)\n",
      "14m 18s (- 6m 39s) (20000 68%)\n",
      "15m 4s (- 5m 57s) (21000 71%)\n",
      "15m 50s (- 5m 15s) (22000 75%)\n",
      "16m 35s (- 4m 33s) (23000 78%)\n",
      "17m 18s (- 3m 49s) (24000 81%)\n",
      "18m 1s (- 3m 6s) (25000 85%)\n",
      "18m 42s (- 2m 23s) (26000 88%)\n",
      "19m 23s (- 1m 39s) (27000 92%)\n",
      "20m 6s (- 0m 56s) (28000 95%)\n",
      "20m 48s (- 0m 13s) (29000 98%)\n",
      "21m 3s (- 0m 0s) (29312 100%)\n"
     ]
    },
    {
     "data": {
      "text/plain": [
       "[0.20557046505244558,\n",
       " 0.07260542852069556,\n",
       " 0.02897469813239368,\n",
       " 0.011591370204903771]"
      ]
     },
     "execution_count": null,
     "metadata": {},
     "output_type": "execute_result"
    }
   ],
   "source": [
    "CS_BLEU_5 = evaluateBleu(CS_encoder5, CS_attn_decoder5, CS_subsets[4]['input_lang'], CS_subsets[4]['output_lang'], CS_subsets[4]['test_pairs'], CS_MAX_LENGTH)\n",
    "CS_BLEU_5"
   ]
  },
  {
   "cell_type": "markdown",
   "id": "controlled-pierce",
   "metadata": {},
   "source": [
    "### Average BLEU"
   ]
  },
  {
   "cell_type": "code",
   "execution_count": null,
   "id": "special-ultimate",
   "metadata": {},
   "outputs": [
    {
     "data": {
      "text/plain": [
       "array([0.21489003, 0.07505522, 0.03017502, 0.01194563])"
      ]
     },
     "execution_count": null,
     "metadata": {},
     "output_type": "execute_result"
    }
   ],
   "source": [
    "np.average(np.stack((CS_BLEU_1, CS_BLEU_2, CS_BLEU_3, CS_BLEU_4, CS_BLEU_5)), 0)"
   ]
  },
  {
   "cell_type": "markdown",
   "id": "another-livestock",
   "metadata": {},
   "source": [
    "## German"
   ]
  },
  {
   "cell_type": "code",
   "execution_count": null,
   "id": "external-electricity",
   "metadata": {},
   "outputs": [],
   "source": [
    "DE_MAX_LENGTH = max([len(a.split(' ')) for a,b in DE_subsets[0]['train_pairs']]\n",
    "                  + [len(a.split(' ')) for a,b in DE_subsets[0]['test_pairs']]) + 1\n",
    "embedding_size = 256\n",
    "hidden_size = 256"
   ]
  },
  {
   "cell_type": "markdown",
   "id": "plastic-richmond",
   "metadata": {},
   "source": [
    "### Subset 1"
   ]
  },
  {
   "cell_type": "code",
   "execution_count": null,
   "id": "standing-cooperation",
   "metadata": {},
   "outputs": [
    {
     "name": "stdout",
     "output_type": "stream",
     "text": [
      "1m 46s (- 15m 55s) (1000 10%) 6.1594\n",
      "3m 29s (- 13m 58s) (2000 20%) 5.7426\n",
      "5m 8s (- 12m 0s) (3000 30%) 5.6186\n",
      "6m 48s (- 10m 12s) (4000 40%) 5.5685\n",
      "8m 22s (- 8m 22s) (5000 50%) 5.4177\n",
      "10m 1s (- 6m 40s) (6000 60%) 5.5443\n",
      "11m 39s (- 4m 59s) (7000 70%) 5.3444\n",
      "13m 15s (- 3m 18s) (8000 80%) 5.3269\n",
      "14m 53s (- 1m 39s) (9000 90%) 5.4378\n",
      "16m 33s (- 0m 0s) (10000 100%) 5.4483\n"
     ]
    },
    {
     "data": {
      "text/plain": [
       "<Figure size 432x288 with 0 Axes>"
      ]
     },
     "metadata": {},
     "output_type": "display_data"
    },
    {
     "data": {
      "image/png": "[encoded data removed]",
      "text/plain": [
       "<Figure size 432x288 with 1 Axes>"
      ]
     },
     "metadata": {
      "needs_background": "light"
     },
     "output_type": "display_data"
    }
   ],
   "source": [
    "DE_encoder1 = EncoderRNN(DE_subsets[0]['input_lang'].n_words,\n",
    "                         hidden_size,\n",
    "                         embedding_size).to(device)\n",
    "DE_attn_decoder1 = AttnDecoderRNN(hidden_size,\n",
    "                                  embedding_size,\n",
    "                                  DE_subsets[0]['output_lang'].n_words,\n",
    "                                  DE_MAX_LENGTH,\n",
    "                                  dropout_p=0.0).to(device)\n",
    "\n",
    "DE_plot_losses_1 = trainIters(DE_encoder1,\n",
    "                              DE_attn_decoder1,\n",
    "                              DE_subsets[0]['train_pairs'],\n",
    "                              DE_subsets[0]['input_lang'],\n",
    "                              DE_subsets[0]['output_lang'],\n",
    "                              10000,\n",
    "                              DE_MAX_LENGTH)"
   ]
  },
  {
   "cell_type": "code",
   "execution_count": null,
   "id": "advised-activity",
   "metadata": {},
   "outputs": [],
   "source": [
    "torch.save({\n",
    "  'MAX_LENGTH': DE_MAX_LENGTH,\n",
    "  'hidden_size': hidden_size,\n",
    "  'embedding_size': embedding_size,\n",
    "  'input_lang': DE_subsets[0]['input_lang'],\n",
    "  'output_lang': DE_subsets[0]['output_lang'],\n",
    "  'encoder': DE_encoder1.state_dict(),\n",
    "  'attn_decoder': DE_attn_decoder1.state_dict()\n",
    "}, 'model/DE_10000_S1.pth')"
   ]
  },
  {
   "cell_type": "code",
   "execution_count": null,
   "id": "academic-america",
   "metadata": {},
   "outputs": [
    {
     "data": {
      "text/plain": [
       "<All keys matched successfully>"
      ]
     },
     "execution_count": null,
     "metadata": {},
     "output_type": "execute_result"
    }
   ],
   "source": [
    "checkpoint = torch.load('model/DE_10000_S1.pth')\n",
    "DE_MAX_LENGTH = checkpoint['MAX_LENGTH']\n",
    "embedding_size = checkpoint['embedding_size']\n",
    "hidden_size = checkpoint['hidden_size']\n",
    "DE_subsets[0]['input_lang'] = checkpoint['input_lang']\n",
    "DE_subsets[0]['output_lang'] = checkpoint['output_lang']\n",
    "DE_encoder1 = EncoderRNN(DE_subsets[0]['input_lang'].n_words, hidden_size, embedding_size).to(device)\n",
    "DE_attn_decoder1 = AttnDecoderRNN(hidden_size, embedding_size, DE_subsets[0]['output_lang'].n_words, DE_MAX_LENGTH, dropout_p=0.0).to(device)\n",
    "DE_encoder1.load_state_dict(checkpoint['encoder'])\n",
    "DE_attn_decoder1.load_state_dict(checkpoint['attn_decoder'])"
   ]
  },
  {
   "cell_type": "code",
   "execution_count": null,
   "id": "unavailable-indication",
   "metadata": {},
   "outputs": [],
   "source": [
    "evaluateRandomly(DE_encoder1, DE_attn_decoder1, DE_subsets[0]['input_lang'], DE_subsets[0]['output_lang'], DE_subsets[0]['test_pairs'], DE_MAX_LENGTH, n = 1)"
   ]
  },
  {
   "cell_type": "code",
   "execution_count": null,
   "id": "handed-tourism",
   "metadata": {},
   "outputs": [
    {
     "name": "stdout",
     "output_type": "stream",
     "text": [
      "0m 24s (- 15m 50s) (1000 2%)\n",
      "0m 49s (- 15m 39s) (2000 4%)\n",
      "1m 14s (- 15m 20s) (3000 7%)\n",
      "1m 38s (- 14m 51s) (4000 9%)\n",
      "2m 3s (- 14m 33s) (5000 12%)\n",
      "2m 28s (- 14m 8s) (6000 14%)\n",
      "2m 54s (- 13m 49s) (7000 17%)\n",
      "3m 17s (- 13m 17s) (8000 19%)\n",
      "3m 38s (- 12m 37s) (9000 22%)\n",
      "4m 0s (- 12m 8s) (10000 24%)\n",
      "4m 23s (- 11m 39s) (11000 27%)\n",
      "4m 45s (- 11m 12s) (12000 29%)\n",
      "5m 9s (- 10m 49s) (13000 32%)\n",
      "5m 34s (- 10m 27s) (14000 34%)\n",
      "6m 0s (- 10m 6s) (15000 37%)\n",
      "6m 23s (- 9m 41s) (16000 39%)\n",
      "6m 49s (- 9m 20s) (17000 42%)\n",
      "7m 14s (- 8m 57s) (18000 44%)\n",
      "7m 39s (- 8m 34s) (19000 47%)\n",
      "8m 3s (- 8m 9s) (20000 49%)\n",
      "8m 27s (- 7m 45s) (21000 52%)\n",
      "8m 55s (- 7m 24s) (22000 54%)\n",
      "9m 26s (- 7m 5s) (23000 57%)\n",
      "9m 51s (- 6m 40s) (24000 59%)\n",
      "10m 16s (- 6m 16s) (25000 62%)\n",
      "10m 39s (- 5m 50s) (26000 64%)\n",
      "11m 6s (- 5m 27s) (27000 67%)\n",
      "11m 31s (- 5m 2s) (28000 69%)\n",
      "11m 54s (- 4m 37s) (29000 72%)\n",
      "12m 12s (- 4m 10s) (30000 74%)\n",
      "12m 35s (- 3m 45s) (31000 77%)\n",
      "13m 0s (- 3m 21s) (32000 79%)\n",
      "13m 23s (- 2m 56s) (33000 81%)\n",
      "13m 46s (- 2m 32s) (34000 84%)\n",
      "14m 11s (- 2m 7s) (35000 86%)\n",
      "14m 35s (- 1m 43s) (36000 89%)\n",
      "15m 1s (- 1m 19s) (37000 91%)\n",
      "15m 29s (- 0m 55s) (38000 94%)\n",
      "15m 56s (- 0m 30s) (39000 96%)\n",
      "16m 19s (- 0m 6s) (40000 99%)\n",
      "16m 25s (- 0m 0s) (40256 100%)\n"
     ]
    },
    {
     "data": {
      "text/plain": [
       "[0.09472371760932133,\n",
       " 0.025355243469559714,\n",
       " 0.0033330591297752407,\n",
       " 0.0004953494176581338]"
      ]
     },
     "execution_count": null,
     "metadata": {},
     "output_type": "execute_result"
    }
   ],
   "source": [
    "DE_BLEU_1 = evaluateBleu(DE_encoder1,\n",
    "                         DE_attn_decoder1,\n",
    "                         DE_subsets[0]['input_lang'],\n",
    "                         DE_subsets[0]['output_lang'],\n",
    "                         DE_subsets[0]['test_pairs'],\n",
    "                         DE_MAX_LENGTH)\n",
    "DE_BLEU_1"
   ]
  },
  {
   "cell_type": "code",
   "execution_count": null,
   "id": "chinese-listening",
   "metadata": {},
   "outputs": [
    {
     "name": "stdout",
     "output_type": "stream",
     "text": [
      "0m 50s (- 33m 2s) (1000 2%)\n",
      "1m 39s (- 31m 44s) (2000 4%)\n",
      "2m 31s (- 31m 16s) (3000 7%)\n",
      "3m 21s (- 30m 29s) (4000 9%)\n",
      "4m 14s (- 29m 51s) (5000 12%)\n",
      "5m 5s (- 29m 6s) (6000 14%)\n",
      "5m 57s (- 28m 16s) (7000 17%)\n",
      "6m 48s (- 27m 25s) (8000 19%)\n",
      "7m 34s (- 26m 19s) (9000 22%)\n",
      "8m 25s (- 25m 28s) (10000 24%)\n",
      "9m 13s (- 24m 32s) (11000 27%)\n",
      "10m 3s (- 23m 40s) (12000 29%)\n",
      "10m 54s (- 22m 52s) (13000 32%)\n",
      "11m 48s (- 22m 8s) (14000 34%)\n",
      "12m 42s (- 21m 24s) (15000 37%)\n",
      "13m 36s (- 20m 37s) (16000 39%)\n",
      "14m 29s (- 19m 49s) (17000 42%)\n",
      "15m 22s (- 19m 0s) (18000 44%)\n",
      "16m 13s (- 18m 9s) (19000 47%)\n",
      "17m 6s (- 17m 19s) (20000 49%)\n",
      "17m 57s (- 16m 27s) (21000 52%)\n",
      "18m 49s (- 15m 37s) (22000 54%)\n",
      "19m 41s (- 14m 46s) (23000 57%)\n",
      "20m 29s (- 13m 52s) (24000 59%)\n",
      "21m 20s (- 13m 1s) (25000 62%)\n",
      "22m 9s (- 12m 9s) (26000 64%)\n",
      "23m 1s (- 11m 18s) (27000 67%)\n",
      "23m 56s (- 10m 28s) (28000 69%)\n",
      "24m 48s (- 9m 37s) (29000 72%)\n",
      "25m 26s (- 8m 41s) (30000 74%)\n",
      "26m 18s (- 7m 51s) (31000 77%)\n",
      "27m 9s (- 7m 0s) (32000 79%)\n",
      "28m 0s (- 6m 9s) (33000 81%)\n",
      "28m 50s (- 5m 18s) (34000 84%)\n",
      "29m 43s (- 4m 27s) (35000 86%)\n",
      "30m 34s (- 3m 36s) (36000 89%)\n",
      "31m 25s (- 2m 45s) (37000 91%)\n",
      "32m 14s (- 1m 54s) (38000 94%)\n",
      "33m 4s (- 1m 3s) (39000 96%)\n",
      "33m 56s (- 0m 13s) (40000 99%)\n",
      "34m 9s (- 0m 0s) (40256 100%)\n"
     ]
    },
    {
     "data": {
      "text/plain": [
       "[0.10901366208560218,\n",
       " 0.027716168298934165,\n",
       " 0.005392659914264452,\n",
       " 0.0008663936397701171]"
      ]
     },
     "execution_count": null,
     "metadata": {},
     "output_type": "execute_result"
    }
   ],
   "source": [
    "DE_BEAM_1 = evaluateBleu_beam_search(DE_encoder1, DE_attn_decoder1, DE_subsets[0]['input_lang'], DE_subsets[0]['output_lang'], DE_subsets[0]['test_pairs'], DE_MAX_LENGTH, 4)\n",
    "DE_BEAM_1"
   ]
  },
  {
   "cell_type": "markdown",
   "id": "breeding-stupid",
   "metadata": {},
   "source": [
    "### Subset 2"
   ]
  },
  {
   "cell_type": "code",
   "execution_count": null,
   "id": "floating-probe",
   "metadata": {},
   "outputs": [
    {
     "name": "stdout",
     "output_type": "stream",
     "text": [
      "1m 40s (- 15m 2s) (1000 10%) 6.2531\n",
      "3m 17s (- 13m 8s) (2000 20%) 5.6230\n",
      "4m 52s (- 11m 22s) (3000 30%) 5.3826\n",
      "6m 27s (- 9m 41s) (4000 40%) 5.4164\n",
      "8m 1s (- 8m 1s) (5000 50%) 5.4148\n",
      "9m 37s (- 6m 24s) (6000 60%) 5.4657\n",
      "11m 15s (- 4m 49s) (7000 70%) 5.3064\n",
      "12m 53s (- 3m 13s) (8000 80%) 5.3825\n",
      "14m 29s (- 1m 36s) (9000 90%) 5.3657\n",
      "16m 10s (- 0m 0s) (10000 100%) 5.5334\n"
     ]
    },
    {
     "data": {
      "text/plain": [
       "<Figure size 432x288 with 0 Axes>"
      ]
     },
     "metadata": {},
     "output_type": "display_data"
    },
    {
     "data": {
      "image/png": "[encoded data removed]",
      "text/plain": [
       "<Figure size 432x288 with 1 Axes>"
      ]
     },
     "metadata": {
      "needs_background": "light"
     },
     "output_type": "display_data"
    }
   ],
   "source": [
    "DE_encoder2 = EncoderRNN(DE_subsets[1]['input_lang'].n_words,\n",
    "                         hidden_size,\n",
    "                         embedding_size).to(device)\n",
    "DE_attn_decoder2 = AttnDecoderRNN(hidden_size,\n",
    "                                  embedding_size,\n",
    "                                  DE_subsets[1]['output_lang'].n_words,\n",
    "                                  DE_MAX_LENGTH,\n",
    "                                  dropout_p=0.0).to(device)\n",
    "\n",
    "DE_plot_losses_2 = trainIters(DE_encoder2,\n",
    "                              DE_attn_decoder2,\n",
    "                              DE_subsets[1]['train_pairs'],\n",
    "                              DE_subsets[1]['input_lang'],\n",
    "                              DE_subsets[1]['output_lang'],\n",
    "                              10000,\n",
    "                              DE_MAX_LENGTH)"
   ]
  },
  {
   "cell_type": "code",
   "execution_count": null,
   "id": "laughing-wallace",
   "metadata": {},
   "outputs": [],
   "source": [
    "torch.save({\n",
    "  'MAX_LENGTH': DE_MAX_LENGTH,\n",
    "  'hidden_size': hidden_size,\n",
    "  'embedding_size': embedding_size,\n",
    "  'input_lang': DE_subsets[1]['input_lang'],\n",
    "  'output_lang': DE_subsets[1]['output_lang'],\n",
    "  'encoder': DE_encoder2.state_dict(),\n",
    "  'attn_decoder': DE_attn_decoder2.state_dict()\n",
    "}, 'model/DE_10000_S2.pth')"
   ]
  },
  {
   "cell_type": "code",
   "execution_count": null,
   "id": "standing-matthew",
   "metadata": {},
   "outputs": [],
   "source": [
    "checkpoint = torch.load('model/DE_10000_S2.pth')\n",
    "DE_MAX_LENGTH = checkpoint['MAX_LENGTH']\n",
    "embedding_size = checkpoint['embedding_size']\n",
    "hidden_size = checkpoint['hidden_size']\n",
    "DE_subsets[1]['input_lang'] = checkpoint['input_lang']\n",
    "DE_subsets[1]['output_lang'] = checkpoint['output_lang']\n",
    "DE_encoder2 = EncoderRNN(DE_subsets[1]['input_lang'].n_words, hidden_size, embedding_size).to(device)\n",
    "DE_attn_decoder2 = AttnDecoderRNN(hidden_size, embedding_size, DE_subsets[1]['output_lang'].n_words, DE_MAX_LENGTH, dropout_p=0.0).to(device)\n",
    "DE_encoder2.load_state_dict(checkpoint['encoder'])\n",
    "DE_attn_decoder2.load_state_dict(checkpoint['attn_decoder'])"
   ]
  },
  {
   "cell_type": "code",
   "execution_count": null,
   "id": "fixed-magnet",
   "metadata": {},
   "outputs": [],
   "source": [
    "evaluateRandomly(DE_encoder2, DE_attn_decoder2, DE_subsets[1]['input_lang'], DE_subsets[1]['output_lang'], DE_subsets[1]['train_pairs'], DE_MAX_LENGTH, n = 1)"
   ]
  },
  {
   "cell_type": "code",
   "execution_count": null,
   "id": "southern-fiber",
   "metadata": {},
   "outputs": [
    {
     "name": "stdout",
     "output_type": "stream",
     "text": [
      "0m 50s (- 33m 3s) (1000 2%)\n",
      "1m 37s (- 31m 3s) (2000 4%)\n",
      "2m 24s (- 29m 53s) (3000 7%)\n",
      "3m 12s (- 29m 1s) (4000 9%)\n",
      "4m 1s (- 28m 21s) (5000 12%)\n",
      "4m 52s (- 27m 49s) (6000 14%)\n",
      "5m 42s (- 27m 5s) (7000 17%)\n",
      "6m 30s (- 26m 13s) (8000 19%)\n",
      "7m 20s (- 25m 28s) (9000 22%)\n",
      "8m 9s (- 24m 40s) (10000 24%)\n",
      "8m 57s (- 23m 50s) (11000 27%)\n",
      "9m 44s (- 22m 55s) (12000 29%)\n",
      "10m 33s (- 22m 8s) (13000 32%)\n",
      "11m 24s (- 21m 23s) (14000 34%)\n",
      "12m 14s (- 20m 37s) (15000 37%)\n",
      "13m 3s (- 19m 47s) (16000 39%)\n",
      "13m 53s (- 18m 59s) (17000 42%)\n",
      "14m 40s (- 18m 9s) (18000 44%)\n",
      "15m 27s (- 17m 17s) (19000 47%)\n",
      "16m 16s (- 16m 29s) (20000 49%)\n",
      "17m 3s (- 15m 38s) (21000 52%)\n",
      "17m 52s (- 14m 49s) (22000 54%)\n",
      "18m 41s (- 14m 1s) (23000 57%)\n",
      "19m 26s (- 13m 10s) (24000 59%)\n",
      "20m 13s (- 12m 20s) (25000 62%)\n",
      "21m 1s (- 11m 31s) (26000 64%)\n",
      "21m 48s (- 10m 42s) (27000 67%)\n",
      "22m 37s (- 9m 54s) (28000 69%)\n",
      "23m 27s (- 9m 6s) (29000 72%)\n",
      "24m 15s (- 8m 17s) (30000 74%)\n",
      "25m 4s (- 7m 29s) (31000 77%)\n",
      "25m 53s (- 6m 40s) (32000 79%)\n",
      "26m 44s (- 5m 52s) (33000 81%)\n",
      "27m 31s (- 5m 3s) (34000 84%)\n",
      "28m 22s (- 4m 15s) (35000 86%)\n",
      "29m 11s (- 3m 27s) (36000 89%)\n",
      "29m 58s (- 2m 38s) (37000 91%)\n",
      "30m 47s (- 1m 49s) (38000 94%)\n",
      "31m 33s (- 1m 1s) (39000 96%)\n",
      "32m 21s (- 0m 12s) (40000 99%)\n",
      "32m 32s (- 0m 0s) (40256 100%)\n"
     ]
    },
    {
     "data": {
      "text/plain": [
       "[0.15310388014453405,\n",
       " 0.04201180186506658,\n",
       " 0.006916446138660083,\n",
       " 0.0016221798444191315]"
      ]
     },
     "execution_count": null,
     "metadata": {},
     "output_type": "execute_result"
    }
   ],
   "source": [
    "DE_BLEU_2 = evaluateBleu(DE_encoder2, DE_attn_decoder2, DE_subsets[1]['input_lang'], DE_subsets[1]['output_lang'], DE_subsets[1]['test_pairs'], DE_MAX_LENGTH)\n",
    "DE_BLEU_2"
   ]
  },
  {
   "cell_type": "markdown",
   "id": "nasty-longer",
   "metadata": {},
   "source": [
    "### Subset 3"
   ]
  },
  {
   "cell_type": "code",
   "execution_count": null,
   "id": "joint-warren",
   "metadata": {},
   "outputs": [
    {
     "name": "stdout",
     "output_type": "stream",
     "text": [
      "1m 38s (- 14m 43s) (1000 10%) 6.0926\n",
      "3m 15s (- 13m 2s) (2000 20%) 5.7692\n",
      "4m 53s (- 11m 25s) (3000 30%) 5.5392\n",
      "6m 29s (- 9m 44s) (4000 40%) 5.4245\n",
      "8m 4s (- 8m 4s) (5000 50%) 5.4022\n",
      "9m 41s (- 6m 27s) (6000 60%) 5.4277\n",
      "11m 16s (- 4m 49s) (7000 70%) 5.3590\n",
      "12m 54s (- 3m 13s) (8000 80%) 5.3571\n",
      "14m 33s (- 1m 37s) (9000 90%) 5.4052\n",
      "16m 14s (- 0m 0s) (10000 100%) 5.5345\n"
     ]
    },
    {
     "data": {
      "text/plain": [
       "<Figure size 432x288 with 0 Axes>"
      ]
     },
     "metadata": {},
     "output_type": "display_data"
    },
    {
     "data": {
      "image/png": "[encoded data removed]",
      "text/plain": [
       "<Figure size 432x288 with 1 Axes>"
      ]
     },
     "metadata": {
      "needs_background": "light"
     },
     "output_type": "display_data"
    }
   ],
   "source": [
    "DE_encoder3 = EncoderRNN(DE_subsets[2]['input_lang'].n_words,\n",
    "                         hidden_size,\n",
    "                         embedding_size).to(device)\n",
    "DE_attn_decoder3 = AttnDecoderRNN(hidden_size,\n",
    "                                  embedding_size,\n",
    "                                  DE_subsets[2]['output_lang'].n_words,\n",
    "                                  DE_MAX_LENGTH,\n",
    "                                  dropout_p=0.0).to(device)\n",
    "\n",
    "DE_plot_losses_3 = trainIters(DE_encoder3,\n",
    "                              DE_attn_decoder3,\n",
    "                              DE_subsets[2]['train_pairs'],\n",
    "                              DE_subsets[2]['input_lang'],\n",
    "                              DE_subsets[2]['output_lang'],\n",
    "                              10000,\n",
    "                              DE_MAX_LENGTH)"
   ]
  },
  {
   "cell_type": "code",
   "execution_count": null,
   "id": "objective-aside",
   "metadata": {},
   "outputs": [],
   "source": [
    "torch.save({\n",
    "  'MAX_LENGTH': DE_MAX_LENGTH,\n",
    "  'hidden_size': hidden_size,\n",
    "  'embedding_size': embedding_size,\n",
    "  'input_lang': DE_subsets[2]['input_lang'],\n",
    "  'output_lang': DE_subsets[2]['output_lang'],\n",
    "  'encoder': DE_encoder3.state_dict(),\n",
    "  'attn_decoder': DE_attn_decoder3.state_dict()\n",
    "}, 'model/DE_10000_S3.pth')"
   ]
  },
  {
   "cell_type": "code",
   "execution_count": null,
   "id": "recorded-jerusalem",
   "metadata": {},
   "outputs": [
    {
     "data": {
      "text/plain": [
       "<All keys matched successfully>"
      ]
     },
     "execution_count": null,
     "metadata": {},
     "output_type": "execute_result"
    }
   ],
   "source": [
    "checkpoint = torch.load('model/DE_10000_S3.pth')\n",
    "DE_MAX_LENGTH = checkpoint['MAX_LENGTH']\n",
    "embedding_size = checkpoint['embedding_size']\n",
    "hidden_size = checkpoint['hidden_size']\n",
    "DE_subsets[2]['input_lang'] = checkpoint['input_lang']\n",
    "DE_subsets[2]['output_lang'] = checkpoint['output_lang']\n",
    "DE_encoder3 = EncoderRNN(DE_subsets[2]['input_lang'].n_words, hidden_size, embedding_size).to(device)\n",
    "DE_attn_decoder3 = AttnDecoderRNN(hidden_size, embedding_size, DE_subsets[2]['output_lang'].n_words, DE_MAX_LENGTH, dropout_p=0.0).to(device)\n",
    "DE_encoder3.load_state_dict(checkpoint['encoder'])\n",
    "DE_attn_decoder3.load_state_dict(checkpoint['attn_decoder'])"
   ]
  },
  {
   "cell_type": "code",
   "execution_count": null,
   "id": "convinced-industry",
   "metadata": {},
   "outputs": [],
   "source": [
    "evaluateRandomly(DE_encoder3, DE_attn_decoder3, DE_subsets[2]['input_lang'], DE_subsets[2]['output_lang'], DE_subsets[2]['train_pairs'], DE_MAX_LENGTH, n = 1)"
   ]
  },
  {
   "cell_type": "code",
   "execution_count": null,
   "id": "human-helping",
   "metadata": {},
   "outputs": [
    {
     "name": "stdout",
     "output_type": "stream",
     "text": [
      "0m 44s (- 29m 21s) (1000 2%)\n",
      "1m 29s (- 28m 37s) (2000 4%)\n",
      "2m 14s (- 27m 51s) (3000 7%)\n",
      "2m 57s (- 26m 51s) (4000 9%)\n",
      "3m 41s (- 25m 58s) (5000 12%)\n",
      "4m 25s (- 25m 14s) (6000 14%)\n",
      "5m 7s (- 24m 19s) (7000 17%)\n",
      "5m 49s (- 23m 28s) (8000 19%)\n",
      "6m 32s (- 22m 41s) (9000 22%)\n",
      "7m 14s (- 21m 54s) (10000 24%)\n",
      "7m 56s (- 21m 7s) (11000 27%)\n",
      "8m 38s (- 20m 20s) (12000 29%)\n",
      "9m 21s (- 19m 36s) (13000 32%)\n",
      "10m 2s (- 18m 49s) (14000 34%)\n",
      "10m 45s (- 18m 6s) (15000 37%)\n",
      "11m 27s (- 17m 22s) (16000 39%)\n",
      "12m 9s (- 16m 38s) (17000 42%)\n",
      "12m 52s (- 15m 55s) (18000 44%)\n",
      "13m 34s (- 15m 11s) (19000 47%)\n",
      "14m 16s (- 14m 27s) (20000 49%)\n",
      "14m 59s (- 13m 45s) (21000 52%)\n",
      "15m 43s (- 13m 3s) (22000 54%)\n",
      "16m 24s (- 12m 18s) (23000 57%)\n",
      "17m 6s (- 11m 35s) (24000 59%)\n",
      "17m 50s (- 10m 53s) (25000 62%)\n",
      "18m 32s (- 10m 10s) (26000 64%)\n",
      "19m 14s (- 9m 27s) (27000 67%)\n",
      "19m 57s (- 8m 44s) (28000 69%)\n",
      "20m 39s (- 8m 1s) (29000 72%)\n",
      "21m 20s (- 7m 17s) (30000 74%)\n",
      "22m 3s (- 6m 35s) (31000 77%)\n",
      "22m 46s (- 5m 52s) (32000 79%)\n",
      "23m 29s (- 5m 9s) (33000 81%)\n",
      "24m 12s (- 4m 27s) (34000 84%)\n",
      "24m 56s (- 3m 44s) (35000 86%)\n",
      "25m 38s (- 3m 1s) (36000 89%)\n",
      "26m 20s (- 2m 19s) (37000 91%)\n",
      "27m 1s (- 1m 36s) (38000 94%)\n",
      "27m 43s (- 0m 53s) (39000 96%)\n",
      "28m 25s (- 0m 10s) (40000 99%)\n",
      "28m 36s (- 0m 0s) (40256 100%)\n"
     ]
    },
    {
     "data": {
      "text/plain": [
       "[0.14314955332851872,\n",
       " 0.03546754036232768,\n",
       " 0.003931445337896471,\n",
       " 0.0005828292367973833]"
      ]
     },
     "execution_count": null,
     "metadata": {},
     "output_type": "execute_result"
    }
   ],
   "source": [
    "DE_BLEU_3 = evaluateBleu(DE_encoder3, DE_attn_decoder3, DE_subsets[2]['input_lang'], DE_subsets[2]['output_lang'], DE_subsets[2]['test_pairs'], DE_MAX_LENGTH)\n",
    "DE_BLEU_3"
   ]
  },
  {
   "cell_type": "markdown",
   "id": "sealed-serial",
   "metadata": {},
   "source": [
    "### Subset 4"
   ]
  },
  {
   "cell_type": "code",
   "execution_count": null,
   "id": "japanese-leonard",
   "metadata": {},
   "outputs": [
    {
     "name": "stdout",
     "output_type": "stream",
     "text": [
      "1m 38s (- 14m 43s) (1000 10%) 6.0404\n",
      "3m 14s (- 12m 59s) (2000 20%) 5.6196\n",
      "4m 49s (- 11m 15s) (3000 30%) 5.4715\n",
      "6m 25s (- 9m 38s) (4000 40%) 5.4530\n",
      "7m 58s (- 7m 58s) (5000 50%) 5.2902\n",
      "9m 35s (- 6m 23s) (6000 60%) 5.3888\n",
      "11m 10s (- 4m 47s) (7000 70%) 5.3684\n",
      "12m 44s (- 3m 11s) (8000 80%) 5.1593\n",
      "14m 23s (- 1m 35s) (9000 90%) 5.3169\n",
      "16m 2s (- 0m 0s) (10000 100%) 5.3260\n"
     ]
    },
    {
     "data": {
      "text/plain": [
       "<Figure size 432x288 with 0 Axes>"
      ]
     },
     "metadata": {},
     "output_type": "display_data"
    },
    {
     "data": {
      "image/png": "[encoded data removed]",
      "text/plain": [
       "<Figure size 432x288 with 1 Axes>"
      ]
     },
     "metadata": {
      "needs_background": "light"
     },
     "output_type": "display_data"
    }
   ],
   "source": [
    "DE_encoder4 = EncoderRNN(DE_subsets[3]['input_lang'].n_words,\n",
    "                         hidden_size,\n",
    "                         embedding_size).to(device)\n",
    "DE_attn_decoder4 = AttnDecoderRNN(hidden_size,\n",
    "                                  embedding_size,\n",
    "                                  DE_subsets[3]['output_lang'].n_words,\n",
    "                                  DE_MAX_LENGTH,\n",
    "                                  dropout_p=0.0).to(device)\n",
    "\n",
    "DE_plot_losses_4 = trainIters(DE_encoder4,\n",
    "                              DE_attn_decoder4,\n",
    "                              DE_subsets[3]['train_pairs'],\n",
    "                              DE_subsets[3]['input_lang'],\n",
    "                              DE_subsets[3]['output_lang'],\n",
    "                              10000,\n",
    "                              DE_MAX_LENGTH)"
   ]
  },
  {
   "cell_type": "code",
   "execution_count": null,
   "id": "dress-louisiana",
   "metadata": {},
   "outputs": [],
   "source": [
    "torch.save({\n",
    "  'MAX_LENGTH': DE_MAX_LENGTH,\n",
    "  'hidden_size': hidden_size,\n",
    "  'embedding_size': embedding_size,\n",
    "  'input_lang': DE_subsets[3]['input_lang'],\n",
    "  'output_lang': DE_subsets[3]['output_lang'],\n",
    "  'encoder': DE_encoder4.state_dict(),\n",
    "  'attn_decoder': DE_attn_decoder4.state_dict()\n",
    "}, 'model/DE_10000_S4.pth')"
   ]
  },
  {
   "cell_type": "code",
   "execution_count": null,
   "id": "japanese-bulletin",
   "metadata": {},
   "outputs": [
    {
     "data": {
      "text/plain": [
       "<All keys matched successfully>"
      ]
     },
     "execution_count": null,
     "metadata": {},
     "output_type": "execute_result"
    }
   ],
   "source": [
    "checkpoint = torch.load('model/DE_10000_S4.pth')\n",
    "DE_MAX_LENGTH = checkpoint['MAX_LENGTH']\n",
    "embedding_size = checkpoint['embedding_size']\n",
    "hidden_size = checkpoint['hidden_size']\n",
    "DE_subsets[3]['input_lang'] = checkpoint['input_lang']\n",
    "DE_subsets[3]['output_lang'] = checkpoint['output_lang']\n",
    "DE_encoder4 = EncoderRNN(DE_subsets[3]['input_lang'].n_words, hidden_size, embedding_size).to(device)\n",
    "DE_attn_decoder4 = AttnDecoderRNN(hidden_size, embedding_size, DE_subsets[3]['output_lang'].n_words, DE_MAX_LENGTH, dropout_p=0.0).to(device)\n",
    "DE_encoder4.load_state_dict(checkpoint['encoder'])\n",
    "DE_attn_decoder4.load_state_dict(checkpoint['attn_decoder'])"
   ]
  },
  {
   "cell_type": "code",
   "execution_count": null,
   "id": "finite-concrete",
   "metadata": {},
   "outputs": [],
   "source": [
    "evaluateRandomly(DE_encoder4, DE_attn_decoder4, DE_subsets[3]['input_lang'], DE_subsets[3]['output_lang'], DE_subsets[3]['train_pairs'], DE_MAX_LENGTH, n = 1)"
   ]
  },
  {
   "cell_type": "code",
   "execution_count": null,
   "id": "rapid-american",
   "metadata": {},
   "outputs": [
    {
     "name": "stdout",
     "output_type": "stream",
     "text": [
      "0m 24s (- 16m 10s) (1000 2%)\n",
      "0m 49s (- 15m 43s) (2000 4%)\n",
      "1m 14s (- 15m 27s) (3000 7%)\n",
      "1m 39s (- 15m 5s) (4000 9%)\n",
      "2m 5s (- 14m 46s) (5000 12%)\n",
      "2m 31s (- 14m 25s) (6000 14%)\n",
      "2m 56s (- 13m 59s) (7000 17%)\n",
      "3m 21s (- 13m 33s) (8000 19%)\n",
      "3m 47s (- 13m 10s) (9000 22%)\n",
      "4m 14s (- 12m 49s) (10000 24%)\n",
      "4m 41s (- 12m 27s) (11000 27%)\n",
      "5m 6s (- 12m 0s) (12000 29%)\n",
      "5m 31s (- 11m 35s) (13000 32%)\n",
      "5m 56s (- 11m 9s) (14000 34%)\n",
      "6m 22s (- 10m 44s) (15000 37%)\n",
      "6m 48s (- 10m 18s) (16000 39%)\n",
      "7m 13s (- 9m 53s) (17000 42%)\n",
      "7m 38s (- 9m 27s) (18000 44%)\n",
      "8m 3s (- 9m 1s) (19000 47%)\n",
      "8m 28s (- 8m 34s) (20000 49%)\n",
      "8m 53s (- 8m 9s) (21000 52%)\n",
      "9m 18s (- 7m 43s) (22000 54%)\n",
      "9m 44s (- 7m 18s) (23000 57%)\n",
      "10m 9s (- 6m 52s) (24000 59%)\n",
      "10m 34s (- 6m 27s) (25000 62%)\n",
      "10m 59s (- 6m 1s) (26000 64%)\n",
      "11m 24s (- 5m 36s) (27000 67%)\n",
      "11m 50s (- 5m 10s) (28000 69%)\n",
      "12m 15s (- 4m 45s) (29000 72%)\n",
      "12m 41s (- 4m 20s) (30000 74%)\n",
      "13m 7s (- 3m 55s) (31000 77%)\n",
      "13m 33s (- 3m 29s) (32000 79%)\n",
      "13m 58s (- 3m 4s) (33000 81%)\n",
      "14m 23s (- 2m 38s) (34000 84%)\n",
      "14m 49s (- 2m 13s) (35000 86%)\n",
      "15m 15s (- 1m 48s) (36000 89%)\n",
      "15m 39s (- 1m 22s) (37000 91%)\n",
      "16m 5s (- 0m 57s) (38000 94%)\n",
      "16m 30s (- 0m 31s) (39000 96%)\n",
      "16m 55s (- 0m 6s) (40000 99%)\n",
      "17m 2s (- 0m 0s) (40256 100%)\n"
     ]
    },
    {
     "data": {
      "text/plain": [
       "[0.13768846929874307,\n",
       " 0.03420736601438249,\n",
       " 0.005283206587266871,\n",
       " 0.0008039298783845438]"
      ]
     },
     "execution_count": null,
     "metadata": {},
     "output_type": "execute_result"
    }
   ],
   "source": [
    "DE_BLEU_4 = evaluateBleu(DE_encoder4, DE_attn_decoder4, DE_subsets[3]['input_lang'], DE_subsets[3]['output_lang'], DE_subsets[3]['test_pairs'], DE_MAX_LENGTH)\n",
    "DE_BLEU_4"
   ]
  },
  {
   "cell_type": "markdown",
   "id": "senior-possession",
   "metadata": {},
   "source": [
    "### Subset 5"
   ]
  },
  {
   "cell_type": "code",
   "execution_count": null,
   "id": "passive-denmark",
   "metadata": {},
   "outputs": [
    {
     "name": "stdout",
     "output_type": "stream",
     "text": [
      "1m 35s (- 14m 18s) (1000 10%) 6.2170\n",
      "3m 11s (- 12m 45s) (2000 20%) 5.7978\n",
      "4m 48s (- 11m 12s) (3000 30%) 5.5077\n",
      "6m 28s (- 9m 43s) (4000 40%) 5.5698\n",
      "8m 7s (- 8m 7s) (5000 50%) 5.4828\n",
      "9m 45s (- 6m 30s) (6000 60%) 5.3897\n",
      "11m 22s (- 4m 52s) (7000 70%) 5.4629\n",
      "13m 3s (- 3m 15s) (8000 80%) 5.5365\n",
      "14m 42s (- 1m 38s) (9000 90%) 5.3866\n",
      "16m 24s (- 0m 0s) (10000 100%) 5.6050\n"
     ]
    },
    {
     "data": {
      "text/plain": [
       "<Figure size 432x288 with 0 Axes>"
      ]
     },
     "metadata": {},
     "output_type": "display_data"
    },
    {
     "data": {
      "image/png": "[encoded data removed]",
      "text/plain": [
       "<Figure size 432x288 with 1 Axes>"
      ]
     },
     "metadata": {
      "needs_background": "light"
     },
     "output_type": "display_data"
    }
   ],
   "source": [
    "DE_encoder5 = EncoderRNN(DE_subsets[4]['input_lang'].n_words,\n",
    "                         hidden_size,\n",
    "                         embedding_size).to(device)\n",
    "DE_attn_decoder5 = AttnDecoderRNN(hidden_size,\n",
    "                                  embedding_size,\n",
    "                                  DE_subsets[4]['output_lang'].n_words,\n",
    "                                  DE_MAX_LENGTH,\n",
    "                                  dropout_p=0.0).to(device)\n",
    "\n",
    "DE_plot_losses_5 = trainIters(DE_encoder5,\n",
    "                              DE_attn_decoder5,\n",
    "                              DE_subsets[4]['train_pairs'],\n",
    "                              DE_subsets[4]['input_lang'],\n",
    "                              DE_subsets[4]['output_lang'],\n",
    "                              10000,\n",
    "                              DE_MAX_LENGTH)"
   ]
  },
  {
   "cell_type": "code",
   "execution_count": null,
   "id": "excellent-fifteen",
   "metadata": {},
   "outputs": [],
   "source": [
    "torch.save({\n",
    "  'MAX_LENGTH': DE_MAX_LENGTH,\n",
    "  'hidden_size': hidden_size,\n",
    "  'embedding_size': embedding_size,\n",
    "  'input_lang': DE_subsets[4]['input_lang'],\n",
    "  'output_lang': DE_subsets[4]['output_lang'],\n",
    "  'encoder': DE_encoder5.state_dict(),\n",
    "  'attn_decoder': DE_attn_decoder5.state_dict()\n",
    "}, 'model/DE_10000_S5.pth')"
   ]
  },
  {
   "cell_type": "code",
   "execution_count": null,
   "id": "upset-subject",
   "metadata": {},
   "outputs": [
    {
     "data": {
      "text/plain": [
       "<All keys matched successfully>"
      ]
     },
     "execution_count": null,
     "metadata": {},
     "output_type": "execute_result"
    }
   ],
   "source": [
    "checkpoint = torch.load('model/DE_10000_S5.pth')\n",
    "DE_MAX_LENGTH = checkpoint['MAX_LENGTH']\n",
    "embedding_size = checkpoint['embedding_size']\n",
    "hidden_size = checkpoint['hidden_size']\n",
    "DE_subsets[4]['input_lang'] = checkpoint['input_lang']\n",
    "DE_subsets[4]['output_lang'] = checkpoint['output_lang']\n",
    "DE_encoder5 = EncoderRNN(DE_subsets[4]['input_lang'].n_words, hidden_size, embedding_size).to(device)\n",
    "DE_attn_decoder5 = AttnDecoderRNN(hidden_size, embedding_size, DE_subsets[4]['output_lang'].n_words, DE_MAX_LENGTH, dropout_p=0.0).to(device)\n",
    "DE_encoder5.load_state_dict(checkpoint['encoder'])\n",
    "DE_attn_decoder5.load_state_dict(checkpoint['attn_decoder'])"
   ]
  },
  {
   "cell_type": "code",
   "execution_count": null,
   "id": "domestic-tournament",
   "metadata": {},
   "outputs": [],
   "source": [
    "evaluateRandomly(DE_encoder5, DE_attn_decoder5, DE_subsets[4]['input_lang'], DE_subsets[4]['output_lang'], DE_subsets[4]['train_pairs'], DE_MAX_LENGTH, n = 1)"
   ]
  },
  {
   "cell_type": "code",
   "execution_count": null,
   "id": "elect-stone",
   "metadata": {},
   "outputs": [
    {
     "name": "stdout",
     "output_type": "stream",
     "text": [
      "0m 33s (- 21m 50s) (1000 2%)\n",
      "1m 7s (- 21m 36s) (2000 4%)\n",
      "1m 44s (- 21m 35s) (3000 7%)\n",
      "2m 19s (- 21m 8s) (4000 9%)\n",
      "2m 56s (- 20m 43s) (5000 12%)\n",
      "3m 32s (- 20m 11s) (6000 14%)\n",
      "4m 8s (- 19m 42s) (7000 17%)\n",
      "4m 43s (- 19m 2s) (8000 19%)\n",
      "5m 18s (- 18m 25s) (9000 22%)\n",
      "5m 53s (- 17m 51s) (10000 24%)\n",
      "6m 31s (- 17m 21s) (11000 27%)\n",
      "7m 7s (- 16m 47s) (12000 29%)\n",
      "7m 45s (- 16m 15s) (13000 32%)\n",
      "8m 20s (- 15m 38s) (14000 34%)\n",
      "8m 55s (- 15m 2s) (15000 37%)\n",
      "9m 29s (- 14m 23s) (16000 39%)\n",
      "10m 5s (- 13m 48s) (17000 42%)\n",
      "10m 42s (- 13m 14s) (18000 44%)\n",
      "11m 17s (- 12m 38s) (19000 47%)\n",
      "11m 52s (- 12m 2s) (20000 49%)\n",
      "12m 29s (- 11m 27s) (21000 52%)\n",
      "13m 3s (- 10m 50s) (22000 54%)\n",
      "13m 39s (- 10m 14s) (23000 57%)\n",
      "14m 17s (- 9m 40s) (24000 59%)\n",
      "14m 53s (- 9m 5s) (25000 62%)\n",
      "15m 28s (- 8m 29s) (26000 64%)\n",
      "16m 6s (- 7m 54s) (27000 67%)\n",
      "16m 43s (- 7m 19s) (28000 69%)\n",
      "17m 19s (- 6m 43s) (29000 72%)\n",
      "17m 55s (- 6m 7s) (30000 74%)\n",
      "18m 30s (- 5m 31s) (31000 76%)\n",
      "19m 5s (- 4m 55s) (32000 79%)\n",
      "19m 40s (- 4m 19s) (33000 81%)\n",
      "20m 15s (- 3m 43s) (34000 84%)\n",
      "20m 52s (- 3m 8s) (35000 86%)\n",
      "21m 29s (- 2m 32s) (36000 89%)\n",
      "22m 4s (- 1m 56s) (37000 91%)\n",
      "22m 41s (- 1m 20s) (38000 94%)\n",
      "23m 16s (- 0m 45s) (39000 96%)\n",
      "23m 53s (- 0m 9s) (40000 99%)\n",
      "24m 3s (- 0m 0s) (40259 100%)\n"
     ]
    },
    {
     "data": {
      "text/plain": [
       "[0.10920895503535998,\n",
       " 0.019320680835826557,\n",
       " 0.002420022173663529,\n",
       " 0.00034856661179768697]"
      ]
     },
     "execution_count": null,
     "metadata": {},
     "output_type": "execute_result"
    }
   ],
   "source": [
    "DE_BLEU_5 = evaluateBleu(DE_encoder5, DE_attn_decoder5, DE_subsets[4]['input_lang'], DE_subsets[4]['output_lang'], DE_subsets[4]['test_pairs'], DE_MAX_LENGTH)\n",
    "DE_BLEU_5"
   ]
  },
  {
   "cell_type": "markdown",
   "id": "small-cooper",
   "metadata": {},
   "source": [
    "### Average BLEU"
   ]
  },
  {
   "cell_type": "code",
   "execution_count": null,
   "id": "statewide-nepal",
   "metadata": {},
   "outputs": [
    {
     "data": {
      "text/plain": [
       "array([0.12757492, 0.03127253, 0.00437684, 0.00077057])"
      ]
     },
     "execution_count": null,
     "metadata": {},
     "output_type": "execute_result"
    }
   ],
   "source": [
    "np.average(np.stack((DE_BLEU_1, DE_BLEU_2, DE_BLEU_3, DE_BLEU_4, DE_BLEU_5)), 0)"
   ]
  },
  {
   "cell_type": "markdown",
   "id": "human-currency",
   "metadata": {},
   "source": [
    "## French"
   ]
  },
  {
   "cell_type": "markdown",
   "id": "exotic-deviation",
   "metadata": {},
   "source": [
    "Here we experiment with reducing embedding size to reduce training time.  \n",
    "We follow Google's recommendation here: https://developers.googleblog.com/2017/11/introducing-tensorflow-feature-columns.html\n",
    "```Python\n",
    "embedding_dimensions =  number_of_categories**0.25\n",
    "```\n",
    "For the French dataset there are 57000 French words and 42000 English words on average across the 5 subsets, which evaluates to 15 and 14 respectively, thus we use 15 as our embedding size for both encoders and decoders."
   ]
  },
  {
   "cell_type": "code",
   "execution_count": null,
   "id": "played-eagle",
   "metadata": {},
   "outputs": [],
   "source": [
    "FR_MAX_LENGTH = max([len(a.split(' ')) for a,b in FR_subsets[0]['train_pairs']]\n",
    "                  + [len(a.split(' ')) for a,b in FR_subsets[0]['test_pairs']]) + 1\n",
    "embedding_size = 15\n",
    "hidden_size = 256"
   ]
  },
  {
   "cell_type": "markdown",
   "id": "under-partner",
   "metadata": {},
   "source": [
    "### Subset 1"
   ]
  },
  {
   "cell_type": "code",
   "execution_count": null,
   "id": "jewish-navigator",
   "metadata": {},
   "outputs": [
    {
     "name": "stdout",
     "output_type": "stream",
     "text": [
      "1m 26s (- 12m 56s) (1000 10%) 5.9794\n",
      "2m 52s (- 11m 28s) (2000 20%) 5.8908\n",
      "4m 19s (- 10m 5s) (3000 30%) 5.8826\n",
      "5m 48s (- 8m 42s) (4000 40%) 6.0255\n",
      "7m 21s (- 7m 21s) (5000 50%) 6.1048\n",
      "8m 54s (- 5m 56s) (6000 60%) 6.0603\n",
      "10m 25s (- 4m 28s) (7000 70%) 6.0491\n",
      "12m 0s (- 3m 0s) (8000 80%) 6.1205\n",
      "13m 37s (- 1m 30s) (9000 90%) 6.0625\n",
      "15m 10s (- 0m 0s) (10000 100%) 6.0746\n"
     ]
    },
    {
     "data": {
      "text/plain": [
       "<Figure size 432x288 with 0 Axes>"
      ]
     },
     "metadata": {},
     "output_type": "display_data"
    },
    {
     "data": {
      "image/png": "[encoded data removed]",
      "text/plain": [
       "<Figure size 432x288 with 1 Axes>"
      ]
     },
     "metadata": {
      "needs_background": "light"
     },
     "output_type": "display_data"
    }
   ],
   "source": [
    "FR_encoder1 = EncoderRNN(FR_subsets[0]['input_lang'].n_words,\n",
    "                         hidden_size,\n",
    "                         embedding_size).to(device)\n",
    "FR_attn_decoder1 = AttnDecoderRNN(hidden_size,\n",
    "                                  embedding_size,\n",
    "                                  FR_subsets[0]['output_lang'].n_words,\n",
    "                                  FR_MAX_LENGTH,\n",
    "                                  dropout_p=0.0).to(device)\n",
    "\n",
    "FR_plot_losses_1 = trainIters(FR_encoder1,\n",
    "                              FR_attn_decoder1,\n",
    "                              FR_subsets[0]['train_pairs'],\n",
    "                              FR_subsets[0]['input_lang'],\n",
    "                              FR_subsets[0]['output_lang'],\n",
    "                              10000,\n",
    "                              FR_MAX_LENGTH)"
   ]
  },
  {
   "cell_type": "code",
   "execution_count": null,
   "id": "opposite-acting",
   "metadata": {},
   "outputs": [],
   "source": [
    "torch.save({\n",
    "  'MAX_LENGTH': FR_MAX_LENGTH,\n",
    "  'hidden_size': hidden_size,\n",
    "  'embedding_size': embedding_size,\n",
    "  'input_lang': FR_subsets[0]['input_lang'],\n",
    "  'output_lang': FR_subsets[0]['output_lang'],\n",
    "  'encoder': FR_encoder1.state_dict(),\n",
    "  'attn_decoder': FR_attn_decoder1.state_dict()\n",
    "}, 'model/FR_10000_S1.pth')"
   ]
  },
  {
   "cell_type": "code",
   "execution_count": null,
   "id": "seventh-welcome",
   "metadata": {},
   "outputs": [
    {
     "data": {
      "text/plain": [
       "<All keys matched successfully>"
      ]
     },
     "execution_count": null,
     "metadata": {},
     "output_type": "execute_result"
    }
   ],
   "source": [
    "checkpoint = torch.load('model/FR_10000_S1.pth')\n",
    "FR_MAX_LENGTH = checkpoint['MAX_LENGTH']\n",
    "embedding_size = checkpoint['embedding_size']\n",
    "hidden_size = checkpoint['hidden_size']\n",
    "FR_subsets[0]['input_lang'] = checkpoint['input_lang']\n",
    "FR_subsets[0]['output_lang'] = checkpoint['output_lang']\n",
    "FR_encoder1 = EncoderRNN(FR_subsets[0]['input_lang'].n_words, hidden_size, embedding_size).to(device)\n",
    "FR_attn_decoder1 = AttnDecoderRNN(hidden_size, embedding_size, FR_subsets[0]['output_lang'].n_words, FR_MAX_LENGTH, dropout_p=0.0).to(device)\n",
    "FR_encoder1.load_state_dict(checkpoint['encoder'])\n",
    "FR_attn_decoder1.load_state_dict(checkpoint['attn_decoder'])"
   ]
  },
  {
   "cell_type": "code",
   "execution_count": null,
   "id": "active-shoot",
   "metadata": {},
   "outputs": [],
   "source": [
    "evaluateRandomly(FR_encoder1, FR_attn_decoder1, FR_subsets[0]['input_lang'], FR_subsets[0]['output_lang'], FR_subsets[0]['test_pairs'], FR_MAX_LENGTH, n = 1)"
   ]
  },
  {
   "cell_type": "code",
   "execution_count": null,
   "id": "metric-committee",
   "metadata": {},
   "outputs": [
    {
     "name": "stdout",
     "output_type": "stream",
     "text": [
      "0m 30s (- 17m 54s) (1000 2%)\n",
      "1m 1s (- 17m 45s) (2000 5%)\n",
      "1m 33s (- 17m 29s) (3000 8%)\n",
      "2m 5s (- 17m 5s) (4000 10%)\n",
      "2m 36s (- 16m 30s) (5000 13%)\n",
      "3m 9s (- 16m 8s) (6000 16%)\n",
      "3m 41s (- 15m 37s) (7000 19%)\n",
      "4m 13s (- 15m 8s) (8000 21%)\n",
      "4m 45s (- 14m 35s) (9000 24%)\n",
      "5m 15s (- 14m 2s) (10000 27%)\n",
      "5m 46s (- 13m 28s) (11000 30%)\n",
      "6m 18s (- 12m 57s) (12000 32%)\n",
      "6m 51s (- 12m 29s) (13000 35%)\n",
      "7m 23s (- 11m 56s) (14000 38%)\n",
      "7m 55s (- 11m 25s) (15000 40%)\n",
      "8m 26s (- 10m 53s) (16000 43%)\n",
      "8m 57s (- 10m 20s) (17000 46%)\n",
      "9m 28s (- 9m 49s) (18000 49%)\n",
      "9m 59s (- 9m 17s) (19000 51%)\n",
      "10m 31s (- 8m 45s) (20000 54%)\n",
      "11m 1s (- 8m 12s) (21000 57%)\n",
      "11m 31s (- 7m 40s) (22000 60%)\n",
      "12m 3s (- 7m 9s) (23000 62%)\n",
      "12m 34s (- 6m 37s) (24000 65%)\n",
      "13m 6s (- 6m 6s) (25000 68%)\n",
      "13m 37s (- 5m 34s) (26000 70%)\n",
      "14m 8s (- 5m 3s) (27000 73%)\n",
      "14m 40s (- 4m 31s) (28000 76%)\n",
      "15m 13s (- 4m 0s) (29000 79%)\n",
      "15m 46s (- 3m 29s) (30000 81%)\n",
      "16m 18s (- 2m 58s) (31000 84%)\n",
      "16m 50s (- 2m 26s) (32000 87%)\n",
      "17m 22s (- 1m 55s) (33000 90%)\n",
      "17m 53s (- 1m 23s) (34000 92%)\n",
      "18m 24s (- 0m 52s) (35000 95%)\n",
      "18m 54s (- 0m 20s) (36000 98%)\n",
      "19m 13s (- 0m 0s) (36649 100%)\n"
     ]
    },
    {
     "name": "stderr",
     "output_type": "stream",
     "text": [
      "c:\\program files\\python38\\lib\\site-packages\\nltk\\translate\\bleu_score.py:516: UserWarning: \n",
      "The hypothesis contains 0 counts of 4-gram overlaps.\n",
      "Therefore the BLEU score evaluates to 0, independently of\n",
      "how many N-gram overlaps of lower order it contains.\n",
      "Consider using lower n-gram order or use SmoothingFunction()\n",
      "  warnings.warn(_msg)\n"
     ]
    },
    {
     "data": {
      "text/plain": [
       "[0.0839922175497098,\n",
       " 0.014225839640708749,\n",
       " 0.0008396176811657022,\n",
       " 5.033487477474732e-80]"
      ]
     },
     "execution_count": null,
     "metadata": {},
     "output_type": "execute_result"
    }
   ],
   "source": [
    "FR_BLEU_1 = evaluateBleu(FR_encoder1,\n",
    "                         FR_attn_decoder1,\n",
    "                         FR_subsets[0]['input_lang'],\n",
    "                         FR_subsets[0]['output_lang'],\n",
    "                         FR_subsets[0]['test_pairs'],\n",
    "                         FR_MAX_LENGTH)\n",
    "FR_BLEU_1"
   ]
  },
  {
   "cell_type": "code",
   "execution_count": null,
   "id": "clean-english",
   "metadata": {},
   "outputs": [
    {
     "name": "stdout",
     "output_type": "stream",
     "text": [
      "6m 14s (- 222m 33s) (1000 2%)\n",
      "12m 46s (- 221m 13s) (2000 5%)\n",
      "19m 32s (- 219m 15s) (3000 8%)\n",
      "26m 14s (- 214m 12s) (4000 10%)\n",
      "32m 28s (- 205m 34s) (5000 13%)\n",
      "39m 28s (- 201m 40s) (6000 16%)\n",
      "46m 10s (- 195m 36s) (7000 19%)\n",
      "53m 7s (- 190m 15s) (8000 21%)\n",
      "59m 47s (- 183m 41s) (9000 24%)\n",
      "66m 10s (- 176m 20s) (10000 27%)\n",
      "72m 34s (- 169m 13s) (11000 30%)\n",
      "79m 19s (- 162m 56s) (12000 32%)\n",
      "86m 42s (- 157m 43s) (13000 35%)\n",
      "93m 18s (- 150m 58s) (14000 38%)\n",
      "100m 9s (- 144m 33s) (15000 40%)\n",
      "106m 20s (- 137m 15s) (16000 43%)\n",
      "112m 44s (- 130m 18s) (17000 46%)\n",
      "119m 12s (- 123m 30s) (18000 49%)\n",
      "125m 38s (- 116m 42s) (19000 51%)\n",
      "132m 4s (- 109m 56s) (20000 54%)\n",
      "138m 10s (- 102m 58s) (21000 57%)\n",
      "144m 8s (- 95m 59s) (22000 60%)\n",
      "150m 46s (- 89m 28s) (23000 62%)\n",
      "157m 1s (- 82m 45s) (24000 65%)\n",
      "163m 38s (- 76m 15s) (25000 68%)\n",
      "170m 10s (- 69m 42s) (26000 70%)\n",
      "176m 29s (- 63m 4s) (27000 73%)\n",
      "183m 14s (- 56m 36s) (28000 76%)\n",
      "190m 23s (- 50m 13s) (29000 79%)\n",
      "197m 22s (- 43m 45s) (30000 81%)\n",
      "204m 20s (- 37m 14s) (31000 84%)\n",
      "211m 10s (- 30m 41s) (32000 87%)\n",
      "217m 57s (- 24m 6s) (33000 90%)\n",
      "224m 20s (- 17m 29s) (34000 92%)\n",
      "230m 41s (- 10m 52s) (35000 95%)\n",
      "236m 32s (- 4m 16s) (36000 98%)\n",
      "240m 31s (- 0m 0s) (36649 100%)\n"
     ]
    },
    {
     "data": {
      "text/plain": [
       "[0.0859069791578007,\n",
       " 0.02263727191637034,\n",
       " 0.0012548135559556012,\n",
       " 6.272868877281909e-80]"
      ]
     },
     "execution_count": null,
     "metadata": {},
     "output_type": "execute_result"
    }
   ],
   "source": [
    "FR_BEAM_1 = evaluateBleu_beam_search(FR_encoder1, FR_attn_decoder1, FR_subsets[0]['input_lang'], FR_subsets[0]['output_lang'], FR_subsets[0]['test_pairs'], FR_MAX_LENGTH, 4)\n",
    "FR_BEAM_1"
   ]
  },
  {
   "cell_type": "markdown",
   "id": "concrete-serum",
   "metadata": {},
   "source": [
    "### Subset 2"
   ]
  },
  {
   "cell_type": "code",
   "execution_count": null,
   "id": "corresponding-studio",
   "metadata": {},
   "outputs": [
    {
     "name": "stdout",
     "output_type": "stream",
     "text": [
      "1m 27s (- 13m 4s) (1000 10%) 6.2868\n",
      "2m 55s (- 11m 40s) (2000 20%) 5.9686\n",
      "4m 23s (- 10m 15s) (3000 30%) 6.0241\n",
      "5m 57s (- 8m 55s) (4000 40%) 6.1146\n",
      "7m 29s (- 7m 29s) (5000 50%) 6.0736\n",
      "9m 5s (- 6m 3s) (6000 60%) 6.1525\n",
      "10m 41s (- 4m 34s) (7000 70%) 6.0529\n",
      "12m 13s (- 3m 3s) (8000 80%) 5.9920\n",
      "13m 46s (- 1m 31s) (9000 90%) 6.0816\n",
      "15m 18s (- 0m 0s) (10000 100%) 5.9989\n"
     ]
    },
    {
     "data": {
      "text/plain": [
       "<Figure size 432x288 with 0 Axes>"
      ]
     },
     "metadata": {},
     "output_type": "display_data"
    },
    {
     "data": {
      "image/png": "[encoded data removed]",
      "text/plain": [
       "<Figure size 432x288 with 1 Axes>"
      ]
     },
     "metadata": {
      "needs_background": "light"
     },
     "output_type": "display_data"
    }
   ],
   "source": [
    "FR_encoder2 = EncoderRNN(FR_subsets[1]['input_lang'].n_words,\n",
    "                         hidden_size,\n",
    "                         embedding_size).to(device)\n",
    "FR_attn_decoder2 = AttnDecoderRNN(hidden_size,\n",
    "                                  embedding_size,\n",
    "                                  FR_subsets[1]['output_lang'].n_words,\n",
    "                                  FR_MAX_LENGTH,\n",
    "                                  dropout_p=0.0).to(device)\n",
    "\n",
    "FR_plot_losses_2 = trainIters(FR_encoder2,\n",
    "                              FR_attn_decoder2,\n",
    "                              FR_subsets[1]['train_pairs'],\n",
    "                              FR_subsets[1]['input_lang'],\n",
    "                              FR_subsets[1]['output_lang'],\n",
    "                              10000,\n",
    "                              FR_MAX_LENGTH)"
   ]
  },
  {
   "cell_type": "code",
   "execution_count": null,
   "id": "valuable-system",
   "metadata": {},
   "outputs": [],
   "source": [
    "torch.save({\n",
    "  'MAX_LENGTH': FR_MAX_LENGTH,\n",
    "  'hidden_size': hidden_size,\n",
    "  'embedding_size': embedding_size,\n",
    "  'input_lang': FR_subsets[1]['input_lang'],\n",
    "  'output_lang': FR_subsets[1]['output_lang'],\n",
    "  'encoder': FR_encoder2.state_dict(),\n",
    "  'attn_decoder': FR_attn_decoder2.state_dict()\n",
    "}, 'model/FR_10000_S2.pth')"
   ]
  },
  {
   "cell_type": "code",
   "execution_count": null,
   "id": "modified-mason",
   "metadata": {},
   "outputs": [
    {
     "data": {
      "text/plain": [
       "<All keys matched successfully>"
      ]
     },
     "execution_count": null,
     "metadata": {},
     "output_type": "execute_result"
    }
   ],
   "source": [
    "checkpoint = torch.load('model/FR_10000_S2.pth')\n",
    "FR_MAX_LENGTH = checkpoint['MAX_LENGTH']\n",
    "embedding_size = checkpoint['embedding_size']\n",
    "hidden_size = checkpoint['hidden_size']\n",
    "FR_subsets[1]['input_lang'] = checkpoint['input_lang']\n",
    "FR_subsets[1]['output_lang'] = checkpoint['output_lang']\n",
    "FR_encoder2 = EncoderRNN(FR_subsets[1]['input_lang'].n_words, hidden_size, embedding_size).to(device)\n",
    "FR_attn_decoder2 = AttnDecoderRNN(hidden_size, embedding_size, FR_subsets[1]['output_lang'].n_words, FR_MAX_LENGTH, dropout_p=0.0).to(device)\n",
    "FR_encoder2.load_state_dict(checkpoint['encoder'])\n",
    "FR_attn_decoder2.load_state_dict(checkpoint['attn_decoder'])"
   ]
  },
  {
   "cell_type": "code",
   "execution_count": null,
   "id": "wicked-responsibility",
   "metadata": {},
   "outputs": [],
   "source": [
    "evaluateRandomly(FR_encoder2, FR_attn_decoder2, FR_subsets[1]['input_lang'], FR_subsets[1]['output_lang'], FR_subsets[1]['train_pairs'], FR_MAX_LENGTH, n = 1)"
   ]
  },
  {
   "cell_type": "code",
   "execution_count": null,
   "id": "amateur-refrigerator",
   "metadata": {},
   "outputs": [
    {
     "name": "stdout",
     "output_type": "stream",
     "text": [
      "0m 42s (- 25m 27s) (1000 2%)\n",
      "1m 26s (- 24m 53s) (2000 5%)\n",
      "2m 9s (- 24m 12s) (3000 8%)\n",
      "2m 49s (- 23m 6s) (4000 10%)\n",
      "3m 33s (- 22m 29s) (5000 13%)\n",
      "4m 17s (- 21m 55s) (6000 16%)\n",
      "5m 0s (- 21m 14s) (7000 19%)\n",
      "5m 45s (- 20m 35s) (8000 21%)\n",
      "6m 28s (- 19m 53s) (9000 24%)\n",
      "7m 11s (- 19m 9s) (10000 27%)\n",
      "7m 52s (- 18m 21s) (11000 30%)\n",
      "8m 33s (- 17m 34s) (12000 32%)\n",
      "9m 13s (- 16m 47s) (13000 35%)\n",
      "9m 56s (- 16m 4s) (14000 38%)\n",
      "10m 38s (- 15m 21s) (15000 40%)\n",
      "11m 22s (- 14m 40s) (16000 43%)\n",
      "12m 5s (- 13m 58s) (17000 46%)\n",
      "12m 47s (- 13m 15s) (18000 49%)\n",
      "13m 29s (- 12m 31s) (19000 51%)\n",
      "14m 11s (- 11m 48s) (20000 54%)\n",
      "14m 54s (- 11m 6s) (21000 57%)\n",
      "15m 35s (- 10m 23s) (22000 60%)\n",
      "16m 18s (- 9m 40s) (23000 62%)\n",
      "17m 3s (- 8m 59s) (24000 65%)\n",
      "17m 45s (- 8m 16s) (25000 68%)\n",
      "18m 29s (- 7m 34s) (26000 70%)\n",
      "19m 12s (- 6m 52s) (27000 73%)\n",
      "19m 55s (- 6m 9s) (28000 76%)\n",
      "20m 38s (- 5m 26s) (29000 79%)\n",
      "21m 22s (- 4m 44s) (30000 81%)\n",
      "22m 6s (- 4m 1s) (31000 84%)\n",
      "22m 50s (- 3m 19s) (32000 87%)\n",
      "23m 31s (- 2m 36s) (33000 90%)\n",
      "24m 17s (- 1m 53s) (34000 92%)\n",
      "24m 59s (- 1m 10s) (35000 95%)\n",
      "25m 42s (- 0m 27s) (36000 98%)\n",
      "26m 9s (- 0m 0s) (36649 100%)\n"
     ]
    },
    {
     "data": {
      "text/plain": [
       "[0.13700216364826437,\n",
       " 0.03323354240786258,\n",
       " 0.002341656281776829,\n",
       " 1.2417970213496923e-79]"
      ]
     },
     "execution_count": null,
     "metadata": {},
     "output_type": "execute_result"
    }
   ],
   "source": [
    "FR_BLEU_2 = evaluateBleu(FR_encoder2, FR_attn_decoder2, FR_subsets[1]['input_lang'], FR_subsets[1]['output_lang'], FR_subsets[1]['test_pairs'], FR_MAX_LENGTH)\n",
    "FR_BLEU_2"
   ]
  },
  {
   "cell_type": "markdown",
   "id": "aggressive-thunder",
   "metadata": {},
   "source": [
    "### Subset 3"
   ]
  },
  {
   "cell_type": "code",
   "execution_count": null,
   "id": "educated-softball",
   "metadata": {},
   "outputs": [
    {
     "name": "stdout",
     "output_type": "stream",
     "text": [
      "1m 26s (- 12m 56s) (1000 10%) 6.1553\n",
      "2m 55s (- 11m 42s) (2000 20%) 5.9511\n",
      "4m 26s (- 10m 20s) (3000 30%) 5.8738\n",
      "5m 59s (- 8m 59s) (4000 40%) 5.9955\n",
      "7m 31s (- 7m 31s) (5000 50%) 5.9622\n",
      "9m 5s (- 6m 3s) (6000 60%) 5.9658\n",
      "10m 38s (- 4m 33s) (7000 70%) 6.0124\n",
      "12m 13s (- 3m 3s) (8000 80%) 6.0862\n",
      "13m 47s (- 1m 31s) (9000 90%) 5.9666\n",
      "15m 31s (- 0m 0s) (10000 100%) 6.0661\n"
     ]
    },
    {
     "data": {
      "text/plain": [
       "<Figure size 432x288 with 0 Axes>"
      ]
     },
     "metadata": {},
     "output_type": "display_data"
    },
    {
     "data": {
      "image/png": "[encoded data removed]",
      "text/plain": [
       "<Figure size 432x288 with 1 Axes>"
      ]
     },
     "metadata": {
      "needs_background": "light"
     },
     "output_type": "display_data"
    }
   ],
   "source": [
    "FR_encoder3 = EncoderRNN(FR_subsets[2]['input_lang'].n_words,\n",
    "                         hidden_size,\n",
    "                         embedding_size).to(device)\n",
    "FR_attn_decoder3 = AttnDecoderRNN(hidden_size,\n",
    "                                  embedding_size,\n",
    "                                  FR_subsets[2]['output_lang'].n_words,\n",
    "                                  FR_MAX_LENGTH,\n",
    "                                  dropout_p=0.0).to(device)\n",
    "\n",
    "FR_plot_losses_3 = trainIters(FR_encoder3,\n",
    "                              FR_attn_decoder3,\n",
    "                              FR_subsets[2]['train_pairs'],\n",
    "                              FR_subsets[2]['input_lang'],\n",
    "                              FR_subsets[2]['output_lang'],\n",
    "                              10000,\n",
    "                              FR_MAX_LENGTH)"
   ]
  },
  {
   "cell_type": "code",
   "execution_count": null,
   "id": "available-particular",
   "metadata": {},
   "outputs": [],
   "source": [
    "torch.save({\n",
    "  'MAX_LENGTH': FR_MAX_LENGTH,\n",
    "  'hidden_size': hidden_size,\n",
    "  'embedding_size': embedding_size,\n",
    "  'input_lang': FR_subsets[2]['input_lang'],\n",
    "  'output_lang': FR_subsets[2]['output_lang'],\n",
    "  'encoder': FR_encoder3.state_dict(),\n",
    "  'attn_decoder': FR_attn_decoder3.state_dict()\n",
    "}, 'model/FR_10000_S3.pth')"
   ]
  },
  {
   "cell_type": "code",
   "execution_count": null,
   "id": "defined-oriental",
   "metadata": {},
   "outputs": [
    {
     "data": {
      "text/plain": [
       "<All keys matched successfully>"
      ]
     },
     "execution_count": null,
     "metadata": {},
     "output_type": "execute_result"
    }
   ],
   "source": [
    "checkpoint = torch.load('model/FR_10000_S3.pth')\n",
    "FR_MAX_LENGTH = checkpoint['MAX_LENGTH']\n",
    "embedding_size = checkpoint['embedding_size']\n",
    "hidden_size = checkpoint['hidden_size']\n",
    "FR_subsets[2]['input_lang'] = checkpoint['input_lang']\n",
    "FR_subsets[2]['output_lang'] = checkpoint['output_lang']\n",
    "FR_encoder3 = EncoderRNN(FR_subsets[2]['input_lang'].n_words, hidden_size, embedding_size).to(device)\n",
    "FR_attn_decoder3 = AttnDecoderRNN(hidden_size, embedding_size, FR_subsets[2]['output_lang'].n_words, FR_MAX_LENGTH, dropout_p=0.0).to(device)\n",
    "FR_encoder3.load_state_dict(checkpoint['encoder'])\n",
    "FR_attn_decoder3.load_state_dict(checkpoint['attn_decoder'])"
   ]
  },
  {
   "cell_type": "code",
   "execution_count": null,
   "id": "surprised-sight",
   "metadata": {},
   "outputs": [],
   "source": [
    "evaluateRandomly(FR_encoder3, FR_attn_decoder3, FR_subsets[2]['input_lang'], FR_subsets[2]['output_lang'], FR_subsets[2]['train_pairs'], FR_MAX_LENGTH, n = 1)"
   ]
  },
  {
   "cell_type": "code",
   "execution_count": null,
   "id": "relevant-convenience",
   "metadata": {},
   "outputs": [
    {
     "name": "stdout",
     "output_type": "stream",
     "text": [
      "0m 29s (- 17m 49s) (1000 2%)\n",
      "0m 59s (- 17m 11s) (2000 5%)\n",
      "1m 30s (- 16m 54s) (3000 8%)\n",
      "2m 0s (- 16m 27s) (4000 10%)\n",
      "2m 31s (- 15m 59s) (5000 13%)\n",
      "3m 3s (- 15m 37s) (6000 16%)\n",
      "3m 34s (- 15m 7s) (7000 19%)\n",
      "4m 7s (- 14m 47s) (8000 21%)\n",
      "4m 40s (- 14m 21s) (9000 24%)\n",
      "5m 14s (- 13m 58s) (10000 27%)\n",
      "5m 46s (- 13m 27s) (11000 30%)\n",
      "6m 16s (- 12m 54s) (12000 32%)\n",
      "6m 49s (- 12m 24s) (13000 35%)\n",
      "7m 21s (- 11m 53s) (14000 38%)\n",
      "7m 52s (- 11m 22s) (15000 40%)\n",
      "8m 24s (- 10m 51s) (16000 43%)\n",
      "8m 54s (- 10m 17s) (17000 46%)\n",
      "9m 24s (- 9m 45s) (18000 49%)\n",
      "9m 55s (- 9m 13s) (19000 51%)\n",
      "10m 25s (- 8m 41s) (20000 54%)\n",
      "10m 58s (- 8m 10s) (21000 57%)\n",
      "11m 30s (- 7m 39s) (22000 60%)\n",
      "11m 59s (- 7m 7s) (23000 62%)\n",
      "12m 31s (- 6m 35s) (24000 65%)\n",
      "13m 2s (- 6m 4s) (25000 68%)\n",
      "13m 31s (- 5m 32s) (26000 70%)\n",
      "14m 2s (- 5m 1s) (27000 73%)\n",
      "14m 30s (- 4m 28s) (28000 76%)\n",
      "14m 59s (- 3m 57s) (29000 79%)\n",
      "15m 30s (- 3m 26s) (30000 81%)\n",
      "16m 1s (- 2m 55s) (31000 84%)\n",
      "16m 31s (- 2m 24s) (32000 87%)\n",
      "17m 3s (- 1m 53s) (33000 90%)\n",
      "17m 33s (- 1m 22s) (34000 92%)\n",
      "18m 2s (- 0m 51s) (35000 95%)\n",
      "18m 33s (- 0m 20s) (36000 98%)\n",
      "18m 52s (- 0m 0s) (36649 100%)\n"
     ]
    },
    {
     "data": {
      "text/plain": [
       "[0.09825464703740479,\n",
       " 0.026269113691183767,\n",
       " 0.0012598502270323802,\n",
       " 6.7388930027991586e-80]"
      ]
     },
     "execution_count": null,
     "metadata": {},
     "output_type": "execute_result"
    }
   ],
   "source": [
    "FR_BLEU_3 = evaluateBleu(FR_encoder3, FR_attn_decoder3, FR_subsets[2]['input_lang'], FR_subsets[2]['output_lang'], FR_subsets[2]['test_pairs'], FR_MAX_LENGTH)\n",
    "FR_BLEU_3"
   ]
  },
  {
   "cell_type": "markdown",
   "id": "hazardous-student",
   "metadata": {},
   "source": [
    "### Subset 4"
   ]
  },
  {
   "cell_type": "code",
   "execution_count": null,
   "id": "tired-skirt",
   "metadata": {},
   "outputs": [
    {
     "name": "stdout",
     "output_type": "stream",
     "text": [
      "1m 29s (- 13m 29s) (1000 10%) 6.1572\n",
      "2m 57s (- 11m 50s) (2000 20%) 5.9881\n",
      "4m 30s (- 10m 31s) (3000 30%) 6.1784\n",
      "6m 5s (- 9m 8s) (4000 40%) 6.1110\n",
      "7m 43s (- 7m 43s) (5000 50%) 6.1983\n",
      "9m 19s (- 6m 13s) (6000 60%) 6.1223\n",
      "10m 58s (- 4m 42s) (7000 70%) 6.1478\n",
      "12m 39s (- 3m 9s) (8000 80%) 6.1273\n",
      "14m 16s (- 1m 35s) (9000 90%) 6.0495\n",
      "15m 56s (- 0m 0s) (10000 100%) 6.1321\n"
     ]
    },
    {
     "data": {
      "text/plain": [
       "<Figure size 432x288 with 0 Axes>"
      ]
     },
     "metadata": {},
     "output_type": "display_data"
    },
    {
     "data": {
      "image/png": "[encoded data removed]",
      "text/plain": [
       "<Figure size 432x288 with 1 Axes>"
      ]
     },
     "metadata": {
      "needs_background": "light"
     },
     "output_type": "display_data"
    }
   ],
   "source": [
    "FR_encoder4 = EncoderRNN(FR_subsets[3]['input_lang'].n_words,\n",
    "                         hidden_size,\n",
    "                         embedding_size).to(device)\n",
    "FR_attn_decoder4 = AttnDecoderRNN(hidden_size,\n",
    "                                  embedding_size,\n",
    "                                  FR_subsets[3]['output_lang'].n_words,\n",
    "                                  FR_MAX_LENGTH,\n",
    "                                  dropout_p=0.0).to(device)\n",
    "\n",
    "FR_plot_losses_4 = trainIters(FR_encoder4,\n",
    "                              FR_attn_decoder4,\n",
    "                              FR_subsets[3]['train_pairs'],\n",
    "                              FR_subsets[3]['input_lang'],\n",
    "                              FR_subsets[3]['output_lang'],\n",
    "                              10000,\n",
    "                              FR_MAX_LENGTH)"
   ]
  },
  {
   "cell_type": "code",
   "execution_count": null,
   "id": "dental-behavior",
   "metadata": {},
   "outputs": [],
   "source": [
    "torch.save({\n",
    "  'MAX_LENGTH': FR_MAX_LENGTH,\n",
    "  'hidden_size': hidden_size,\n",
    "  'embedding_size': embedding_size,\n",
    "  'input_lang': FR_subsets[3]['input_lang'],\n",
    "  'output_lang': FR_subsets[3]['output_lang'],\n",
    "  'encoder': FR_encoder4.state_dict(),\n",
    "  'attn_decoder': FR_attn_decoder4.state_dict()\n",
    "}, 'model/FR_10000_S4.pth')"
   ]
  },
  {
   "cell_type": "code",
   "execution_count": null,
   "id": "strong-logic",
   "metadata": {},
   "outputs": [
    {
     "data": {
      "text/plain": [
       "<All keys matched successfully>"
      ]
     },
     "execution_count": null,
     "metadata": {},
     "output_type": "execute_result"
    }
   ],
   "source": [
    "checkpoint = torch.load('model/FR_10000_S4.pth')\n",
    "FR_MAX_LENGTH = checkpoint['MAX_LENGTH']\n",
    "embedding_size = checkpoint['embedding_size']\n",
    "hidden_size = checkpoint['hidden_size']\n",
    "FR_subsets[3]['input_lang'] = checkpoint['input_lang']\n",
    "FR_subsets[3]['output_lang'] = checkpoint['output_lang']\n",
    "FR_encoder4 = EncoderRNN(FR_subsets[3]['input_lang'].n_words, hidden_size, embedding_size).to(device)\n",
    "FR_attn_decoder4 = AttnDecoderRNN(hidden_size, embedding_size, FR_subsets[3]['output_lang'].n_words, FR_MAX_LENGTH, dropout_p=0.0).to(device)\n",
    "FR_encoder4.load_state_dict(checkpoint['encoder'])\n",
    "FR_attn_decoder4.load_state_dict(checkpoint['attn_decoder'])"
   ]
  },
  {
   "cell_type": "code",
   "execution_count": null,
   "id": "disabled-chuck",
   "metadata": {},
   "outputs": [],
   "source": [
    "evaluateRandomly(FR_encoder4, FR_attn_decoder4, FR_subsets[3]['input_lang'], FR_subsets[3]['output_lang'], FR_subsets[3]['train_pairs'], FR_MAX_LENGTH, n = 1)"
   ]
  },
  {
   "cell_type": "code",
   "execution_count": null,
   "id": "interesting-gather",
   "metadata": {},
   "outputs": [
    {
     "name": "stdout",
     "output_type": "stream",
     "text": [
      "0m 34s (- 20m 15s) (1000 2%)\n",
      "1m 6s (- 19m 7s) (2000 5%)\n",
      "1m 41s (- 18m 54s) (3000 8%)\n",
      "2m 16s (- 18m 34s) (4000 10%)\n",
      "2m 51s (- 18m 7s) (5000 13%)\n",
      "3m 26s (- 17m 36s) (6000 16%)\n",
      "4m 0s (- 16m 59s) (7000 19%)\n",
      "4m 36s (- 16m 29s) (8000 21%)\n",
      "5m 9s (- 15m 50s) (9000 24%)\n",
      "5m 44s (- 15m 17s) (10000 27%)\n",
      "6m 18s (- 14m 42s) (11000 30%)\n",
      "6m 52s (- 14m 7s) (12000 32%)\n",
      "7m 26s (- 13m 32s) (13000 35%)\n",
      "8m 1s (- 12m 58s) (14000 38%)\n",
      "8m 37s (- 12m 26s) (15000 40%)\n",
      "9m 11s (- 11m 52s) (16000 43%)\n",
      "9m 45s (- 11m 16s) (17000 46%)\n",
      "10m 19s (- 10m 41s) (18000 49%)\n",
      "10m 53s (- 10m 6s) (19000 51%)\n",
      "11m 28s (- 9m 32s) (20000 54%)\n",
      "12m 2s (- 8m 58s) (21000 57%)\n",
      "12m 35s (- 8m 23s) (22000 60%)\n",
      "13m 10s (- 7m 49s) (23000 62%)\n",
      "13m 45s (- 7m 15s) (24000 65%)\n",
      "14m 19s (- 6m 40s) (25000 68%)\n",
      "14m 54s (- 6m 6s) (26000 70%)\n",
      "15m 29s (- 5m 32s) (27000 73%)\n",
      "16m 5s (- 4m 58s) (28000 76%)\n",
      "16m 39s (- 4m 23s) (29000 79%)\n",
      "17m 14s (- 3m 49s) (30000 81%)\n",
      "17m 48s (- 3m 14s) (31000 84%)\n",
      "18m 24s (- 2m 40s) (32000 87%)\n",
      "18m 59s (- 2m 6s) (33000 90%)\n",
      "19m 32s (- 1m 31s) (34000 92%)\n",
      "20m 6s (- 0m 56s) (35000 95%)\n",
      "20m 40s (- 0m 22s) (36000 98%)\n",
      "21m 3s (- 0m 0s) (36649 100%)\n"
     ]
    },
    {
     "data": {
      "text/plain": [
       "[0.10596269602031409,\n",
       " 0.020097700097462992,\n",
       " 0.0008531808735832386,\n",
       " 5.356091104766489e-80]"
      ]
     },
     "execution_count": null,
     "metadata": {},
     "output_type": "execute_result"
    }
   ],
   "source": [
    "FR_BLEU_4 = evaluateBleu(FR_encoder4, FR_attn_decoder4, FR_subsets[3]['input_lang'], FR_subsets[3]['output_lang'], FR_subsets[3]['test_pairs'], FR_MAX_LENGTH)\n",
    "FR_BLEU_4"
   ]
  },
  {
   "cell_type": "markdown",
   "id": "external-parking",
   "metadata": {},
   "source": [
    "### Subset 5"
   ]
  },
  {
   "cell_type": "code",
   "execution_count": null,
   "id": "chronic-richards",
   "metadata": {},
   "outputs": [
    {
     "name": "stdout",
     "output_type": "stream",
     "text": [
      "1m 32s (- 13m 56s) (1000 10%) 6.2304\n",
      "3m 5s (- 12m 23s) (2000 20%) 6.1335\n",
      "4m 42s (- 11m 0s) (3000 30%) 5.8749\n",
      "6m 26s (- 9m 39s) (4000 40%) 5.9423\n",
      "8m 5s (- 8m 5s) (5000 50%) 6.0144\n",
      "9m 57s (- 6m 38s) (6000 60%) 6.0345\n",
      "11m 48s (- 5m 3s) (7000 70%) 5.9965\n",
      "14m 32s (- 3m 38s) (8000 80%) 6.0036\n",
      "17m 25s (- 1m 56s) (9000 90%) 5.9555\n",
      "20m 30s (- 0m 0s) (10000 100%) 5.9347\n"
     ]
    },
    {
     "data": {
      "text/plain": [
       "<Figure size 432x288 with 0 Axes>"
      ]
     },
     "metadata": {},
     "output_type": "display_data"
    },
    {
     "data": {
      "image/png": "[encoded data removed]",
      "text/plain": [
       "<Figure size 432x288 with 1 Axes>"
      ]
     },
     "metadata": {
      "needs_background": "light"
     },
     "output_type": "display_data"
    }
   ],
   "source": [
    "FR_encoder5 = EncoderRNN(FR_subsets[4]['input_lang'].n_words,\n",
    "                         hidden_size,\n",
    "                         embedding_size).to(device)\n",
    "FR_attn_decoder5 = AttnDecoderRNN(hidden_size,\n",
    "                                  embedding_size,\n",
    "                                  FR_subsets[4]['output_lang'].n_words,\n",
    "                                  FR_MAX_LENGTH,\n",
    "                                  dropout_p=0.0).to(device)\n",
    "\n",
    "FR_plot_losses_5 = trainIters(FR_encoder5,\n",
    "                              FR_attn_decoder5,\n",
    "                              FR_subsets[4]['train_pairs'],\n",
    "                              FR_subsets[4]['input_lang'],\n",
    "                              FR_subsets[4]['output_lang'],\n",
    "                              10000,\n",
    "                              FR_MAX_LENGTH)"
   ]
  },
  {
   "cell_type": "code",
   "execution_count": null,
   "id": "complex-favor",
   "metadata": {},
   "outputs": [],
   "source": [
    "torch.save({\n",
    "  'MAX_LENGTH': FR_MAX_LENGTH,\n",
    "  'hidden_size': hidden_size,\n",
    "  'embedding_size': embedding_size,\n",
    "  'input_lang': FR_subsets[4]['input_lang'],\n",
    "  'output_lang': FR_subsets[4]['output_lang'],\n",
    "  'encoder': FR_encoder5.state_dict(),\n",
    "  'attn_decoder': FR_attn_decoder5.state_dict()\n",
    "}, 'model/FR_10000_S5.pth')"
   ]
  },
  {
   "cell_type": "code",
   "execution_count": null,
   "id": "passing-letters",
   "metadata": {},
   "outputs": [
    {
     "data": {
      "text/plain": [
       "<All keys matched successfully>"
      ]
     },
     "execution_count": null,
     "metadata": {},
     "output_type": "execute_result"
    }
   ],
   "source": [
    "checkpoint = torch.load('model/FR_10000_S5.pth')\n",
    "FR_MAX_LENGTH = checkpoint['MAX_LENGTH']\n",
    "embedding_size = checkpoint['embedding_size']\n",
    "hidden_size = checkpoint['hidden_size']\n",
    "FR_subsets[4]['input_lang'] = checkpoint['input_lang']\n",
    "FR_subsets[4]['output_lang'] = checkpoint['output_lang']\n",
    "FR_encoder5 = EncoderRNN(FR_subsets[4]['input_lang'].n_words, hidden_size, embedding_size).to(device)\n",
    "FR_attn_decoder5 = AttnDecoderRNN(hidden_size, embedding_size, FR_subsets[4]['output_lang'].n_words, FR_MAX_LENGTH, dropout_p=0.0).to(device)\n",
    "FR_encoder5.load_state_dict(checkpoint['encoder'])\n",
    "FR_attn_decoder5.load_state_dict(checkpoint['attn_decoder'])"
   ]
  },
  {
   "cell_type": "code",
   "execution_count": null,
   "id": "spare-intake",
   "metadata": {},
   "outputs": [],
   "source": [
    "evaluateRandomly(FR_encoder5, FR_attn_decoder5, FR_subsets[4]['input_lang'], FR_subsets[4]['output_lang'], FR_subsets[4]['train_pairs'], FR_MAX_LENGTH, n = 1)"
   ]
  },
  {
   "cell_type": "code",
   "execution_count": null,
   "id": "considered-packaging",
   "metadata": {},
   "outputs": [
    {
     "name": "stdout",
     "output_type": "stream",
     "text": [
      "0m 28s (- 17m 2s) (1000 2%)\n",
      "0m 59s (- 17m 3s) (2000 5%)\n",
      "1m 30s (- 16m 52s) (3000 8%)\n",
      "1m 59s (- 16m 18s) (4000 10%)\n",
      "2m 29s (- 15m 44s) (5000 13%)\n",
      "2m 59s (- 15m 15s) (6000 16%)\n",
      "3m 29s (- 14m 48s) (7000 19%)\n",
      "3m 59s (- 14m 19s) (8000 21%)\n",
      "4m 30s (- 13m 51s) (9000 24%)\n",
      "5m 1s (- 13m 24s) (10000 27%)\n",
      "5m 33s (- 12m 56s) (11000 30%)\n",
      "6m 4s (- 12m 27s) (12000 32%)\n",
      "6m 34s (- 11m 57s) (13000 35%)\n",
      "7m 2s (- 11m 24s) (14000 38%)\n",
      "7m 33s (- 10m 54s) (15000 40%)\n",
      "8m 4s (- 10m 24s) (16000 43%)\n",
      "8m 35s (- 9m 55s) (17000 46%)\n",
      "9m 5s (- 9m 24s) (18000 49%)\n",
      "9m 36s (- 8m 55s) (19000 51%)\n",
      "10m 6s (- 8m 24s) (20000 54%)\n",
      "10m 36s (- 7m 54s) (21000 57%)\n",
      "11m 6s (- 7m 24s) (22000 60%)\n",
      "11m 37s (- 6m 53s) (23000 62%)\n",
      "12m 6s (- 6m 23s) (24000 65%)\n",
      "12m 38s (- 5m 53s) (25000 68%)\n",
      "13m 9s (- 5m 23s) (26000 70%)\n",
      "13m 40s (- 4m 53s) (27000 73%)\n",
      "14m 11s (- 4m 23s) (28000 76%)\n",
      "14m 42s (- 3m 52s) (29000 79%)\n",
      "15m 12s (- 3m 22s) (30000 81%)\n",
      "15m 42s (- 2m 51s) (31000 84%)\n",
      "16m 13s (- 2m 21s) (32000 87%)\n",
      "16m 44s (- 1m 51s) (33000 90%)\n",
      "17m 15s (- 1m 20s) (34000 92%)\n",
      "17m 48s (- 0m 50s) (35000 95%)\n",
      "18m 18s (- 0m 19s) (36000 98%)\n",
      "18m 39s (- 0m 0s) (36650 100%)\n"
     ]
    },
    {
     "data": {
      "text/plain": [
       "[0.10318392914988318,\n",
       " 0.025797625417173443,\n",
       " 0.001242281600104335,\n",
       " 6.692967350461706e-80]"
      ]
     },
     "execution_count": null,
     "metadata": {},
     "output_type": "execute_result"
    }
   ],
   "source": [
    "FR_BLEU_5 = evaluateBleu(FR_encoder5, FR_attn_decoder5, FR_subsets[4]['input_lang'], FR_subsets[4]['output_lang'], FR_subsets[4]['test_pairs'], FR_MAX_LENGTH)\n",
    "FR_BLEU_5"
   ]
  },
  {
   "cell_type": "markdown",
   "id": "supported-stream",
   "metadata": {},
   "source": [
    "### Average BLEU"
   ]
  },
  {
   "cell_type": "code",
   "execution_count": null,
   "id": "incorporate-personal",
   "metadata": {},
   "outputs": [
    {
     "data": {
      "text/plain": [
       "array([1.05679131e-01, 2.39247643e-02, 1.30731733e-03, 7.24788183e-80])"
      ]
     },
     "execution_count": null,
     "metadata": {},
     "output_type": "execute_result"
    }
   ],
   "source": [
    "np.average(np.stack((FR_BLEU_1, FR_BLEU_2, FR_BLEU_3, FR_BLEU_4, FR_BLEU_5)), 0)"
   ]
  },
  {
   "cell_type": "markdown",
   "id": "fifty-sister",
   "metadata": {},
   "source": [
    "## Russian"
   ]
  },
  {
   "cell_type": "code",
   "execution_count": null,
   "id": "going-drive",
   "metadata": {},
   "outputs": [],
   "source": [
    "RU_MAX_LENGTH = max([len(a.split(' ')) for a,b in RU_subsets[0]['train_pairs']]\n",
    "                  + [len(a.split(' ')) for a,b in RU_subsets[0]['test_pairs']]) + 1\n",
    "embedding_size = 256\n",
    "hidden_size = 256"
   ]
  },
  {
   "cell_type": "markdown",
   "id": "every-nancy",
   "metadata": {},
   "source": [
    "### Subset 1"
   ]
  },
  {
   "cell_type": "code",
   "execution_count": null,
   "id": "twelve-employee",
   "metadata": {},
   "outputs": [
    {
     "name": "stdout",
     "output_type": "stream",
     "text": [
      "1m 42s (- 15m 23s) (1000 10%) 5.9153\n",
      "3m 32s (- 14m 8s) (2000 20%) 5.6059\n",
      "5m 17s (- 12m 21s) (3000 30%) 5.4900\n",
      "6m 54s (- 10m 21s) (4000 40%) 5.2998\n",
      "8m 9s (- 8m 9s) (5000 50%) 5.4726\n",
      "9m 14s (- 6m 9s) (6000 60%) 5.3340\n",
      "10m 21s (- 4m 26s) (7000 70%) 5.3251\n",
      "11m 21s (- 2m 50s) (8000 80%) 5.3281\n",
      "12m 28s (- 1m 23s) (9000 90%) 5.1294\n",
      "13m 38s (- 0m 0s) (10000 100%) 5.2084\n"
     ]
    },
    {
     "data": {
      "text/plain": [
       "<Figure size 432x288 with 0 Axes>"
      ]
     },
     "metadata": {},
     "output_type": "display_data"
    },
    {
     "data": {
      "image/png": "[encoded data removed]",
      "text/plain": [
       "<Figure size 432x288 with 1 Axes>"
      ]
     },
     "metadata": {
      "needs_background": "light"
     },
     "output_type": "display_data"
    }
   ],
   "source": [
    "RU_encoder1 = EncoderRNN(RU_subsets[0]['input_lang'].n_words,\n",
    "                         hidden_size,\n",
    "                         embedding_size).to(device)\n",
    "RU_attn_decoder1 = AttnDecoderRNN(hidden_size,\n",
    "                                  embedding_size,\n",
    "                                  RU_subsets[0]['output_lang'].n_words,\n",
    "                                  RU_MAX_LENGTH,\n",
    "                                  dropout_p=0.0).to(device)\n",
    "\n",
    "RU_plot_losses_1 = trainIters(RU_encoder1,\n",
    "                              RU_attn_decoder1,\n",
    "                              RU_subsets[0]['train_pairs'],\n",
    "                              RU_subsets[0]['input_lang'],\n",
    "                              RU_subsets[0]['output_lang'],\n",
    "                              10000,\n",
    "                              RU_MAX_LENGTH)"
   ]
  },
  {
   "cell_type": "code",
   "execution_count": null,
   "id": "muslim-foster",
   "metadata": {},
   "outputs": [],
   "source": [
    "torch.save({\n",
    "  'MAX_LENGTH': RU_MAX_LENGTH,\n",
    "  'hidden_size': hidden_size,\n",
    "  'embedding_size': embedding_size,\n",
    "  'input_lang': RU_subsets[0]['input_lang'],\n",
    "  'output_lang': RU_subsets[0]['output_lang'],\n",
    "  'encoder': RU_encoder1.state_dict(),\n",
    "  'attn_decoder': RU_attn_decoder1.state_dict()\n",
    "}, 'model/RU_10000_S1.pth')"
   ]
  },
  {
   "cell_type": "code",
   "execution_count": null,
   "id": "satisfactory-quebec",
   "metadata": {},
   "outputs": [
    {
     "data": {
      "text/plain": [
       "<All keys matched successfully>"
      ]
     },
     "execution_count": null,
     "metadata": {},
     "output_type": "execute_result"
    }
   ],
   "source": [
    "checkpoint = torch.load('model/RU_10000_S1.pth')\n",
    "RU_MAX_LENGTH = checkpoint['MAX_LENGTH']\n",
    "embedding_size = checkpoint['embedding_size']\n",
    "hidden_size = checkpoint['hidden_size']\n",
    "RU_subsets[0]['input_lang'] = checkpoint['input_lang']\n",
    "RU_subsets[0]['output_lang'] = checkpoint['output_lang']\n",
    "RU_encoder1 = EncoderRNN(RU_subsets[0]['input_lang'].n_words, hidden_size, embedding_size).to(device)\n",
    "RU_attn_decoder1 = AttnDecoderRNN(hidden_size, embedding_size, RU_subsets[0]['output_lang'].n_words, RU_MAX_LENGTH, dropout_p=0.0).to(device)\n",
    "RU_encoder1.load_state_dict(checkpoint['encoder'])\n",
    "RU_attn_decoder1.load_state_dict(checkpoint['attn_decoder'])"
   ]
  },
  {
   "cell_type": "code",
   "execution_count": null,
   "id": "stainless-enlargement",
   "metadata": {},
   "outputs": [],
   "source": [
    "evaluateRandomly(RU_encoder1, RU_attn_decoder1, RU_subsets[0]['input_lang'], RU_subsets[0]['output_lang'], RU_subsets[0]['test_pairs'], RU_MAX_LENGTH, n = 1)"
   ]
  },
  {
   "cell_type": "code",
   "execution_count": null,
   "id": "furnished-longer",
   "metadata": {},
   "outputs": [
    {
     "name": "stdout",
     "output_type": "stream",
     "text": [
      "0m 17s (- 9m 9s) (1000 3%)\n",
      "0m 34s (- 8m 52s) (2000 6%)\n",
      "0m 51s (- 8m 35s) (3000 9%)\n",
      "1m 8s (- 8m 20s) (4000 12%)\n",
      "1m 25s (- 8m 3s) (5000 15%)\n",
      "1m 43s (- 7m 45s) (6000 18%)\n",
      "2m 0s (- 7m 28s) (7000 21%)\n",
      "2m 17s (- 7m 13s) (8000 24%)\n",
      "2m 35s (- 6m 57s) (9000 27%)\n",
      "2m 52s (- 6m 39s) (10000 30%)\n",
      "3m 10s (- 6m 22s) (11000 33%)\n",
      "3m 27s (- 6m 4s) (12000 36%)\n",
      "3m 44s (- 5m 47s) (13000 39%)\n",
      "4m 1s (- 5m 29s) (14000 42%)\n",
      "4m 18s (- 5m 12s) (15000 45%)\n",
      "4m 35s (- 4m 55s) (16000 48%)\n",
      "4m 52s (- 4m 37s) (17000 51%)\n",
      "5m 10s (- 4m 20s) (18000 54%)\n",
      "5m 27s (- 4m 3s) (19000 57%)\n",
      "5m 44s (- 3m 45s) (20000 60%)\n",
      "6m 1s (- 3m 28s) (21000 63%)\n",
      "6m 18s (- 3m 11s) (22000 66%)\n",
      "6m 35s (- 2m 54s) (23000 69%)\n",
      "6m 52s (- 2m 36s) (24000 72%)\n",
      "7m 10s (- 2m 19s) (25000 75%)\n",
      "7m 27s (- 2m 2s) (26000 78%)\n",
      "7m 44s (- 1m 45s) (27000 81%)\n",
      "8m 2s (- 1m 28s) (28000 84%)\n",
      "8m 19s (- 1m 11s) (29000 87%)\n",
      "8m 37s (- 0m 53s) (30000 90%)\n",
      "8m 53s (- 0m 36s) (31000 93%)\n",
      "9m 11s (- 0m 19s) (32000 96%)\n",
      "9m 28s (- 0m 2s) (33000 99%)\n",
      "9m 30s (- 0m 0s) (33119 100%)\n"
     ]
    },
    {
     "data": {
      "text/plain": [
       "[0.0904832426016131,\n",
       " 0.025626978493707448,\n",
       " 0.0022584836722688174,\n",
       " 9.855262288814669e-80]"
      ]
     },
     "execution_count": null,
     "metadata": {},
     "output_type": "execute_result"
    }
   ],
   "source": [
    "RU_BLEU_1 = evaluateBleu(RU_encoder1,\n",
    "                         RU_attn_decoder1,\n",
    "                         RU_subsets[0]['input_lang'],\n",
    "                         RU_subsets[0]['output_lang'],\n",
    "                         RU_subsets[0]['test_pairs'],\n",
    "                         RU_MAX_LENGTH)\n",
    "RU_BLEU_1"
   ]
  },
  {
   "cell_type": "code",
   "execution_count": null,
   "id": "elect-benjamin",
   "metadata": {},
   "outputs": [
    {
     "name": "stdout",
     "output_type": "stream",
     "text": [
      "5m 44s (- 184m 18s) (1000 3%)\n",
      "11m 32s (- 179m 40s) (2000 6%)\n",
      "17m 18s (- 173m 44s) (3000 9%)\n",
      "23m 10s (- 168m 41s) (4000 12%)\n",
      "29m 2s (- 163m 22s) (5000 15%)\n",
      "34m 50s (- 157m 29s) (6000 18%)\n",
      "40m 41s (- 151m 48s) (7000 21%)\n",
      "46m 39s (- 146m 31s) (8000 24%)\n",
      "52m 41s (- 141m 12s) (9000 27%)\n",
      "58m 25s (- 135m 5s) (10000 30%)\n",
      "64m 33s (- 129m 48s) (11000 33%)\n",
      "71m 3s (- 125m 3s) (12000 36%)\n",
      "77m 39s (- 120m 12s) (13000 39%)\n",
      "84m 12s (- 114m 59s) (14000 42%)\n",
      "90m 50s (- 109m 44s) (15000 45%)\n",
      "97m 31s (- 104m 21s) (16000 48%)\n",
      "103m 59s (- 98m 36s) (17000 51%)\n",
      "110m 35s (- 92m 54s) (18000 54%)\n",
      "116m 48s (- 86m 48s) (19000 57%)\n",
      "123m 14s (- 80m 50s) (20000 60%)\n",
      "129m 41s (- 74m 50s) (21000 63%)\n",
      "136m 10s (- 68m 50s) (22000 66%)\n",
      "142m 7s (- 62m 31s) (23000 69%)\n",
      "148m 4s (- 56m 16s) (24000 72%)\n",
      "154m 7s (- 50m 3s) (25000 75%)\n",
      "159m 50s (- 43m 46s) (26000 78%)\n",
      "165m 37s (- 37m 32s) (27000 81%)\n",
      "171m 29s (- 31m 21s) (28000 84%)\n",
      "177m 27s (- 25m 12s) (29000 87%)\n",
      "183m 15s (- 19m 3s) (30000 90%)\n",
      "188m 55s (- 12m 55s) (31000 93%)\n",
      "194m 40s (- 6m 48s) (32000 96%)\n",
      "200m 29s (- 0m 43s) (33000 99%)\n",
      "201m 14s (- 0m 0s) (33119 100%)\n"
     ]
    },
    {
     "data": {
      "text/plain": [
       "[0.08086252173433908,\n",
       " 0.0233864267011253,\n",
       " 0.001985612991798911,\n",
       " 8.306487218923785e-80]"
      ]
     },
     "execution_count": null,
     "metadata": {},
     "output_type": "execute_result"
    }
   ],
   "source": [
    "RU_BEAM_1 = evaluateBleu_beam_search(RU_encoder1, RU_attn_decoder1, RU_subsets[0]['input_lang'], RU_subsets[0]['output_lang'], RU_subsets[0]['test_pairs'], RU_MAX_LENGTH, 4)\n",
    "RU_BEAM_1"
   ]
  },
  {
   "cell_type": "markdown",
   "id": "modern-cigarette",
   "metadata": {},
   "source": [
    "### Subset 2"
   ]
  },
  {
   "cell_type": "code",
   "execution_count": null,
   "id": "human-software",
   "metadata": {},
   "outputs": [
    {
     "name": "stdout",
     "output_type": "stream",
     "text": [
      "1m 8s (- 10m 18s) (1000 10%) 5.8903\n",
      "2m 15s (- 9m 0s) (2000 20%) 5.5064\n",
      "3m 26s (- 8m 0s) (3000 30%) 5.5569\n",
      "4m 29s (- 6m 43s) (4000 40%) 5.3873\n",
      "5m 31s (- 5m 31s) (5000 50%) 5.3639\n",
      "6m 32s (- 4m 21s) (6000 60%) 5.2359\n",
      "7m 30s (- 3m 13s) (7000 70%) 5.1016\n",
      "8m 35s (- 2m 8s) (8000 80%) 5.2700\n",
      "9m 37s (- 1m 4s) (9000 90%) 5.1808\n",
      "10m 42s (- 0m 0s) (10000 100%) 5.2945\n"
     ]
    },
    {
     "data": {
      "text/plain": [
       "<Figure size 432x288 with 0 Axes>"
      ]
     },
     "metadata": {},
     "output_type": "display_data"
    },
    {
     "data": {
      "image/png": "[encoded data removed]",
      "text/plain": [
       "<Figure size 432x288 with 1 Axes>"
      ]
     },
     "metadata": {
      "needs_background": "light"
     },
     "output_type": "display_data"
    }
   ],
   "source": [
    "RU_encoder2 = EncoderRNN(RU_subsets[1]['input_lang'].n_words,\n",
    "                         hidden_size,\n",
    "                         embedding_size).to(device)\n",
    "RU_attn_decoder2 = AttnDecoderRNN(hidden_size,\n",
    "                                  embedding_size,\n",
    "                                  RU_subsets[1]['output_lang'].n_words,\n",
    "                                  RU_MAX_LENGTH,\n",
    "                                  dropout_p=0.0).to(device)\n",
    "\n",
    "RU_plot_losses_2 = trainIters(RU_encoder2,\n",
    "                              RU_attn_decoder2,\n",
    "                              RU_subsets[1]['train_pairs'],\n",
    "                              RU_subsets[1]['input_lang'],\n",
    "                              RU_subsets[1]['output_lang'],\n",
    "                              10000,\n",
    "                              RU_MAX_LENGTH)"
   ]
  },
  {
   "cell_type": "code",
   "execution_count": null,
   "id": "graphic-fossil",
   "metadata": {},
   "outputs": [],
   "source": [
    "torch.save({\n",
    "  'MAX_LENGTH': RU_MAX_LENGTH,\n",
    "  'hidden_size': hidden_size,\n",
    "  'embedding_size': embedding_size,\n",
    "  'input_lang': RU_subsets[1]['input_lang'],\n",
    "  'output_lang': RU_subsets[1]['output_lang'],\n",
    "  'encoder': RU_encoder2.state_dict(),\n",
    "  'attn_decoder': RU_attn_decoder2.state_dict()\n",
    "}, 'model/RU_10000_S2.pth')"
   ]
  },
  {
   "cell_type": "code",
   "execution_count": null,
   "id": "smart-organ",
   "metadata": {},
   "outputs": [
    {
     "data": {
      "text/plain": [
       "<All keys matched successfully>"
      ]
     },
     "execution_count": null,
     "metadata": {},
     "output_type": "execute_result"
    }
   ],
   "source": [
    "checkpoint = torch.load('model/RU_10000_S2.pth')\n",
    "RU_MAX_LENGTH = checkpoint['MAX_LENGTH']\n",
    "embedding_size = checkpoint['embedding_size']\n",
    "hidden_size = checkpoint['hidden_size']\n",
    "RU_subsets[1]['input_lang'] = checkpoint['input_lang']\n",
    "RU_subsets[1]['output_lang'] = checkpoint['output_lang']\n",
    "RU_encoder2 = EncoderRNN(RU_subsets[1]['input_lang'].n_words, hidden_size, embedding_size).to(device)\n",
    "RU_attn_decoder2 = AttnDecoderRNN(hidden_size, embedding_size, RU_subsets[1]['output_lang'].n_words, RU_MAX_LENGTH, dropout_p=0.0).to(device)\n",
    "RU_encoder2.load_state_dict(checkpoint['encoder'])\n",
    "RU_attn_decoder2.load_state_dict(checkpoint['attn_decoder'])"
   ]
  },
  {
   "cell_type": "code",
   "execution_count": null,
   "id": "substantial-combine",
   "metadata": {},
   "outputs": [],
   "source": [
    "evaluateRandomly(RU_encoder2, RU_attn_decoder2, RU_subsets[1]['input_lang'], RU_subsets[1]['output_lang'], RU_subsets[1]['train_pairs'], RU_MAX_LENGTH, n = 1)"
   ]
  },
  {
   "cell_type": "code",
   "execution_count": null,
   "id": "considerable-parts",
   "metadata": {},
   "outputs": [
    {
     "name": "stdout",
     "output_type": "stream",
     "text": [
      "0m 12s (- 6m 26s) (1000 3%)\n",
      "0m 24s (- 6m 17s) (2000 6%)\n",
      "0m 36s (- 6m 6s) (3000 9%)\n",
      "0m 48s (- 5m 54s) (4000 12%)\n",
      "1m 0s (- 5m 41s) (5000 15%)\n",
      "1m 12s (- 5m 29s) (6000 18%)\n",
      "1m 25s (- 5m 17s) (7000 21%)\n",
      "1m 37s (- 5m 4s) (8000 24%)\n",
      "1m 49s (- 4m 52s) (9000 27%)\n",
      "2m 1s (- 4m 40s) (10000 30%)\n",
      "2m 13s (- 4m 28s) (11000 33%)\n",
      "2m 25s (- 4m 16s) (12000 36%)\n",
      "2m 37s (- 4m 4s) (13000 39%)\n",
      "2m 50s (- 3m 52s) (14000 42%)\n",
      "3m 2s (- 3m 40s) (15000 45%)\n",
      "3m 14s (- 3m 28s) (16000 48%)\n",
      "3m 26s (- 3m 16s) (17000 51%)\n",
      "3m 39s (- 3m 4s) (18000 54%)\n",
      "3m 51s (- 2m 51s) (19000 57%)\n",
      "4m 3s (- 2m 39s) (20000 60%)\n",
      "4m 15s (- 2m 27s) (21000 63%)\n",
      "4m 27s (- 2m 15s) (22000 66%)\n",
      "4m 39s (- 2m 3s) (23000 69%)\n",
      "4m 52s (- 1m 50s) (24000 72%)\n",
      "5m 4s (- 1m 38s) (25000 75%)\n",
      "5m 16s (- 1m 26s) (26000 78%)\n",
      "5m 28s (- 1m 14s) (27000 81%)\n",
      "5m 40s (- 1m 2s) (28000 84%)\n",
      "5m 52s (- 0m 50s) (29000 87%)\n",
      "6m 5s (- 0m 37s) (30000 90%)\n",
      "6m 17s (- 0m 25s) (31000 93%)\n",
      "6m 29s (- 0m 13s) (32000 96%)\n",
      "6m 41s (- 0m 1s) (33000 99%)\n",
      "6m 43s (- 0m 0s) (33119 100%)\n"
     ]
    },
    {
     "data": {
      "text/plain": [
       "[0.06742666514649132,\n",
       " 0.012218738846637458,\n",
       " 0.002473850898344968,\n",
       " 0.0005383945733193906]"
      ]
     },
     "execution_count": null,
     "metadata": {},
     "output_type": "execute_result"
    }
   ],
   "source": [
    "RU_BLEU_2 = evaluateBleu(RU_encoder2, RU_attn_decoder2, RU_subsets[1]['input_lang'], RU_subsets[1]['output_lang'], RU_subsets[1]['test_pairs'], RU_MAX_LENGTH)\n",
    "RU_BLEU_2"
   ]
  },
  {
   "cell_type": "markdown",
   "id": "threaded-salmon",
   "metadata": {},
   "source": [
    "### Subset 3"
   ]
  },
  {
   "cell_type": "code",
   "execution_count": null,
   "id": "rational-focus",
   "metadata": {},
   "outputs": [
    {
     "name": "stdout",
     "output_type": "stream",
     "text": [
      "1m 5s (- 9m 46s) (1000 10%) 6.1340\n",
      "2m 9s (- 8m 38s) (2000 20%) 5.6335\n",
      "3m 8s (- 7m 20s) (3000 30%) 5.3200\n",
      "4m 10s (- 6m 15s) (4000 40%) 5.4883\n",
      "5m 10s (- 5m 10s) (5000 50%) 5.3584\n",
      "6m 11s (- 4m 7s) (6000 60%) 5.4013\n",
      "7m 12s (- 3m 5s) (7000 70%) 5.3544\n",
      "8m 15s (- 2m 3s) (8000 80%) 5.3801\n",
      "9m 13s (- 1m 1s) (9000 90%) 5.1893\n",
      "10m 12s (- 0m 0s) (10000 100%) 5.2449\n"
     ]
    },
    {
     "data": {
      "text/plain": [
       "<Figure size 432x288 with 0 Axes>"
      ]
     },
     "metadata": {},
     "output_type": "display_data"
    },
    {
     "data": {
      "image/png": "[encoded data removed]",
      "text/plain": [
       "<Figure size 432x288 with 1 Axes>"
      ]
     },
     "metadata": {
      "needs_background": "light"
     },
     "output_type": "display_data"
    }
   ],
   "source": [
    "RU_encoder3 = EncoderRNN(RU_subsets[2]['input_lang'].n_words,\n",
    "                         hidden_size,\n",
    "                         embedding_size).to(device)\n",
    "RU_attn_decoder3 = AttnDecoderRNN(hidden_size,\n",
    "                                  embedding_size,\n",
    "                                  RU_subsets[2]['output_lang'].n_words,\n",
    "                                  RU_MAX_LENGTH,\n",
    "                                  dropout_p=0.0).to(device)\n",
    "\n",
    "RU_plot_losses_3 = trainIters(RU_encoder3,\n",
    "                              RU_attn_decoder3,\n",
    "                              RU_subsets[2]['train_pairs'],\n",
    "                              RU_subsets[2]['input_lang'],\n",
    "                              RU_subsets[2]['output_lang'],\n",
    "                              10000,\n",
    "                              RU_MAX_LENGTH)"
   ]
  },
  {
   "cell_type": "code",
   "execution_count": null,
   "id": "verified-waterproof",
   "metadata": {},
   "outputs": [],
   "source": [
    "torch.save({\n",
    "  'MAX_LENGTH': RU_MAX_LENGTH,\n",
    "  'hidden_size': hidden_size,\n",
    "  'embedding_size': embedding_size,\n",
    "  'input_lang': RU_subsets[2]['input_lang'],\n",
    "  'output_lang': RU_subsets[2]['output_lang'],\n",
    "  'encoder': RU_encoder3.state_dict(),\n",
    "  'attn_decoder': RU_attn_decoder3.state_dict()\n",
    "}, 'model/RU_10000_S3.pth')"
   ]
  },
  {
   "cell_type": "code",
   "execution_count": null,
   "id": "reserved-nudist",
   "metadata": {},
   "outputs": [
    {
     "data": {
      "text/plain": [
       "<All keys matched successfully>"
      ]
     },
     "execution_count": null,
     "metadata": {},
     "output_type": "execute_result"
    }
   ],
   "source": [
    "checkpoint = torch.load('model/RU_10000_S3.pth')\n",
    "RU_MAX_LENGTH = checkpoint['MAX_LENGTH']\n",
    "embedding_size = checkpoint['embedding_size']\n",
    "hidden_size = checkpoint['hidden_size']\n",
    "RU_subsets[2]['input_lang'] = checkpoint['input_lang']\n",
    "RU_subsets[2]['output_lang'] = checkpoint['output_lang']\n",
    "RU_encoder3 = EncoderRNN(RU_subsets[2]['input_lang'].n_words, hidden_size, embedding_size).to(device)\n",
    "RU_attn_decoder3 = AttnDecoderRNN(hidden_size, embedding_size, RU_subsets[2]['output_lang'].n_words, RU_MAX_LENGTH, dropout_p=0.0).to(device)\n",
    "RU_encoder3.load_state_dict(checkpoint['encoder'])\n",
    "RU_attn_decoder3.load_state_dict(checkpoint['attn_decoder'])"
   ]
  },
  {
   "cell_type": "code",
   "execution_count": null,
   "id": "automatic-inventory",
   "metadata": {},
   "outputs": [],
   "source": [
    "evaluateRandomly(RU_encoder3, RU_attn_decoder3, RU_subsets[2]['input_lang'], RU_subsets[2]['output_lang'], RU_subsets[2]['train_pairs'], RU_MAX_LENGTH, n = 1)"
   ]
  },
  {
   "cell_type": "code",
   "execution_count": null,
   "id": "bigger-conservation",
   "metadata": {},
   "outputs": [
    {
     "name": "stdout",
     "output_type": "stream",
     "text": [
      "0m 15s (- 8m 24s) (1000 3%)\n",
      "0m 31s (- 8m 6s) (2000 6%)\n",
      "0m 46s (- 7m 50s) (3000 9%)\n",
      "1m 2s (- 7m 34s) (4000 12%)\n",
      "1m 17s (- 7m 18s) (5000 15%)\n",
      "1m 33s (- 7m 2s) (6000 18%)\n",
      "1m 49s (- 6m 47s) (7000 21%)\n",
      "2m 4s (- 6m 32s) (8000 24%)\n",
      "2m 20s (- 6m 15s) (9000 27%)\n",
      "2m 35s (- 6m 0s) (10000 30%)\n",
      "2m 51s (- 5m 45s) (11000 33%)\n",
      "3m 7s (- 5m 29s) (12000 36%)\n",
      "3m 23s (- 5m 14s) (13000 39%)\n",
      "3m 38s (- 4m 58s) (14000 42%)\n",
      "3m 54s (- 4m 42s) (15000 45%)\n",
      "4m 9s (- 4m 27s) (16000 48%)\n",
      "4m 25s (- 4m 11s) (17000 51%)\n",
      "4m 41s (- 3m 56s) (18000 54%)\n",
      "4m 56s (- 3m 40s) (19000 57%)\n",
      "5m 12s (- 3m 24s) (20000 60%)\n",
      "5m 28s (- 3m 9s) (21000 63%)\n",
      "5m 43s (- 2m 53s) (22000 66%)\n",
      "5m 59s (- 2m 38s) (23000 69%)\n",
      "6m 15s (- 2m 22s) (24000 72%)\n",
      "6m 30s (- 2m 6s) (25000 75%)\n",
      "6m 45s (- 1m 51s) (26000 78%)\n",
      "7m 1s (- 1m 35s) (27000 81%)\n",
      "7m 16s (- 1m 19s) (28000 84%)\n",
      "7m 32s (- 1m 4s) (29000 87%)\n",
      "7m 48s (- 0m 48s) (30000 90%)\n",
      "8m 3s (- 0m 33s) (31000 93%)\n",
      "8m 19s (- 0m 17s) (32000 96%)\n",
      "8m 34s (- 0m 1s) (33000 99%)\n",
      "8m 36s (- 0m 0s) (33119 100%)\n"
     ]
    },
    {
     "data": {
      "text/plain": [
       "[0.09387306994076298,\n",
       " 0.020826494553856604,\n",
       " 0.0022016273417748058,\n",
       " 9.275549114227222e-80]"
      ]
     },
     "execution_count": null,
     "metadata": {},
     "output_type": "execute_result"
    }
   ],
   "source": [
    "RU_BLEU_3 = evaluateBleu(RU_encoder3, RU_attn_decoder3, RU_subsets[2]['input_lang'], RU_subsets[2]['output_lang'], RU_subsets[2]['test_pairs'], RU_MAX_LENGTH)\n",
    "RU_BLEU_3"
   ]
  },
  {
   "cell_type": "markdown",
   "id": "handmade-brook",
   "metadata": {},
   "source": [
    "### Subset 4"
   ]
  },
  {
   "cell_type": "code",
   "execution_count": null,
   "id": "suspended-reservation",
   "metadata": {},
   "outputs": [
    {
     "name": "stdout",
     "output_type": "stream",
     "text": [
      "1m 1s (- 9m 12s) (1000 10%) 5.8720\n",
      "2m 0s (- 8m 2s) (2000 20%) 5.6727\n",
      "2m 57s (- 6m 55s) (3000 30%) 5.4937\n",
      "3m 54s (- 5m 52s) (4000 40%) 5.2247\n",
      "4m 54s (- 4m 54s) (5000 50%) 5.3822\n",
      "5m 53s (- 3m 55s) (6000 60%) 5.2620\n",
      "6m 53s (- 2m 57s) (7000 70%) 5.3972\n",
      "7m 54s (- 1m 58s) (8000 80%) 5.3781\n",
      "8m 55s (- 0m 59s) (9000 90%) 5.2708\n",
      "9m 56s (- 0m 0s) (10000 100%) 5.2958\n"
     ]
    },
    {
     "data": {
      "text/plain": [
       "<Figure size 432x288 with 0 Axes>"
      ]
     },
     "metadata": {},
     "output_type": "display_data"
    },
    {
     "data": {
      "image/png": "[encoded data removed]",
      "text/plain": [
       "<Figure size 432x288 with 1 Axes>"
      ]
     },
     "metadata": {
      "needs_background": "light"
     },
     "output_type": "display_data"
    }
   ],
   "source": [
    "RU_encoder4 = EncoderRNN(RU_subsets[3]['input_lang'].n_words,\n",
    "                         hidden_size,\n",
    "                         embedding_size).to(device)\n",
    "RU_attn_decoder4 = AttnDecoderRNN(hidden_size,\n",
    "                                  embedding_size,\n",
    "                                  RU_subsets[3]['output_lang'].n_words,\n",
    "                                  RU_MAX_LENGTH,\n",
    "                                  dropout_p=0.0).to(device)\n",
    "\n",
    "RU_plot_losses_4 = trainIters(RU_encoder4,\n",
    "                              RU_attn_decoder4,\n",
    "                              RU_subsets[3]['train_pairs'],\n",
    "                              RU_subsets[3]['input_lang'],\n",
    "                              RU_subsets[3]['output_lang'],\n",
    "                              10000,\n",
    "                              RU_MAX_LENGTH)"
   ]
  },
  {
   "cell_type": "code",
   "execution_count": null,
   "id": "arabic-appraisal",
   "metadata": {},
   "outputs": [],
   "source": [
    "torch.save({\n",
    "  'MAX_LENGTH': RU_MAX_LENGTH,\n",
    "  'hidden_size': hidden_size,\n",
    "  'embedding_size': embedding_size,\n",
    "  'input_lang': RU_subsets[3]['input_lang'],\n",
    "  'output_lang': RU_subsets[3]['output_lang'],\n",
    "  'encoder': RU_encoder4.state_dict(),\n",
    "  'attn_decoder': RU_attn_decoder4.state_dict()\n",
    "}, 'model/RU_10000_S4.pth')"
   ]
  },
  {
   "cell_type": "code",
   "execution_count": null,
   "id": "integrated-buying",
   "metadata": {},
   "outputs": [
    {
     "data": {
      "text/plain": [
       "<All keys matched successfully>"
      ]
     },
     "execution_count": null,
     "metadata": {},
     "output_type": "execute_result"
    }
   ],
   "source": [
    "checkpoint = torch.load('model/RU_10000_S4.pth')\n",
    "RU_MAX_LENGTH = checkpoint['MAX_LENGTH']\n",
    "embedding_size = checkpoint['embedding_size']\n",
    "hidden_size = checkpoint['hidden_size']\n",
    "RU_subsets[3]['input_lang'] = checkpoint['input_lang']\n",
    "RU_subsets[3]['output_lang'] = checkpoint['output_lang']\n",
    "RU_encoder4 = EncoderRNN(RU_subsets[3]['input_lang'].n_words, hidden_size, embedding_size).to(device)\n",
    "RU_attn_decoder4 = AttnDecoderRNN(hidden_size, embedding_size, RU_subsets[3]['output_lang'].n_words, RU_MAX_LENGTH, dropout_p=0.0).to(device)\n",
    "RU_encoder4.load_state_dict(checkpoint['encoder'])\n",
    "RU_attn_decoder4.load_state_dict(checkpoint['attn_decoder'])"
   ]
  },
  {
   "cell_type": "code",
   "execution_count": null,
   "id": "medieval-breakfast",
   "metadata": {},
   "outputs": [],
   "source": [
    "evaluateRandomly(RU_encoder4, RU_attn_decoder4, RU_subsets[3]['input_lang'], RU_subsets[3]['output_lang'], RU_subsets[3]['train_pairs'], RU_MAX_LENGTH, n = 1)"
   ]
  },
  {
   "cell_type": "code",
   "execution_count": null,
   "id": "dying-pierce",
   "metadata": {},
   "outputs": [
    {
     "name": "stdout",
     "output_type": "stream",
     "text": [
      "0m 15s (- 8m 5s) (1000 3%)\n",
      "0m 30s (- 7m 50s) (2000 6%)\n",
      "0m 45s (- 7m 32s) (3000 9%)\n",
      "1m 0s (- 7m 19s) (4000 12%)\n",
      "1m 15s (- 7m 3s) (5000 15%)\n",
      "1m 30s (- 6m 48s) (6000 18%)\n",
      "1m 45s (- 6m 32s) (7000 21%)\n",
      "2m 0s (- 6m 18s) (8000 24%)\n",
      "2m 15s (- 6m 3s) (9000 27%)\n",
      "2m 30s (- 5m 48s) (10000 30%)\n",
      "2m 45s (- 5m 33s) (11000 33%)\n",
      "3m 0s (- 5m 18s) (12000 36%)\n",
      "3m 15s (- 5m 3s) (13000 39%)\n",
      "3m 31s (- 4m 48s) (14000 42%)\n",
      "3m 46s (- 4m 33s) (15000 45%)\n",
      "4m 1s (- 4m 18s) (16000 48%)\n",
      "4m 16s (- 4m 3s) (17000 51%)\n",
      "4m 31s (- 3m 48s) (18000 54%)\n",
      "4m 46s (- 3m 33s) (19000 57%)\n",
      "5m 2s (- 3m 18s) (20000 60%)\n",
      "5m 17s (- 3m 3s) (21000 63%)\n",
      "5m 32s (- 2m 47s) (22000 66%)\n",
      "5m 47s (- 2m 32s) (23000 69%)\n",
      "6m 2s (- 2m 17s) (24000 72%)\n",
      "6m 17s (- 2m 2s) (25000 75%)\n",
      "6m 32s (- 1m 47s) (26000 78%)\n",
      "6m 48s (- 1m 32s) (27000 81%)\n",
      "7m 3s (- 1m 17s) (28000 84%)\n",
      "7m 18s (- 1m 2s) (29000 87%)\n",
      "7m 33s (- 0m 47s) (30000 90%)\n",
      "7m 48s (- 0m 32s) (31000 93%)\n",
      "8m 4s (- 0m 16s) (32000 96%)\n",
      "8m 19s (- 0m 1s) (33000 99%)\n",
      "8m 21s (- 0m 0s) (33119 100%)\n"
     ]
    },
    {
     "data": {
      "text/plain": [
       "[0.08271116275424818,\n",
       " 0.01056125144082931,\n",
       " 0.0019375381037997524,\n",
       " 8.239715343778166e-80]"
      ]
     },
     "execution_count": null,
     "metadata": {},
     "output_type": "execute_result"
    }
   ],
   "source": [
    "RU_BLEU_4 = evaluateBleu(RU_encoder4, RU_attn_decoder4, RU_subsets[3]['input_lang'], RU_subsets[3]['output_lang'], RU_subsets[3]['test_pairs'], RU_MAX_LENGTH)\n",
    "RU_BLEU_4"
   ]
  },
  {
   "cell_type": "markdown",
   "id": "broadband-cause",
   "metadata": {},
   "source": [
    "### Subset 5"
   ]
  },
  {
   "cell_type": "code",
   "execution_count": null,
   "id": "fancy-suggestion",
   "metadata": {},
   "outputs": [
    {
     "name": "stdout",
     "output_type": "stream",
     "text": [
      "1m 3s (- 9m 34s) (1000 10%) 6.0382\n",
      "2m 6s (- 8m 24s) (2000 20%) 5.5256\n",
      "3m 3s (- 7m 7s) (3000 30%) 5.3580\n",
      "4m 6s (- 6m 9s) (4000 40%) 5.5224\n",
      "5m 10s (- 5m 10s) (5000 50%) 5.3226\n",
      "6m 6s (- 4m 4s) (6000 60%) 5.1835\n",
      "7m 7s (- 3m 3s) (7000 70%) 5.2561\n",
      "8m 12s (- 2m 3s) (8000 80%) 5.4230\n",
      "9m 16s (- 1m 1s) (9000 90%) 5.4338\n",
      "10m 20s (- 0m 0s) (10000 100%) 5.3694\n"
     ]
    },
    {
     "data": {
      "text/plain": [
       "<Figure size 432x288 with 0 Axes>"
      ]
     },
     "metadata": {},
     "output_type": "display_data"
    },
    {
     "data": {
      "image/png": "[encoded data removed]",
      "text/plain": [
       "<Figure size 432x288 with 1 Axes>"
      ]
     },
     "metadata": {
      "needs_background": "light"
     },
     "output_type": "display_data"
    }
   ],
   "source": [
    "RU_encoder5 = EncoderRNN(RU_subsets[4]['input_lang'].n_words,\n",
    "                         hidden_size,\n",
    "                         embedding_size).to(device)\n",
    "RU_attn_decoder5 = AttnDecoderRNN(hidden_size,\n",
    "                                  embedding_size,\n",
    "                                  RU_subsets[4]['output_lang'].n_words,\n",
    "                                  RU_MAX_LENGTH,\n",
    "                                  dropout_p=0.0).to(device)\n",
    "\n",
    "RU_plot_losses_5 = trainIters(RU_encoder5,\n",
    "                              RU_attn_decoder5,\n",
    "                              RU_subsets[4]['train_pairs'],\n",
    "                              RU_subsets[4]['input_lang'],\n",
    "                              RU_subsets[4]['output_lang'],\n",
    "                              10000,\n",
    "                              RU_MAX_LENGTH)"
   ]
  },
  {
   "cell_type": "code",
   "execution_count": null,
   "id": "fifth-equilibrium",
   "metadata": {},
   "outputs": [],
   "source": [
    "torch.save({\n",
    "  'MAX_LENGTH': RU_MAX_LENGTH,\n",
    "  'hidden_size': hidden_size,\n",
    "  'embedding_size': embedding_size,\n",
    "  'input_lang': RU_subsets[4]['input_lang'],\n",
    "  'output_lang': RU_subsets[4]['output_lang'],\n",
    "  'encoder': RU_encoder5.state_dict(),\n",
    "  'attn_decoder': RU_attn_decoder5.state_dict()\n",
    "}, 'model/RU_10000_S5.pth')"
   ]
  },
  {
   "cell_type": "code",
   "execution_count": null,
   "id": "young-battery",
   "metadata": {},
   "outputs": [
    {
     "data": {
      "text/plain": [
       "<All keys matched successfully>"
      ]
     },
     "execution_count": null,
     "metadata": {},
     "output_type": "execute_result"
    }
   ],
   "source": [
    "checkpoint = torch.load('model/RU_10000_S5.pth')\n",
    "RU_MAX_LENGTH = checkpoint['MAX_LENGTH']\n",
    "embedding_size = checkpoint['embedding_size']\n",
    "hidden_size = checkpoint['hidden_size']\n",
    "RU_subsets[4]['input_lang'] = checkpoint['input_lang']\n",
    "RU_subsets[4]['output_lang'] = checkpoint['output_lang']\n",
    "RU_encoder5 = EncoderRNN(RU_subsets[4]['input_lang'].n_words, hidden_size, embedding_size).to(device)\n",
    "RU_attn_decoder5 = AttnDecoderRNN(hidden_size, embedding_size, RU_subsets[4]['output_lang'].n_words, RU_MAX_LENGTH, dropout_p=0.0).to(device)\n",
    "RU_encoder5.load_state_dict(checkpoint['encoder'])\n",
    "RU_attn_decoder5.load_state_dict(checkpoint['attn_decoder'])"
   ]
  },
  {
   "cell_type": "code",
   "execution_count": null,
   "id": "introductory-emphasis",
   "metadata": {},
   "outputs": [],
   "source": [
    "evaluateRandomly(RU_encoder5, RU_attn_decoder5, RU_subsets[4]['input_lang'], RU_subsets[4]['output_lang'], RU_subsets[4]['train_pairs'], RU_MAX_LENGTH, n = 1)"
   ]
  },
  {
   "cell_type": "code",
   "execution_count": null,
   "id": "stainless-decade",
   "metadata": {},
   "outputs": [
    {
     "name": "stdout",
     "output_type": "stream",
     "text": [
      "0m 22s (- 11m 54s) (1000 3%)\n",
      "0m 44s (- 11m 30s) (2000 6%)\n",
      "1m 6s (- 11m 8s) (3000 9%)\n",
      "1m 28s (- 10m 46s) (4000 12%)\n",
      "1m 51s (- 10m 24s) (5000 15%)\n",
      "2m 13s (- 10m 2s) (6000 18%)\n",
      "2m 35s (- 9m 39s) (7000 21%)\n",
      "2m 57s (- 9m 17s) (8000 24%)\n",
      "3m 19s (- 8m 54s) (9000 27%)\n",
      "3m 41s (- 8m 31s) (10000 30%)\n",
      "4m 3s (- 8m 10s) (11000 33%)\n",
      "4m 26s (- 7m 48s) (12000 36%)\n",
      "4m 48s (- 7m 26s) (13000 39%)\n",
      "5m 10s (- 7m 3s) (14000 42%)\n",
      "5m 32s (- 6m 41s) (15000 45%)\n",
      "5m 54s (- 6m 19s) (16000 48%)\n",
      "6m 17s (- 5m 57s) (17000 51%)\n",
      "6m 38s (- 5m 35s) (18000 54%)\n",
      "7m 1s (- 5m 12s) (19000 57%)\n",
      "7m 22s (- 4m 50s) (20000 60%)\n",
      "7m 45s (- 4m 28s) (21000 63%)\n",
      "8m 8s (- 4m 6s) (22000 66%)\n",
      "8m 29s (- 3m 44s) (23000 69%)\n",
      "8m 52s (- 3m 22s) (24000 72%)\n",
      "9m 14s (- 2m 59s) (25000 75%)\n",
      "9m 36s (- 2m 37s) (26000 78%)\n",
      "9m 58s (- 2m 15s) (27000 81%)\n",
      "10m 19s (- 1m 53s) (28000 84%)\n",
      "10m 42s (- 1m 31s) (29000 87%)\n",
      "11m 4s (- 1m 9s) (30000 90%)\n",
      "11m 26s (- 0m 47s) (31000 93%)\n",
      "11m 48s (- 0m 24s) (32000 96%)\n",
      "12m 10s (- 0m 2s) (33000 99%)\n",
      "12m 13s (- 0m 0s) (33121 100%)\n"
     ]
    },
    {
     "data": {
      "text/plain": [
       "[0.10947957039816572,\n",
       " 0.023400830638471058,\n",
       " 0.0019193167297556107,\n",
       " 0.00030374814370619474]"
      ]
     },
     "execution_count": null,
     "metadata": {},
     "output_type": "execute_result"
    }
   ],
   "source": [
    "RU_BLEU_5 = evaluateBleu(RU_encoder5, RU_attn_decoder5, RU_subsets[4]['input_lang'], RU_subsets[4]['output_lang'], RU_subsets[4]['test_pairs'], RU_MAX_LENGTH)\n",
    "RU_BLEU_5"
   ]
  },
  {
   "cell_type": "markdown",
   "id": "national-tsunami",
   "metadata": {},
   "source": [
    "### Average BLEU"
   ]
  },
  {
   "cell_type": "code",
   "execution_count": null,
   "id": "prostate-vegetarian",
   "metadata": {},
   "outputs": [
    {
     "data": {
      "text/plain": [
       "array([0.08879474, 0.01852686, 0.00215816, 0.00016843])"
      ]
     },
     "execution_count": null,
     "metadata": {},
     "output_type": "execute_result"
    }
   ],
   "source": [
    "np.average(np.stack((RU_BLEU_1, RU_BLEU_2, RU_BLEU_3, RU_BLEU_4, RU_BLEU_5)), 0)"
   ]
  },
  {
   "cell_type": "markdown",
   "id": "handmade-uncertainty",
   "metadata": {},
   "source": [
    "# Question 2bi."
   ]
  },
  {
   "cell_type": "markdown",
   "id": "hired-forge",
   "metadata": {},
   "source": [
    "There are a few differences in which the AttnDecoderRNN of tutorial 6 defers from the attention decoder of lecture 6.\n",
    "\n",
    "Firstly, the attention decoder of lecture 6 at each decoding step uses the decoder hidden state after passing through the gated recurrent unit layer for computation of the attention scores.  \n",
    "However, the attention decoder of the tutorial computes the attention scores and output before passing through the GRU layer, and as such uses the initial decoder hidden state at each decoding step instead.\n",
    "\n",
    "We see that the attention weights and outputs are calculated first:\n",
    "```Python\n",
    "attn_weights = F.softmax(\n",
    "    self.attn(torch.cat((embedded[0], hidden[0]), 1)), dim=1)\n",
    "attn_applied = torch.bmm(attn_weights.unsqueeze(0),\n",
    "                         encoder_outputs.unsqueeze(0))\n",
    "```\n",
    "Before the intermediate outputs are passed to the GRU layer:\n",
    "```Python\n",
    "output = torch.cat((embedded[0], attn_applied[0]), 1)\n",
    "output = self.attn_combine(output).unsqueeze(0)\n",
    "\n",
    "output = F.relu(output)\n",
    "output, hidden = self.gru(output, hidden)\n",
    "```\n",
    "\n",
    "---\n",
    "Secondly, for calculation of the attention score, the attention decoder of lecture 6 only uses encoder and decoder hidden states for computation of the attention scores, while the attention decoder of the tutorial also uses the input word embedding along with the decoder hidden state to get the intermediate attention scores.\n",
    "\n",
    "Here we see the attention scores computed by concatenating the input embeddings with initial hidden state, and multiplying them with a trainable weight matrix *self.attn* before taking the softmax of the intermediate output to give the attention scores:\n",
    "```Python\n",
    "attn_weights = F.softmax(\n",
    "    self.attn(torch.cat((embedded[0], hidden[0]), 1)), dim=1)\n",
    "```\n",
    "---\n",
    "Thirdly, the attention decoder of lecture 6 takes the softmax of the matrix multiplication between the decoder and encoder hidden states as the attention distribution, which is the simple dot-product score described in Luong2015, with no trainable weights.\n",
    "\n",
    "However, the attention decoder of tutorial 6 has two trainable linear weight matrixes, the first weight matrix, *self.attn*, is for transforming the concatenated input embedding and initial hidden state, while the second weight matrix, *self.attn_combine*, is for tranforming the concatenation of the input embedding and the intermediate attention outputs (after multiplying the first attention scores with the encoder hidden states).\n",
    "\n",
    "First linear transformation:\n",
    "```Python\n",
    "attn_weights = F.softmax(\n",
    "    self.attn(torch.cat((embedded[0], hidden[0]), 1)), dim=1)\n",
    "```\n",
    "\n",
    "Second linear transformation:\n",
    "```Python\n",
    "output = torch.cat((embedded[0], attn_applied[0]), 1)\n",
    "output = self.attn_combine(output).unsqueeze(0)\n",
    "```\n",
    "\n",
    "---\n",
    "The 2 attention decoders are similar in that they do not use the previous step attention outputs at each decoding step for token generation through the GRU layer, though the AttnDecoderRNN of tutorial 6 does return the attn_weights at the end of the forward() function. Supposing we perform attention step after the GRU layer, it should be possible to use the previous attention weights or outputs as additional features for the GRU layer, on top of using the current attention outputs for the final linear layer, as shown in the AttnDecoderRNN here: https://github.com/spro/practical-pytorch/blob/master/seq2seq-translation/seq2seq-translation.ipynb"
   ]
  },
  {
   "cell_type": "markdown",
   "id": "worse-leisure",
   "metadata": {},
   "source": [
    "# Question 2bii."
   ]
  },
  {
   "cell_type": "code",
   "execution_count": null,
   "id": "going-george",
   "metadata": {},
   "outputs": [],
   "source": [
    "class LectureAttnDecoderRNN(nn.Module):\n",
    "    def __init__(self, hidden_size, embedding_size, output_size, dropout_p=0.1):\n",
    "        super(LectureAttnDecoderRNN, self).__init__()\n",
    "        self.hidden_size = hidden_size\n",
    "        self.embedding_size = embedding_size\n",
    "        self.output_size = output_size\n",
    "        self.dropout_p = dropout_p\n",
    "\n",
    "        self.embedding = nn.Embedding(self.output_size, self.embedding_size)\n",
    "        self.dropout = nn.Dropout(self.dropout_p)\n",
    "        self.gru = nn.GRU(self.embedding_size, self.hidden_size)\n",
    "        self.out = nn.Linear(self.hidden_size * 2, self.output_size)\n",
    "\n",
    "    def forward(self, input, hidden, encoder_outputs):\n",
    "        embedded = self.embedding(input).view(1,1,-1)\n",
    "        embedded = self.dropout(embedded)\n",
    "        output = F.relu(embedded)\n",
    "\n",
    "        output, hidden = self.gru(output, hidden)\n",
    "        # Attention scores are the softmax of the simple dot-product\n",
    "        # between encoder and decoder hidden states.\n",
    "        # FOR UNIDIRECTIONAL GRU HERE, OUTPUT AND HIDDEN RETURN TENSORS ARE THE SAME.\n",
    "        attn_weights = torch.bmm(encoder_outputs.unsqueeze(0),\n",
    "                                  output.view(1,-1,1)\n",
    "                                 ).view(1,-1)\n",
    "        attn_weights = F.softmax(attn_weights, dim=1)\n",
    "        # Attention output is attention scores multiplied by encoder hidden states\n",
    "        attn_applied = torch.bmm(attn_weights.unsqueeze(0),\n",
    "                                 encoder_outputs.unsqueeze(0))\n",
    "        # Attention outputs are concatenated with decoder hidden states at the end\n",
    "        output = torch.cat((attn_applied[0], output[0]), 1)\n",
    "        output = self.out(output)\n",
    "        output = F.log_softmax(output, dim=1)\n",
    "        return output, hidden, attn_weights\n",
    "\n",
    "    def initHidden(self):\n",
    "        return torch.zeros(1, 1, self.hidden_size, device=device)"
   ]
  },
  {
   "cell_type": "code",
   "execution_count": null,
   "id": "cognitive-directory",
   "metadata": {},
   "outputs": [],
   "source": [
    "DE_MAX_LENGTH = max([len(a.split(' ')) for a,b in DE_subsets[0]['train_pairs']]\n",
    "                  + [len(a.split(' ')) for a,b in DE_subsets[0]['test_pairs']]) + 1\n",
    "embedding_size = 256\n",
    "hidden_size = 256"
   ]
  },
  {
   "cell_type": "code",
   "execution_count": null,
   "id": "official-elder",
   "metadata": {},
   "outputs": [
    {
     "name": "stdout",
     "output_type": "stream",
     "text": [
      "1m 50s (- 16m 30s) (1000 10%) 6.2431\n",
      "3m 35s (- 14m 21s) (2000 20%) 5.6948\n",
      "5m 20s (- 12m 26s) (3000 30%) 5.6267\n",
      "7m 5s (- 10m 38s) (4000 40%) 5.5017\n",
      "8m 49s (- 8m 49s) (5000 50%) 5.3026\n",
      "10m 39s (- 7m 6s) (6000 60%) 5.4736\n",
      "12m 31s (- 5m 22s) (7000 70%) 5.5618\n",
      "14m 18s (- 3m 34s) (8000 80%) 5.6025\n",
      "16m 9s (- 1m 47s) (9000 90%) 5.5943\n",
      "17m 59s (- 0m 0s) (10000 100%) 5.5911\n"
     ]
    },
    {
     "data": {
      "text/plain": [
       "<Figure size 432x288 with 0 Axes>"
      ]
     },
     "metadata": {},
     "output_type": "display_data"
    },
    {
     "data": {
      "image/png": "[encoded data removed]",
      "text/plain": [
       "<Figure size 432x288 with 1 Axes>"
      ]
     },
     "metadata": {
      "needs_background": "light"
     },
     "output_type": "display_data"
    }
   ],
   "source": [
    "L_encoder1 = EncoderRNN(DE_subsets[0]['input_lang'].n_words,\n",
    "                        hidden_size,\n",
    "                        embedding_size).to(device)\n",
    "L_attn_decoder1 = LectureAttnDecoderRNN(hidden_size,\n",
    "                                        embedding_size,\n",
    "                                        DE_subsets[0]['output_lang'].n_words,\n",
    "                                        dropout_p=0.0).to(device)\n",
    "\n",
    "L_plot_losses_1 = trainIters(L_encoder1,\n",
    "                             L_attn_decoder1,\n",
    "                             DE_subsets[0]['train_pairs'],\n",
    "                             DE_subsets[0]['input_lang'],\n",
    "                             DE_subsets[0]['output_lang'],\n",
    "                             10000,\n",
    "                             DE_MAX_LENGTH)"
   ]
  },
  {
   "cell_type": "code",
   "execution_count": null,
   "id": "broad-product",
   "metadata": {},
   "outputs": [],
   "source": [
    "torch.save({\n",
    "  'MAX_LENGTH': DE_MAX_LENGTH,\n",
    "  'hidden_size': hidden_size,\n",
    "  'embedding_size': embedding_size,\n",
    "  'input_lang': DE_subsets[0]['input_lang'],\n",
    "  'output_lang': DE_subsets[0]['output_lang'],\n",
    "  'encoder': L_encoder1.state_dict(),\n",
    "  'attn_decoder': L_attn_decoder1.state_dict()\n",
    "}, 'model/L_10000_S1.pth')"
   ]
  },
  {
   "cell_type": "code",
   "execution_count": null,
   "id": "surprised-gross",
   "metadata": {},
   "outputs": [
    {
     "data": {
      "text/plain": [
       "<All keys matched successfully>"
      ]
     },
     "execution_count": null,
     "metadata": {},
     "output_type": "execute_result"
    }
   ],
   "source": [
    "checkpoint = torch.load('model/L_10000_S1.pth')\n",
    "DE_MAX_LENGTH = checkpoint['MAX_LENGTH']\n",
    "embedding_size = checkpoint['embedding_size']\n",
    "hidden_size = checkpoint['hidden_size']\n",
    "DE_subsets[0]['input_lang'] = checkpoint['input_lang']\n",
    "DE_subsets[0]['output_lang'] = checkpoint['output_lang']\n",
    "L_encoder1 = EncoderRNN(DE_subsets[0]['input_lang'].n_words, hidden_size, embedding_size).to(device)\n",
    "L_attn_decoder1 = LectureAttnDecoderRNN(hidden_size, embedding_size, DE_subsets[0]['output_lang'].n_words, dropout_p=0.0).to(device)\n",
    "L_encoder1.load_state_dict(checkpoint['encoder'])\n",
    "L_attn_decoder1.load_state_dict(checkpoint['attn_decoder'])"
   ]
  },
  {
   "cell_type": "code",
   "execution_count": null,
   "id": "documentary-angola",
   "metadata": {},
   "outputs": [],
   "source": [
    "evaluateRandomly(L_encoder1, L_attn_decoder1, DE_subsets[0]['input_lang'], DE_subsets[0]['output_lang'], DE_subsets[0]['test_pairs'], DE_MAX_LENGTH, n = 1)"
   ]
  },
  {
   "cell_type": "code",
   "execution_count": null,
   "id": "surprising-colonial",
   "metadata": {},
   "outputs": [
    {
     "name": "stdout",
     "output_type": "stream",
     "text": [
      "0m 31s (- 20m 35s) (1000 2%)\n",
      "1m 3s (- 20m 13s) (2000 4%)\n",
      "1m 35s (- 19m 45s) (3000 7%)\n",
      "2m 5s (- 18m 56s) (4000 9%)\n",
      "2m 35s (- 18m 16s) (5000 12%)\n",
      "3m 5s (- 17m 41s) (6000 14%)\n",
      "3m 36s (- 17m 9s) (7000 17%)\n",
      "4m 5s (- 16m 30s) (8000 19%)\n",
      "4m 32s (- 15m 47s) (9000 22%)\n",
      "5m 2s (- 15m 15s) (10000 24%)\n",
      "5m 31s (- 14m 42s) (11000 27%)\n",
      "6m 0s (- 14m 8s) (12000 29%)\n",
      "6m 30s (- 13m 39s) (13000 32%)\n",
      "7m 0s (- 13m 9s) (14000 34%)\n",
      "7m 32s (- 12m 42s) (15000 37%)\n",
      "8m 2s (- 12m 11s) (16000 39%)\n",
      "8m 32s (- 11m 40s) (17000 42%)\n",
      "9m 2s (- 11m 10s) (18000 44%)\n",
      "9m 32s (- 10m 40s) (19000 47%)\n",
      "10m 2s (- 10m 9s) (20000 49%)\n",
      "10m 32s (- 9m 40s) (21000 52%)\n",
      "11m 2s (- 9m 10s) (22000 54%)\n",
      "11m 31s (- 8m 39s) (23000 57%)\n",
      "11m 59s (- 8m 7s) (24000 59%)\n",
      "12m 29s (- 7m 37s) (25000 62%)\n",
      "12m 58s (- 7m 6s) (26000 64%)\n",
      "13m 28s (- 6m 36s) (27000 67%)\n",
      "13m 58s (- 6m 7s) (28000 69%)\n",
      "14m 28s (- 5m 37s) (29000 72%)\n",
      "14m 52s (- 5m 5s) (30000 74%)\n",
      "15m 22s (- 4m 35s) (31000 77%)\n",
      "15m 52s (- 4m 5s) (32000 79%)\n",
      "16m 22s (- 3m 36s) (33000 81%)\n",
      "16m 52s (- 3m 6s) (34000 84%)\n",
      "17m 23s (- 2m 36s) (35000 86%)\n",
      "17m 53s (- 2m 6s) (36000 89%)\n",
      "18m 23s (- 1m 37s) (37000 91%)\n",
      "18m 52s (- 1m 7s) (38000 94%)\n",
      "19m 22s (- 0m 37s) (39000 96%)\n",
      "19m 52s (- 0m 7s) (40000 99%)\n",
      "19m 59s (- 0m 0s) (40256 100%)\n"
     ]
    },
    {
     "data": {
      "text/plain": [
       "[0.17642394422265412,\n",
       " 0.04700577944264107,\n",
       " 0.008562764428953182,\n",
       " 0.0014762478722133425]"
      ]
     },
     "execution_count": null,
     "metadata": {},
     "output_type": "execute_result"
    }
   ],
   "source": [
    "L_BLEU_1 = evaluateBleu(L_encoder1,\n",
    "                        L_attn_decoder1,\n",
    "                        DE_subsets[0]['input_lang'],\n",
    "                        DE_subsets[0]['output_lang'],\n",
    "                        DE_subsets[0]['test_pairs'],\n",
    "                        DE_MAX_LENGTH)\n",
    "L_BLEU_1"
   ]
  },
  {
   "cell_type": "markdown",
   "id": "velvet-boost",
   "metadata": {},
   "source": [
    "# Question 2biii."
   ]
  },
  {
   "cell_type": "markdown",
   "id": "formed-trunk",
   "metadata": {},
   "source": [
    "## Multiplicative Attention"
   ]
  },
  {
   "cell_type": "code",
   "execution_count": null,
   "id": "closed-greek",
   "metadata": {},
   "outputs": [],
   "source": [
    "class MultiplicativeAttnDecoderRNN(nn.Module):\n",
    "    def __init__(self, hidden_size, embedding_size, output_size, dropout_p=0.1):\n",
    "        super(MultiplicativeAttnDecoderRNN, self).__init__()\n",
    "        self.hidden_size = hidden_size\n",
    "        self.embedding_size = embedding_size\n",
    "        self.output_size = output_size\n",
    "        self.dropout_p = dropout_p\n",
    "\n",
    "        self.embedding = nn.Embedding(self.output_size, self.embedding_size)\n",
    "        self.dropout = nn.Dropout(self.dropout_p)\n",
    "        self.gru = nn.GRU(self.embedding_size, self.hidden_size)\n",
    "        self.attn_W = nn.Linear(self.hidden_size, self.hidden_size)\n",
    "        self.out = nn.Linear(self.hidden_size * 2, self.output_size)\n",
    "\n",
    "    def forward(self, input, hidden, encoder_outputs):\n",
    "        embedded = self.embedding(input).view(1, 1, -1)\n",
    "        embedded = self.dropout(embedded)\n",
    "        output = F.relu(embedded)\n",
    "\n",
    "        output, hidden = self.gru(output, hidden)\n",
    "        # Attention scores are the encoder hidden states multiplied by the\n",
    "        # dot product between the weight matrix and the decoder hidden states.\n",
    "        # FOR UNIDIRECTIONAL GRU HERE, OUTPUT AND HIDDEN RETURN TENSORS ARE THE SAME.\n",
    "        attn_weights = self.attn_W(output)\n",
    "        attn_weights = torch.bmm(encoder_outputs.unsqueeze(0),\n",
    "                                  output.view(1,-1,1)\n",
    "                                 ).view(1,-1)\n",
    "        attn_weights = F.softmax(attn_weights, dim=1)\n",
    "        # Attention output is attention scores multiplied by encoder hidden states\n",
    "        attn_applied = torch.bmm(attn_weights.unsqueeze(0),\n",
    "                                 encoder_outputs.unsqueeze(0))\n",
    "        # Attention outputs are concatenated with decoder hidden states at the end\n",
    "        output = torch.cat((attn_applied[0], output[0]), 1)\n",
    "        output = self.out(output)\n",
    "        output = F.log_softmax(output, dim=1)\n",
    "        return output, hidden, attn_weights\n",
    "\n",
    "    def initHidden(self):\n",
    "        return torch.zeros(1, 1, self.hidden_size, device=device)"
   ]
  },
  {
   "cell_type": "code",
   "execution_count": null,
   "id": "strong-teacher",
   "metadata": {},
   "outputs": [],
   "source": [
    "DE_MAX_LENGTH = max([len(a.split(' ')) for a,b in DE_subsets[0]['train_pairs']]\n",
    "                  + [len(a.split(' ')) for a,b in DE_subsets[0]['test_pairs']]) + 1\n",
    "embedding_size = 256\n",
    "hidden_size = 256"
   ]
  },
  {
   "cell_type": "code",
   "execution_count": null,
   "id": "robust-milan",
   "metadata": {},
   "outputs": [
    {
     "name": "stdout",
     "output_type": "stream",
     "text": [
      "1m 51s (- 16m 42s) (1000 10%) 6.2685\n",
      "3m 45s (- 15m 0s) (2000 20%) 5.8841\n",
      "5m 34s (- 13m 0s) (3000 30%) 5.5778\n",
      "7m 24s (- 11m 6s) (4000 40%) 5.7190\n",
      "9m 16s (- 9m 16s) (5000 50%) 5.6812\n",
      "11m 11s (- 7m 27s) (6000 60%) 5.7026\n",
      "13m 9s (- 5m 38s) (7000 70%) 5.6985\n",
      "15m 8s (- 3m 47s) (8000 80%) 5.8270\n",
      "17m 3s (- 1m 53s) (9000 90%) 5.6932\n",
      "19m 3s (- 0m 0s) (10000 100%) 5.6531\n"
     ]
    },
    {
     "data": {
      "text/plain": [
       "<Figure size 432x288 with 0 Axes>"
      ]
     },
     "metadata": {},
     "output_type": "display_data"
    },
    {
     "data": {
      "image/png": "[encoded data removed]",
      "text/plain": [
       "<Figure size 432x288 with 1 Axes>"
      ]
     },
     "metadata": {
      "needs_background": "light"
     },
     "output_type": "display_data"
    }
   ],
   "source": [
    "M_encoder1 = EncoderRNN(DE_subsets[0]['input_lang'].n_words,\n",
    "                        hidden_size,\n",
    "                        embedding_size).to(device)\n",
    "M_attn_decoder1 = MultiplicativeAttnDecoderRNN(hidden_size,\n",
    "                                               embedding_size,\n",
    "                                               DE_subsets[0]['output_lang'].n_words,\n",
    "                                               dropout_p=0.0).to(device)\n",
    "\n",
    "M_plot_losses_1 = trainIters(M_encoder1,\n",
    "                             M_attn_decoder1,\n",
    "                             DE_subsets[0]['train_pairs'],\n",
    "                             DE_subsets[0]['input_lang'],\n",
    "                             DE_subsets[0]['output_lang'],\n",
    "                             10000,\n",
    "                             DE_MAX_LENGTH)"
   ]
  },
  {
   "cell_type": "code",
   "execution_count": null,
   "id": "czech-volunteer",
   "metadata": {},
   "outputs": [],
   "source": [
    "torch.save({\n",
    "  'MAX_LENGTH': DE_MAX_LENGTH,\n",
    "  'hidden_size': hidden_size,\n",
    "  'embedding_size': embedding_size,\n",
    "  'input_lang': DE_subsets[0]['input_lang'],\n",
    "  'output_lang': DE_subsets[0]['output_lang'],\n",
    "  'encoder': M_encoder1.state_dict(),\n",
    "  'attn_decoder': M_attn_decoder1.state_dict()\n",
    "}, 'model/M_10000_S1.pth')"
   ]
  },
  {
   "cell_type": "code",
   "execution_count": null,
   "id": "received-utility",
   "metadata": {},
   "outputs": [
    {
     "data": {
      "text/plain": [
       "<All keys matched successfully>"
      ]
     },
     "execution_count": null,
     "metadata": {},
     "output_type": "execute_result"
    }
   ],
   "source": [
    "checkpoint = torch.load('model/M_10000_S1.pth')\n",
    "DE_MAX_LENGTH = checkpoint['MAX_LENGTH']\n",
    "embedding_size = checkpoint['embedding_size']\n",
    "hidden_size = checkpoint['hidden_size']\n",
    "DE_subsets[0]['input_lang'] = checkpoint['input_lang']\n",
    "DE_subsets[0]['output_lang'] = checkpoint['output_lang']\n",
    "M_encoder1 = EncoderRNN(DE_subsets[0]['input_lang'].n_words, hidden_size, embedding_size).to(device)\n",
    "M_attn_decoder1 = MultiplicativeAttnDecoderRNN(hidden_size, embedding_size, DE_subsets[0]['output_lang'].n_words, dropout_p=0.0).to(device)\n",
    "M_encoder1.load_state_dict(checkpoint['encoder'])\n",
    "M_attn_decoder1.load_state_dict(checkpoint['attn_decoder'])"
   ]
  },
  {
   "cell_type": "code",
   "execution_count": null,
   "id": "liked-solid",
   "metadata": {},
   "outputs": [],
   "source": [
    "evaluateRandomly(M_encoder1, M_attn_decoder1, DE_subsets[0]['input_lang'], DE_subsets[0]['output_lang'], DE_subsets[0]['test_pairs'], DE_MAX_LENGTH, n = 1)"
   ]
  },
  {
   "cell_type": "code",
   "execution_count": null,
   "id": "outer-burton",
   "metadata": {},
   "outputs": [
    {
     "name": "stdout",
     "output_type": "stream",
     "text": [
      "0m 35s (- 23m 14s) (1000 2%)\n",
      "1m 11s (- 22m 39s) (2000 4%)\n",
      "1m 47s (- 22m 10s) (3000 7%)\n",
      "2m 23s (- 21m 37s) (4000 9%)\n",
      "2m 59s (- 21m 5s) (5000 12%)\n",
      "3m 36s (- 20m 34s) (6000 14%)\n",
      "4m 13s (- 20m 5s) (7000 17%)\n",
      "4m 49s (- 19m 26s) (8000 19%)\n",
      "5m 22s (- 18m 39s) (9000 22%)\n",
      "5m 58s (- 18m 5s) (10000 24%)\n",
      "6m 33s (- 17m 27s) (11000 27%)\n",
      "7m 8s (- 16m 48s) (12000 29%)\n",
      "7m 45s (- 16m 16s) (13000 32%)\n",
      "8m 22s (- 15m 42s) (14000 34%)\n",
      "9m 1s (- 15m 11s) (15000 37%)\n",
      "9m 38s (- 14m 36s) (16000 39%)\n",
      "10m 14s (- 14m 0s) (17000 42%)\n",
      "10m 51s (- 13m 25s) (18000 44%)\n",
      "11m 26s (- 12m 47s) (19000 47%)\n",
      "12m 2s (- 12m 11s) (20000 49%)\n",
      "12m 38s (- 11m 35s) (21000 52%)\n",
      "13m 17s (- 11m 1s) (22000 54%)\n",
      "13m 54s (- 10m 26s) (23000 57%)\n",
      "14m 29s (- 9m 49s) (24000 59%)\n",
      "15m 8s (- 9m 14s) (25000 62%)\n",
      "15m 43s (- 8m 37s) (26000 64%)\n",
      "16m 20s (- 8m 1s) (27000 67%)\n",
      "16m 57s (- 7m 25s) (28000 69%)\n",
      "17m 33s (- 6m 49s) (29000 72%)\n",
      "18m 1s (- 6m 9s) (30000 74%)\n",
      "18m 36s (- 5m 33s) (31000 77%)\n",
      "19m 13s (- 4m 57s) (32000 79%)\n",
      "19m 50s (- 4m 21s) (33000 81%)\n",
      "20m 27s (- 3m 45s) (34000 84%)\n",
      "21m 5s (- 3m 10s) (35000 86%)\n",
      "21m 42s (- 2m 34s) (36000 89%)\n",
      "22m 17s (- 1m 57s) (37000 91%)\n",
      "22m 52s (- 1m 21s) (38000 94%)\n",
      "23m 28s (- 0m 45s) (39000 96%)\n",
      "24m 3s (- 0m 9s) (40000 99%)\n",
      "24m 11s (- 0m 0s) (40256 100%)\n"
     ]
    },
    {
     "data": {
      "text/plain": [
       "[0.19035445225605216,\n",
       " 0.05332326947939018,\n",
       " 0.016476391663392476,\n",
       " 0.004546001060057701]"
      ]
     },
     "execution_count": null,
     "metadata": {},
     "output_type": "execute_result"
    }
   ],
   "source": [
    "M_BLEU_1 = evaluateBleu(M_encoder1,\n",
    "                        M_attn_decoder1,\n",
    "                        DE_subsets[0]['input_lang'],\n",
    "                        DE_subsets[0]['output_lang'],\n",
    "                        DE_subsets[0]['test_pairs'],\n",
    "                        DE_MAX_LENGTH)\n",
    "M_BLEU_1"
   ]
  },
  {
   "cell_type": "markdown",
   "id": "approximate-likelihood",
   "metadata": {},
   "source": [
    "## Additive Attention"
   ]
  },
  {
   "cell_type": "code",
   "execution_count": null,
   "id": "naval-title",
   "metadata": {},
   "outputs": [],
   "source": [
    "class AdditiveAttnDecoderRNN(nn.Module):\n",
    "    def __init__(self, hidden_size, embedding_size, output_size, dropout_p=0.1):\n",
    "        super(AdditiveAttnDecoderRNN, self).__init__()\n",
    "        self.hidden_size = hidden_size\n",
    "        self.embedding_size = embedding_size\n",
    "        self.output_size = output_size\n",
    "        self.dropout_p = dropout_p\n",
    "\n",
    "        self.embedding = nn.Embedding(self.output_size, self.embedding_size)\n",
    "        self.dropout = nn.Dropout(self.dropout_p)\n",
    "        self.gru = nn.GRU(self.embedding_size, self.hidden_size)\n",
    "        self.attn_Wh = nn.Linear(self.hidden_size, self.hidden_size)\n",
    "        self.attn_We = nn.Linear(self.hidden_size, self.hidden_size)\n",
    "        self.attn_v = nn.Parameter(torch.FloatTensor(1, self.hidden_size))\n",
    "        self.out = nn.Linear(self.hidden_size * 2, self.output_size)\n",
    "\n",
    "    def forward(self, input, hidden, encoder_outputs):\n",
    "        embedded = self.embedding(input).view(1, 1, -1)\n",
    "        embedded = self.dropout(embedded)\n",
    "        output = F.relu(embedded)\n",
    "\n",
    "        output, hidden = self.gru(output, hidden)\n",
    "\n",
    "        # Attention scores are computed by first transforming both the decoder\n",
    "        # and encoder hidden states with separate linear transformation matrices.\n",
    "        # They are then summed together and passed through a tanh() function\n",
    "        # before being multiplied by a weight vector v.\n",
    "        # Finally the scores are given by taking the softmax of this result.\n",
    "        # FOR UNIDIRECTIONAL GRU HERE, OUTPUT AND HIDDEN RETURN TENSORS ARE THE SAME.\n",
    "        attn_weights = torch.tanh(self.attn_Wh(output)\n",
    "                                + self.attn_We(encoder_outputs))\n",
    "        attn_weights = attn_weights.bmm(self.attn_v.unsqueeze(2))\n",
    "        attn_weights = F.softmax(attn_weights.view(1,-1), dim=1)\n",
    "        # Attention output is attention scores multiplied by encoder hidden states\n",
    "        attn_applied = torch.bmm(attn_weights.unsqueeze(0),\n",
    "                                 encoder_outputs.unsqueeze(0))\n",
    "        # Attention outputs are concatenated with decoder hidden states at the end\n",
    "        output = torch.cat((attn_applied[0], output[0]), 1)\n",
    "        output = self.out(output)\n",
    "        output = F.log_softmax(output, dim=1)\n",
    "        return output, hidden, attn_weights\n",
    "\n",
    "    def initHidden(self):\n",
    "        return torch.zeros(1, 1, self.hidden_size, device=device)"
   ]
  },
  {
   "cell_type": "code",
   "execution_count": null,
   "id": "reasonable-graduate",
   "metadata": {},
   "outputs": [],
   "source": [
    "DE_MAX_LENGTH = max([len(a.split(' ')) for a,b in DE_subsets[0]['train_pairs']]\n",
    "                  + [len(a.split(' ')) for a,b in DE_subsets[0]['test_pairs']]) + 1\n",
    "embedding_size = 256\n",
    "hidden_size = 256"
   ]
  },
  {
   "cell_type": "code",
   "execution_count": null,
   "id": "collected-people",
   "metadata": {},
   "outputs": [
    {
     "name": "stdout",
     "output_type": "stream",
     "text": [
      "1m 54s (- 17m 13s) (1000 10%) 6.1530\n",
      "3m 54s (- 15m 37s) (2000 20%) 5.8453\n",
      "5m 54s (- 13m 46s) (3000 30%) 5.7816\n",
      "7m 56s (- 11m 55s) (4000 40%) 5.8337\n",
      "10m 2s (- 10m 2s) (5000 50%) 5.7880\n",
      "12m 1s (- 8m 1s) (6000 60%) 5.6586\n",
      "13m 57s (- 5m 58s) (7000 70%) 5.6834\n",
      "15m 56s (- 3m 59s) (8000 80%) 5.6208\n",
      "17m 56s (- 1m 59s) (9000 90%) 5.6343\n",
      "19m 58s (- 0m 0s) (10000 100%) 5.5885\n"
     ]
    },
    {
     "data": {
      "text/plain": [
       "<Figure size 432x288 with 0 Axes>"
      ]
     },
     "metadata": {},
     "output_type": "display_data"
    },
    {
     "data": {
      "image/png": "[encoded data removed]",
      "text/plain": [
       "<Figure size 432x288 with 1 Axes>"
      ]
     },
     "metadata": {
      "needs_background": "light"
     },
     "output_type": "display_data"
    }
   ],
   "source": [
    "A_encoder1 = EncoderRNN(DE_subsets[0]['input_lang'].n_words,\n",
    "                        hidden_size,\n",
    "                        embedding_size).to(device)\n",
    "A_attn_decoder1 = AdditiveAttnDecoderRNN(hidden_size,\n",
    "                                         embedding_size,\n",
    "                                         DE_subsets[0]['output_lang'].n_words,\n",
    "                                         dropout_p=0.0).to(device)\n",
    "\n",
    "A_plot_losses_1 = trainIters(A_encoder1,\n",
    "                             A_attn_decoder1,\n",
    "                             DE_subsets[0]['train_pairs'],\n",
    "                             DE_subsets[0]['input_lang'],\n",
    "                             DE_subsets[0]['output_lang'],\n",
    "                             10000,\n",
    "                             DE_MAX_LENGTH)"
   ]
  },
  {
   "cell_type": "code",
   "execution_count": null,
   "id": "activated-texas",
   "metadata": {},
   "outputs": [],
   "source": [
    "torch.save({\n",
    "  'MAX_LENGTH': DE_MAX_LENGTH,\n",
    "  'hidden_size': hidden_size,\n",
    "  'embedding_size': embedding_size,\n",
    "  'input_lang': DE_subsets[0]['input_lang'],\n",
    "  'output_lang': DE_subsets[0]['output_lang'],\n",
    "  'encoder': A_encoder1.state_dict(),\n",
    "  'attn_decoder': A_attn_decoder1.state_dict()\n",
    "}, 'model/A_10000_S1.pth')"
   ]
  },
  {
   "cell_type": "code",
   "execution_count": null,
   "id": "behind-spell",
   "metadata": {},
   "outputs": [
    {
     "data": {
      "text/plain": [
       "<All keys matched successfully>"
      ]
     },
     "execution_count": null,
     "metadata": {},
     "output_type": "execute_result"
    }
   ],
   "source": [
    "checkpoint = torch.load('model/A_10000_S1.pth')\n",
    "DE_MAX_LENGTH = checkpoint['MAX_LENGTH']\n",
    "embedding_size = checkpoint['embedding_size']\n",
    "hidden_size = checkpoint['hidden_size']\n",
    "DE_subsets[0]['input_lang'] = checkpoint['input_lang']\n",
    "DE_subsets[0]['output_lang'] = checkpoint['output_lang']\n",
    "A_encoder1 = EncoderRNN(DE_subsets[0]['input_lang'].n_words, hidden_size, embedding_size).to(device)\n",
    "A_attn_decoder1 = AdditiveAttnDecoderRNN(hidden_size, embedding_size, DE_subsets[0]['output_lang'].n_words, dropout_p=0.0).to(device)\n",
    "A_encoder1.load_state_dict(checkpoint['encoder'])\n",
    "A_attn_decoder1.load_state_dict(checkpoint['attn_decoder'])"
   ]
  },
  {
   "cell_type": "code",
   "execution_count": null,
   "id": "hourly-exposure",
   "metadata": {},
   "outputs": [],
   "source": [
    "evaluateRandomly(A_encoder1, A_attn_decoder1, DE_subsets[0]['input_lang'], DE_subsets[0]['output_lang'], DE_subsets[0]['test_pairs'], DE_MAX_LENGTH, n = 1)"
   ]
  },
  {
   "cell_type": "code",
   "execution_count": null,
   "id": "cutting-subject",
   "metadata": {},
   "outputs": [
    {
     "name": "stdout",
     "output_type": "stream",
     "text": [
      "0m 33s (- 22m 2s) (1000 2%)\n",
      "1m 7s (- 21m 35s) (2000 4%)\n",
      "1m 41s (- 20m 55s) (3000 7%)\n",
      "2m 15s (- 20m 25s) (4000 9%)\n",
      "2m 49s (- 19m 56s) (5000 12%)\n",
      "3m 24s (- 19m 29s) (6000 14%)\n",
      "4m 0s (- 19m 1s) (7000 17%)\n",
      "4m 33s (- 18m 21s) (8000 19%)\n",
      "5m 4s (- 17m 37s) (9000 22%)\n",
      "5m 38s (- 17m 4s) (10000 24%)\n",
      "6m 11s (- 16m 28s) (11000 27%)\n",
      "6m 44s (- 15m 52s) (12000 29%)\n",
      "7m 19s (- 15m 21s) (13000 32%)\n",
      "7m 53s (- 14m 48s) (14000 34%)\n",
      "8m 29s (- 14m 17s) (15000 37%)\n",
      "9m 3s (- 13m 43s) (16000 39%)\n",
      "9m 38s (- 13m 10s) (17000 42%)\n",
      "10m 12s (- 12m 37s) (18000 44%)\n",
      "10m 46s (- 12m 2s) (19000 47%)\n",
      "11m 19s (- 11m 28s) (20000 49%)\n",
      "11m 53s (- 10m 54s) (21000 52%)\n",
      "12m 28s (- 10m 20s) (22000 54%)\n",
      "13m 0s (- 9m 45s) (23000 57%)\n",
      "13m 32s (- 9m 10s) (24000 59%)\n",
      "14m 6s (- 8m 36s) (25000 62%)\n",
      "14m 39s (- 8m 2s) (26000 64%)\n",
      "15m 13s (- 7m 28s) (27000 67%)\n",
      "15m 48s (- 6m 55s) (28000 69%)\n",
      "16m 21s (- 6m 21s) (29000 72%)\n",
      "16m 47s (- 5m 44s) (30000 74%)\n",
      "17m 21s (- 5m 10s) (31000 77%)\n",
      "17m 55s (- 4m 37s) (32000 79%)\n",
      "18m 28s (- 4m 3s) (33000 81%)\n",
      "19m 1s (- 3m 30s) (34000 84%)\n",
      "19m 36s (- 2m 56s) (35000 86%)\n",
      "20m 10s (- 2m 23s) (36000 89%)\n",
      "20m 44s (- 1m 49s) (37000 91%)\n",
      "21m 17s (- 1m 15s) (38000 94%)\n",
      "21m 51s (- 0m 42s) (39000 96%)\n",
      "22m 24s (- 0m 8s) (40000 99%)\n",
      "22m 33s (- 0m 0s) (40256 100%)\n"
     ]
    },
    {
     "data": {
      "text/plain": [
       "[0.13881142743035974,\n",
       " 0.03873483697585759,\n",
       " 0.009306489420980023,\n",
       " 0.0021108970840210245]"
      ]
     },
     "execution_count": null,
     "metadata": {},
     "output_type": "execute_result"
    }
   ],
   "source": [
    "A_BLEU_1 = evaluateBleu(A_encoder1,\n",
    "                        A_attn_decoder1,\n",
    "                        DE_subsets[0]['input_lang'],\n",
    "                        DE_subsets[0]['output_lang'],\n",
    "                        DE_subsets[0]['test_pairs'],\n",
    "                        DE_MAX_LENGTH)\n",
    "A_BLEU_1"
   ]
  },
  {
   "cell_type": "markdown",
   "id": "african-france",
   "metadata": {},
   "source": [
    "## LSTM Variants"
   ]
  },
  {
   "cell_type": "code",
   "execution_count": null,
   "id": "stunning-violation",
   "metadata": {},
   "outputs": [],
   "source": [
    "class LSTMEncoderRNN(nn.Module):\n",
    "    def __init__(self, input_size, hidden_size, embedding_size):\n",
    "        super(LSTMEncoderRNN, self).__init__()\n",
    "        self.hidden_size = hidden_size\n",
    "        self.embedding_size = embedding_size\n",
    "\n",
    "        self.embedding = nn.Embedding(input_size, embedding_size)\n",
    "        self.gru = nn.LSTM(embedding_size, hidden_size)\n",
    "\n",
    "    def forward(self, input, hidden):\n",
    "        embedded = self.embedding(input).view(1, 1, -1)\n",
    "        output = embedded\n",
    "        output, hidden = self.gru(output, hidden)\n",
    "        return output, hidden\n",
    "\n",
    "    def initHidden(self):\n",
    "        return (torch.zeros(1, 1, self.hidden_size, device=device),\n",
    "                torch.zeros(1, 1, self.hidden_size, device=device))"
   ]
  },
  {
   "cell_type": "code",
   "execution_count": null,
   "id": "macro-television",
   "metadata": {},
   "outputs": [],
   "source": [
    "class LectureAttnDecoderRNN(nn.Module):\n",
    "    def __init__(self, hidden_size, embedding_size, output_size, dropout_p=0.1):\n",
    "        super(LectureAttnDecoderRNN, self).__init__()\n",
    "        self.hidden_size = hidden_size\n",
    "        self.embedding_size = embedding_size\n",
    "        self.output_size = output_size\n",
    "        self.dropout_p = dropout_p\n",
    "\n",
    "        self.embedding = nn.Embedding(self.output_size, self.embedding_size)\n",
    "        self.dropout = nn.Dropout(self.dropout_p)\n",
    "        self.gru = nn.LSTM(self.embedding_size, self.hidden_size)\n",
    "        self.out = nn.Linear(self.hidden_size * 2, self.output_size)\n",
    "\n",
    "    def forward(self, input, hidden, encoder_outputs):\n",
    "        embedded = self.embedding(input).view(1,1,-1)\n",
    "        embedded = self.dropout(embedded)\n",
    "        output = F.relu(embedded)\n",
    "\n",
    "        output, hidden = self.gru(output, hidden)\n",
    "        # Attention scores are the softmax of the simple dot product between encoder and decoder hidden states.\n",
    "        attn_weights = torch.bmm(encoder_outputs.unsqueeze(0),\n",
    "                                  output.view(1,-1,1)\n",
    "                                 ).view(1,-1)\n",
    "        attn_weights = F.softmax(attn_weights, dim=1)\n",
    "        # Attention output is attention scores multiplied by encoder hidden states\n",
    "        attn_applied = torch.bmm(attn_weights.unsqueeze(0),\n",
    "                                 encoder_outputs.unsqueeze(0))\n",
    "        # Attention outputs are concatenated with decoder hidden states at the end\n",
    "        output = torch.cat((attn_applied[0], output[0]), 1)\n",
    "        output = self.out(output)\n",
    "        output = F.log_softmax(output, dim=1)\n",
    "        return output, hidden, attn_weights\n",
    "\n",
    "    def initHidden(self):\n",
    "        return torch.zeros(1, 1, self.hidden_size, device=device)"
   ]
  },
  {
   "cell_type": "code",
   "execution_count": null,
   "id": "mighty-alabama",
   "metadata": {},
   "outputs": [],
   "source": [
    "class MultiplicativeAttnDecoderRNN(nn.Module):\n",
    "    def __init__(self, hidden_size, embedding_size, output_size, dropout_p=0.1):\n",
    "        super(MultiplicativeAttnDecoderRNN, self).__init__()\n",
    "        self.hidden_size = hidden_size\n",
    "        self.embedding_size = embedding_size\n",
    "        self.output_size = output_size\n",
    "        self.dropout_p = dropout_p\n",
    "\n",
    "        self.embedding = nn.Embedding(self.output_size, self.embedding_size)\n",
    "        self.dropout = nn.Dropout(self.dropout_p)\n",
    "        self.gru = nn.LSTM(self.embedding_size, self.hidden_size)\n",
    "        self.attn_W = nn.Linear(self.hidden_size, self.hidden_size)\n",
    "        self.out = nn.Linear(self.hidden_size * 2, self.output_size)\n",
    "\n",
    "    def forward(self, input, hidden, encoder_outputs):\n",
    "        embedded = self.embedding(input).view(1, 1, -1)\n",
    "        embedded = self.dropout(embedded)\n",
    "        output = F.relu(embedded)\n",
    "\n",
    "        output, hidden = self.gru(output, hidden)\n",
    "        # Attention scores are the encoder hidden states multiplied by the dot product between the weight matrix and the decoder hidden states.\n",
    "        attn_weights = self.attn_W(output)\n",
    "        attn_weights = torch.bmm(encoder_outputs.unsqueeze(0),\n",
    "                                  output.view(1,-1,1)\n",
    "                                 ).view(1,-1)\n",
    "        attn_weights = F.softmax(attn_weights, dim=1)\n",
    "        # Attention output is attention scores multiplied by encoder hidden states\n",
    "        attn_applied = torch.bmm(attn_weights.unsqueeze(0),\n",
    "                                 encoder_outputs.unsqueeze(0))\n",
    "        # Attention outputs are concatenated with decoder hidden states at the end\n",
    "        output = torch.cat((attn_applied[0], output[0]), 1)\n",
    "        output = self.out(output)\n",
    "        output = F.log_softmax(output, dim=1)\n",
    "        return output, hidden, attn_weights\n",
    "\n",
    "    def initHidden(self):\n",
    "        return torch.zeros(1, 1, self.hidden_size, device=device)"
   ]
  },
  {
   "cell_type": "code",
   "execution_count": null,
   "id": "racial-martial",
   "metadata": {},
   "outputs": [],
   "source": [
    "class AdditiveAttnDecoderRNN(nn.Module):\n",
    "    def __init__(self, hidden_size, embedding_size, output_size, dropout_p=0.1):\n",
    "        super(AdditiveAttnDecoderRNN, self).__init__()\n",
    "        self.hidden_size = hidden_size\n",
    "        self.embedding_size = embedding_size\n",
    "        self.output_size = output_size\n",
    "        self.dropout_p = dropout_p\n",
    "\n",
    "        self.embedding = nn.Embedding(self.output_size, self.embedding_size)\n",
    "        self.dropout = nn.Dropout(self.dropout_p)\n",
    "        self.gru = nn.LSTM(self.embedding_size, self.hidden_size)\n",
    "        self.attn_Wh = nn.Linear(self.hidden_size, self.hidden_size)\n",
    "        self.attn_We = nn.Linear(self.hidden_size, self.hidden_size)\n",
    "        self.attn_v = nn.Parameter(torch.FloatTensor(1, self.hidden_size))\n",
    "        self.out = nn.Linear(self.hidden_size * 2, self.output_size)\n",
    "\n",
    "    def forward(self, input, hidden, encoder_outputs):\n",
    "        embedded = self.embedding(input).view(1, 1, -1)\n",
    "        embedded = self.dropout(embedded)\n",
    "        output = F.relu(embedded)\n",
    "\n",
    "        output, hidden = self.gru(output, hidden)\n",
    "\n",
    "        # Attention scores are computed by first transforming both the decoder and encoder hidden states with separate linear transformation matrices.\n",
    "        # They are summed together and passed through a tanh() function before being multiplied by a weight vector v\n",
    "        # Finally the scores are given by taking the softmax of the intermediate output.\n",
    "        attn_weights = torch.tanh(self.attn_Wh(output) + self.attn_We(encoder_outputs))\n",
    "        attn_weights = attn_weights.bmm(self.attn_v.unsqueeze(2))\n",
    "        attn_weights = F.softmax(attn_weights.view(1,-1), dim=1)\n",
    "        # Attention output is attention scores multiplied by encoder hidden states\n",
    "        attn_applied = torch.bmm(attn_weights.unsqueeze(0),\n",
    "                                 encoder_outputs.unsqueeze(0))\n",
    "        # Attention outputs are concatenated with decoder hidden states at the end\n",
    "        output = torch.cat((attn_applied[0], output[0]), 1)\n",
    "        output = self.out(output)\n",
    "        output = F.log_softmax(output, dim=1)\n",
    "        return output, hidden, attn_weights\n",
    "\n",
    "    def initHidden(self):\n",
    "        return torch.zeros(1, 1, self.hidden_size, device=device)"
   ]
  },
  {
   "cell_type": "code",
   "execution_count": null,
   "id": "established-greenhouse",
   "metadata": {},
   "outputs": [],
   "source": [
    "DE_MAX_LENGTH = max([len(a.split(' ')) for a,b in DE_subsets[0]['train_pairs']]\n",
    "                  + [len(a.split(' ')) for a,b in DE_subsets[0]['test_pairs']]) + 1\n",
    "embedding_size = 256\n",
    "hidden_size = 256"
   ]
  },
  {
   "cell_type": "code",
   "execution_count": null,
   "id": "conservative-trace",
   "metadata": {},
   "outputs": [
    {
     "name": "stdout",
     "output_type": "stream",
     "text": [
      "1m 48s (- 16m 19s) (1000 10%) 6.1851\n",
      "3m 35s (- 14m 23s) (2000 20%) 5.8426\n",
      "5m 19s (- 12m 25s) (3000 30%) 5.4819\n",
      "7m 0s (- 10m 31s) (4000 40%) 5.5513\n",
      "8m 48s (- 8m 48s) (5000 50%) 5.6583\n",
      "10m 33s (- 7m 2s) (6000 60%) 5.5227\n",
      "12m 17s (- 5m 16s) (7000 70%) 5.4384\n",
      "14m 2s (- 3m 30s) (8000 80%) 5.5098\n",
      "15m 43s (- 1m 44s) (9000 90%) 5.4808\n",
      "17m 27s (- 0m 0s) (10000 100%) 5.4640\n"
     ]
    },
    {
     "data": {
      "text/plain": [
       "<Figure size 432x288 with 0 Axes>"
      ]
     },
     "metadata": {},
     "output_type": "display_data"
    },
    {
     "data": {
      "image/png": "[encoded data removed]",
      "text/plain": [
       "<Figure size 432x288 with 1 Axes>"
      ]
     },
     "metadata": {
      "needs_background": "light"
     },
     "output_type": "display_data"
    }
   ],
   "source": [
    "L_encoder2 = LSTMEncoderRNN(DE_subsets[0]['input_lang'].n_words,\n",
    "                               hidden_size,\n",
    "                               embedding_size).to(device)\n",
    "L_attn_decoder2 = LectureAttnDecoderRNN(hidden_size,\n",
    "                                        embedding_size,\n",
    "                                        DE_subsets[0]['output_lang'].n_words,\n",
    "                                        dropout_p=0.0).to(device)\n",
    "\n",
    "L_plot_losses_2 = trainIters(L_encoder2,\n",
    "                             L_attn_decoder2,\n",
    "                             DE_subsets[0]['train_pairs'],\n",
    "                             DE_subsets[0]['input_lang'],\n",
    "                             DE_subsets[0]['output_lang'],\n",
    "                             10000,\n",
    "                             DE_MAX_LENGTH)"
   ]
  },
  {
   "cell_type": "code",
   "execution_count": null,
   "id": "german-element",
   "metadata": {},
   "outputs": [],
   "source": [
    "torch.save({\n",
    "  'MAX_LENGTH': DE_MAX_LENGTH,\n",
    "  'hidden_size': hidden_size,\n",
    "  'embedding_size': embedding_size,\n",
    "  'input_lang': DE_subsets[0]['input_lang'],\n",
    "  'output_lang': DE_subsets[0]['output_lang'],\n",
    "  'encoder': L_encoder2.state_dict(),\n",
    "  'attn_decoder': L_attn_decoder2.state_dict()\n",
    "}, 'model/L2_10000_S1.pth')"
   ]
  },
  {
   "cell_type": "code",
   "execution_count": null,
   "id": "color-ozone",
   "metadata": {},
   "outputs": [
    {
     "data": {
      "text/plain": [
       "<All keys matched successfully>"
      ]
     },
     "execution_count": null,
     "metadata": {},
     "output_type": "execute_result"
    }
   ],
   "source": [
    "checkpoint = torch.load('model/L2_10000_S1.pth')\n",
    "DE_MAX_LENGTH = checkpoint['MAX_LENGTH']\n",
    "embedding_size = checkpoint['embedding_size']\n",
    "hidden_size = checkpoint['hidden_size']\n",
    "DE_subsets[0]['input_lang'] = checkpoint['input_lang']\n",
    "DE_subsets[0]['output_lang'] = checkpoint['output_lang']\n",
    "L_encoder2 = LSTMEncoderRNN(DE_subsets[0]['input_lang'].n_words, hidden_size, embedding_size).to(device)\n",
    "L_attn_decoder2 = LectureAttnDecoderRNN(hidden_size, embedding_size, DE_subsets[0]['output_lang'].n_words, dropout_p=0.0).to(device)\n",
    "L_encoder2.load_state_dict(checkpoint['encoder'])\n",
    "L_attn_decoder2.load_state_dict(checkpoint['attn_decoder'])"
   ]
  },
  {
   "cell_type": "code",
   "execution_count": null,
   "id": "inclusive-plaza",
   "metadata": {},
   "outputs": [
    {
     "name": "stdout",
     "output_type": "stream",
     "text": [
      "0m 34s (- 22m 19s) (1000 2%)\n",
      "1m 10s (- 22m 32s) (2000 4%)\n",
      "1m 44s (- 21m 31s) (3000 7%)\n",
      "2m 20s (- 21m 9s) (4000 9%)\n",
      "3m 0s (- 21m 15s) (5000 12%)\n",
      "3m 37s (- 20m 42s) (6000 14%)\n",
      "4m 17s (- 20m 22s) (7000 17%)\n",
      "4m 52s (- 19m 39s) (8000 19%)\n",
      "5m 25s (- 18m 51s) (9000 22%)\n",
      "6m 1s (- 18m 14s) (10000 24%)\n",
      "6m 37s (- 17m 37s) (11000 27%)\n",
      "7m 13s (- 17m 1s) (12000 29%)\n",
      "7m 50s (- 16m 25s) (13000 32%)\n",
      "8m 22s (- 15m 42s) (14000 34%)\n",
      "8m 57s (- 15m 5s) (15000 37%)\n",
      "9m 28s (- 14m 22s) (16000 39%)\n",
      "10m 4s (- 13m 46s) (17000 42%)\n",
      "10m 38s (- 13m 9s) (18000 44%)\n",
      "11m 14s (- 12m 34s) (19000 47%)\n",
      "11m 49s (- 11m 58s) (20000 49%)\n",
      "12m 27s (- 11m 25s) (21000 52%)\n",
      "13m 2s (- 10m 49s) (22000 54%)\n",
      "13m 35s (- 10m 11s) (23000 57%)\n",
      "14m 10s (- 9m 35s) (24000 59%)\n",
      "14m 50s (- 9m 3s) (25000 62%)\n",
      "15m 25s (- 8m 27s) (26000 64%)\n",
      "16m 1s (- 7m 52s) (27000 67%)\n",
      "16m 36s (- 7m 16s) (28000 69%)\n",
      "17m 16s (- 6m 42s) (29000 72%)\n",
      "17m 45s (- 6m 4s) (30000 74%)\n",
      "18m 26s (- 5m 30s) (31000 77%)\n",
      "19m 2s (- 4m 54s) (32000 79%)\n",
      "19m 39s (- 4m 19s) (33000 81%)\n",
      "20m 16s (- 3m 43s) (34000 84%)\n",
      "20m 52s (- 3m 8s) (35000 86%)\n",
      "21m 26s (- 2m 32s) (36000 89%)\n",
      "22m 4s (- 1m 56s) (37000 91%)\n",
      "22m 41s (- 1m 20s) (38000 94%)\n",
      "23m 18s (- 0m 45s) (39000 96%)\n",
      "23m 58s (- 0m 9s) (40000 99%)\n",
      "24m 6s (- 0m 0s) (40256 100%)\n"
     ]
    },
    {
     "data": {
      "text/plain": [
       "[0.10560411996996312,\n",
       " 0.017854426699575498,\n",
       " 0.0011149779042773566,\n",
       " 6.971146810056877e-80]"
      ]
     },
     "execution_count": null,
     "metadata": {},
     "output_type": "execute_result"
    }
   ],
   "source": [
    "L_BLEU_2 = evaluateBleu(L_encoder2,\n",
    "                        L_attn_decoder2,\n",
    "                        DE_subsets[0]['input_lang'],\n",
    "                        DE_subsets[0]['output_lang'],\n",
    "                        DE_subsets[0]['test_pairs'],\n",
    "                        DE_MAX_LENGTH)\n",
    "L_BLEU_2"
   ]
  }
 ],
 "metadata": {
  "kernelspec": {
   "display_name": "Python 3",
   "language": "python",
   "name": "python3"
  },
  "language_info": {
   "codemirror_mode": {
    "name": "ipython",
    "version": 3
   },
   "file_extension": ".py",
   "mimetype": "text/x-python",
   "name": "python",
   "nbconvert_exporter": "python",
   "pygments_lexer": "ipython3",
   "version": "3.8.7"
  }
 },
 "nbformat": 4,
 "nbformat_minor": 5
}
